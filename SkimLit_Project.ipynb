{
 "cells": [
  {
   "cell_type": "code",
   "execution_count": 1,
   "metadata": {
    "colab": {
     "base_uri": "https://localhost:8080/"
    },
    "id": "zGjL1DwkZSqg",
    "outputId": "0ced454f-130b-4a8e-bc49-4807614adb4c"
   },
   "outputs": [
    {
     "name": "stdout",
     "output_type": "stream",
     "text": [
      "GPU 0: Tesla K80 (UUID: GPU-c68eec49-76d0-f467-c6e6-9875e63f81a6)\n"
     ]
    }
   ],
   "source": [
    "!nvidia-smi -L"
   ]
  },
  {
   "cell_type": "code",
   "execution_count": 2,
   "metadata": {
    "colab": {
     "base_uri": "https://localhost:8080/"
    },
    "id": "lNtnkl7N6-dG",
    "outputId": "7b04cb5d-2663-4071-920e-4c25c5ec06ec"
   },
   "outputs": [
    {
     "name": "stdout",
     "output_type": "stream",
     "text": [
      "Cloning into 'pubmed-rct'...\n",
      "remote: Enumerating objects: 33, done.\u001b[K\n",
      "remote: Counting objects: 100% (3/3), done.\u001b[K\n",
      "remote: Compressing objects: 100% (3/3), done.\u001b[K\n",
      "remote: Total 33 (delta 0), reused 0 (delta 0), pack-reused 30\u001b[K\n",
      "Unpacking objects: 100% (33/33), done.\n",
      "PubMed_200k_RCT\n",
      "PubMed_200k_RCT_numbers_replaced_with_at_sign\n",
      "PubMed_20k_RCT\n",
      "PubMed_20k_RCT_numbers_replaced_with_at_sign\n",
      "README.md\n"
     ]
    }
   ],
   "source": [
    "!git clone https://github.com/Franck-Dernoncourt/pubmed-rct.git\n",
    "!ls pubmed-rct"
   ]
  },
  {
   "cell_type": "code",
   "execution_count": 3,
   "metadata": {
    "colab": {
     "base_uri": "https://localhost:8080/"
    },
    "id": "qOUZZ6lU7X3o",
    "outputId": "544e1382-79e5-4a5b-9553-f279918d89a9"
   },
   "outputs": [
    {
     "name": "stdout",
     "output_type": "stream",
     "text": [
      "dev.txt  test.txt  train.txt\n"
     ]
    }
   ],
   "source": [
    "# Check what files are in the PubMed_20K dataset \n",
    "!ls pubmed-rct/PubMed_20k_RCT_numbers_replaced_with_at_sign"
   ]
  },
  {
   "cell_type": "code",
   "execution_count": 4,
   "metadata": {
    "id": "JOXH5vfX8KCG"
   },
   "outputs": [],
   "source": [
    "# Start by using the 20k dataset\n",
    "data_dir = \"pubmed-rct/PubMed_20k_RCT_numbers_replaced_with_at_sign/\""
   ]
  },
  {
   "cell_type": "code",
   "execution_count": 5,
   "metadata": {
    "colab": {
     "base_uri": "https://localhost:8080/"
    },
    "id": "SULo4GGV8WkJ",
    "outputId": "3720bfd7-d52b-4fb5-aaf9-0b40650c6ba1"
   },
   "outputs": [
    {
     "data": {
      "text/plain": [
       "['pubmed-rct/PubMed_20k_RCT_numbers_replaced_with_at_sign/train.txt',\n",
       " 'pubmed-rct/PubMed_20k_RCT_numbers_replaced_with_at_sign/dev.txt',\n",
       " 'pubmed-rct/PubMed_20k_RCT_numbers_replaced_with_at_sign/test.txt']"
      ]
     },
     "execution_count": 5,
     "metadata": {},
     "output_type": "execute_result"
    }
   ],
   "source": [
    "import os\n",
    "filenames = [data_dir + filename for filename in os.listdir(data_dir)]\n",
    "filenames"
   ]
  },
  {
   "cell_type": "code",
   "execution_count": 6,
   "metadata": {
    "id": "6SAVjtMb88KQ"
   },
   "outputs": [],
   "source": [
    "def get_lines(filename):\n",
    "  with open(filename,'r') as f:\n",
    "    return f.readlines()"
   ]
  },
  {
   "cell_type": "code",
   "execution_count": 7,
   "metadata": {
    "colab": {
     "base_uri": "https://localhost:8080/"
    },
    "id": "lf2B6-E4-UkB",
    "outputId": "6770dc42-c6bd-40d0-f939-274284c893c9"
   },
   "outputs": [
    {
     "data": {
      "text/plain": [
       "['###24293578\\n',\n",
       " 'OBJECTIVE\\tTo investigate the efficacy of @ weeks of daily low-dose oral prednisolone in improving pain , mobility , and systemic low-grade inflammation in the short term and whether the effect would be sustained at @ weeks in older adults with moderate to severe knee osteoarthritis ( OA ) .\\n',\n",
       " 'METHODS\\tA total of @ patients with primary knee OA were randomized @:@ ; @ received @ mg/day of prednisolone and @ received placebo for @ weeks .\\n',\n",
       " 'METHODS\\tOutcome measures included pain reduction and improvement in function scores and systemic inflammation markers .\\n',\n",
       " 'METHODS\\tPain was assessed using the visual analog pain scale ( @-@ mm ) .\\n',\n",
       " 'METHODS\\tSecondary outcome measures included the Western Ontario and McMaster Universities Osteoarthritis Index scores , patient global assessment ( PGA ) of the severity of knee OA , and @-min walk distance ( @MWD ) .\\n',\n",
       " 'METHODS\\tSerum levels of interleukin @ ( IL-@ ) , IL-@ , tumor necrosis factor ( TNF ) - , and high-sensitivity C-reactive protein ( hsCRP ) were measured .\\n',\n",
       " 'RESULTS\\tThere was a clinically relevant reduction in the intervention group compared to the placebo group for knee pain , physical function , PGA , and @MWD at @ weeks .\\n',\n",
       " 'RESULTS\\tThe mean difference between treatment arms ( @ % CI ) was @ ( @-@ @ ) , p < @ ; @ ( @-@ @ ) , p < @ ; @ ( @-@ @ ) , p < @ ; and @ ( @-@ @ ) , p < @ , respectively .\\n',\n",
       " 'RESULTS\\tFurther , there was a clinically relevant reduction in the serum levels of IL-@ , IL-@ , TNF - , and hsCRP at @ weeks in the intervention group when compared to the placebo group .\\n',\n",
       " 'RESULTS\\tThese differences remained significant at @ weeks .\\n',\n",
       " 'RESULTS\\tThe Outcome Measures in Rheumatology Clinical Trials-Osteoarthritis Research Society International responder rate was @ % in the intervention group and @ % in the placebo group ( p < @ ) .\\n',\n",
       " 'CONCLUSIONS\\tLow-dose oral prednisolone had both a short-term and a longer sustained effect resulting in less knee pain , better physical function , and attenuation of systemic inflammation in older patients with knee OA ( ClinicalTrials.gov identifier NCT@ ) .\\n',\n",
       " '\\n',\n",
       " '###24854809\\n',\n",
       " 'BACKGROUND\\tEmotional eating is associated with overeating and the development of obesity .\\n',\n",
       " 'BACKGROUND\\tYet , empirical evidence for individual ( trait ) differences in emotional eating and cognitive mechanisms that contribute to eating during sad mood remain equivocal .\\n',\n",
       " 'OBJECTIVE\\tThe aim of this study was to test if attention bias for food moderates the effect of self-reported emotional eating during sad mood ( vs neutral mood ) on actual food intake .\\n',\n",
       " 'OBJECTIVE\\tIt was expected that emotional eating is predictive of elevated attention for food and higher food intake after an experimentally induced sad mood and that attentional maintenance on food predicts food intake during a sad versus a neutral mood .\\n',\n",
       " 'METHODS\\tParticipants ( N = @ ) were randomly assigned to one of the two experimental mood induction conditions ( sad/neutral ) .\\n']"
      ]
     },
     "execution_count": 7,
     "metadata": {},
     "output_type": "execute_result"
    }
   ],
   "source": [
    "train_lines=get_lines(data_dir+'train.txt')\n",
    "train_lines[:20]"
   ]
  },
  {
   "cell_type": "code",
   "execution_count": 8,
   "metadata": {
    "id": "uaizoH5G-f1J"
   },
   "outputs": [],
   "source": [
    "def preprocess_text_with_line_numbers(filename):\n",
    "\n",
    "  input_lines=get_lines(filename)\n",
    "  abstract_lines=\"\"\n",
    "  abstract_samples=[]\n",
    "\n",
    "  for line in input_lines:\n",
    "    if line.startswith('###'):\n",
    "      abstract_id=line\n",
    "      abstract_lines=\"\"\n",
    "    elif line.isspace():\n",
    "      abstract_lines_split=abstract_lines.splitlines()\n",
    "    \n",
    "      for abstract_line_number,abstract_line in enumerate(abstract_lines_split):\n",
    "        line_data={}\n",
    "        target_text_split=abstract_line.split(\"\\t\")\n",
    "        line_data['target']=target_text_split[0]\n",
    "        line_data['text']=target_text_split[1].lower()\n",
    "        line_data['line_number']=abstract_line_number\n",
    "        line_data['total_lines']=len(abstract_lines_split)-1\n",
    "        abstract_samples.append(line_data)\n",
    "    \n",
    "    else:\n",
    "      abstract_lines+=line\n",
    "\n",
    "  return abstract_samples"
   ]
  },
  {
   "cell_type": "code",
   "execution_count": 9,
   "metadata": {
    "colab": {
     "base_uri": "https://localhost:8080/"
    },
    "id": "bJvY8byfJTHQ",
    "outputId": "f70e0437-744d-4784-bd1f-7491b9d0b358"
   },
   "outputs": [
    {
     "data": {
      "text/plain": [
       "(180040, 30212, 30135)"
      ]
     },
     "execution_count": 9,
     "metadata": {},
     "output_type": "execute_result"
    }
   ],
   "source": [
    "train_samples = preprocess_text_with_line_numbers(data_dir + \"train.txt\")\n",
    "val_samples = preprocess_text_with_line_numbers(data_dir + \"dev.txt\") # dev is another name for validation set\n",
    "test_samples = preprocess_text_with_line_numbers(data_dir + \"test.txt\")\n",
    "len(train_samples), len(val_samples), len(test_samples)"
   ]
  },
  {
   "cell_type": "code",
   "execution_count": 10,
   "metadata": {
    "colab": {
     "base_uri": "https://localhost:8080/"
    },
    "id": "ynIo0SkpJbXv",
    "outputId": "f1ab704d-d5b6-4602-9352-b9eb50479274"
   },
   "outputs": [
    {
     "data": {
      "text/plain": [
       "[{'line_number': 0,\n",
       "  'target': 'OBJECTIVE',\n",
       "  'text': 'to investigate the efficacy of @ weeks of daily low-dose oral prednisolone in improving pain , mobility , and systemic low-grade inflammation in the short term and whether the effect would be sustained at @ weeks in older adults with moderate to severe knee osteoarthritis ( oa ) .',\n",
       "  'total_lines': 11},\n",
       " {'line_number': 1,\n",
       "  'target': 'METHODS',\n",
       "  'text': 'a total of @ patients with primary knee oa were randomized @:@ ; @ received @ mg/day of prednisolone and @ received placebo for @ weeks .',\n",
       "  'total_lines': 11},\n",
       " {'line_number': 2,\n",
       "  'target': 'METHODS',\n",
       "  'text': 'outcome measures included pain reduction and improvement in function scores and systemic inflammation markers .',\n",
       "  'total_lines': 11},\n",
       " {'line_number': 3,\n",
       "  'target': 'METHODS',\n",
       "  'text': 'pain was assessed using the visual analog pain scale ( @-@ mm ) .',\n",
       "  'total_lines': 11},\n",
       " {'line_number': 4,\n",
       "  'target': 'METHODS',\n",
       "  'text': 'secondary outcome measures included the western ontario and mcmaster universities osteoarthritis index scores , patient global assessment ( pga ) of the severity of knee oa , and @-min walk distance ( @mwd ) .',\n",
       "  'total_lines': 11},\n",
       " {'line_number': 5,\n",
       "  'target': 'METHODS',\n",
       "  'text': 'serum levels of interleukin @ ( il-@ ) , il-@ , tumor necrosis factor ( tnf ) - , and high-sensitivity c-reactive protein ( hscrp ) were measured .',\n",
       "  'total_lines': 11},\n",
       " {'line_number': 6,\n",
       "  'target': 'RESULTS',\n",
       "  'text': 'there was a clinically relevant reduction in the intervention group compared to the placebo group for knee pain , physical function , pga , and @mwd at @ weeks .',\n",
       "  'total_lines': 11},\n",
       " {'line_number': 7,\n",
       "  'target': 'RESULTS',\n",
       "  'text': 'the mean difference between treatment arms ( @ % ci ) was @ ( @-@ @ ) , p < @ ; @ ( @-@ @ ) , p < @ ; @ ( @-@ @ ) , p < @ ; and @ ( @-@ @ ) , p < @ , respectively .',\n",
       "  'total_lines': 11},\n",
       " {'line_number': 8,\n",
       "  'target': 'RESULTS',\n",
       "  'text': 'further , there was a clinically relevant reduction in the serum levels of il-@ , il-@ , tnf - , and hscrp at @ weeks in the intervention group when compared to the placebo group .',\n",
       "  'total_lines': 11},\n",
       " {'line_number': 9,\n",
       "  'target': 'RESULTS',\n",
       "  'text': 'these differences remained significant at @ weeks .',\n",
       "  'total_lines': 11},\n",
       " {'line_number': 10,\n",
       "  'target': 'RESULTS',\n",
       "  'text': 'the outcome measures in rheumatology clinical trials-osteoarthritis research society international responder rate was @ % in the intervention group and @ % in the placebo group ( p < @ ) .',\n",
       "  'total_lines': 11},\n",
       " {'line_number': 11,\n",
       "  'target': 'CONCLUSIONS',\n",
       "  'text': 'low-dose oral prednisolone had both a short-term and a longer sustained effect resulting in less knee pain , better physical function , and attenuation of systemic inflammation in older patients with knee oa ( clinicaltrials.gov identifier nct@ ) .',\n",
       "  'total_lines': 11}]"
      ]
     },
     "execution_count": 10,
     "metadata": {},
     "output_type": "execute_result"
    }
   ],
   "source": [
    "train_samples[:12]"
   ]
  },
  {
   "cell_type": "code",
   "execution_count": 11,
   "metadata": {
    "colab": {
     "base_uri": "https://localhost:8080/",
     "height": 488
    },
    "id": "LzGJm1B_KCzm",
    "outputId": "08208dff-5a91-463a-d92a-371ec6337cb4"
   },
   "outputs": [
    {
     "data": {
      "text/html": [
       "<div>\n",
       "<style scoped>\n",
       "    .dataframe tbody tr th:only-of-type {\n",
       "        vertical-align: middle;\n",
       "    }\n",
       "\n",
       "    .dataframe tbody tr th {\n",
       "        vertical-align: top;\n",
       "    }\n",
       "\n",
       "    .dataframe thead th {\n",
       "        text-align: right;\n",
       "    }\n",
       "</style>\n",
       "<table border=\"1\" class=\"dataframe\">\n",
       "  <thead>\n",
       "    <tr style=\"text-align: right;\">\n",
       "      <th></th>\n",
       "      <th>target</th>\n",
       "      <th>text</th>\n",
       "      <th>line_number</th>\n",
       "      <th>total_lines</th>\n",
       "    </tr>\n",
       "  </thead>\n",
       "  <tbody>\n",
       "    <tr>\n",
       "      <th>0</th>\n",
       "      <td>OBJECTIVE</td>\n",
       "      <td>to investigate the efficacy of @ weeks of dail...</td>\n",
       "      <td>0</td>\n",
       "      <td>11</td>\n",
       "    </tr>\n",
       "    <tr>\n",
       "      <th>1</th>\n",
       "      <td>METHODS</td>\n",
       "      <td>a total of @ patients with primary knee oa wer...</td>\n",
       "      <td>1</td>\n",
       "      <td>11</td>\n",
       "    </tr>\n",
       "    <tr>\n",
       "      <th>2</th>\n",
       "      <td>METHODS</td>\n",
       "      <td>outcome measures included pain reduction and i...</td>\n",
       "      <td>2</td>\n",
       "      <td>11</td>\n",
       "    </tr>\n",
       "    <tr>\n",
       "      <th>3</th>\n",
       "      <td>METHODS</td>\n",
       "      <td>pain was assessed using the visual analog pain...</td>\n",
       "      <td>3</td>\n",
       "      <td>11</td>\n",
       "    </tr>\n",
       "    <tr>\n",
       "      <th>4</th>\n",
       "      <td>METHODS</td>\n",
       "      <td>secondary outcome measures included the wester...</td>\n",
       "      <td>4</td>\n",
       "      <td>11</td>\n",
       "    </tr>\n",
       "    <tr>\n",
       "      <th>5</th>\n",
       "      <td>METHODS</td>\n",
       "      <td>serum levels of interleukin @ ( il-@ ) , il-@ ...</td>\n",
       "      <td>5</td>\n",
       "      <td>11</td>\n",
       "    </tr>\n",
       "    <tr>\n",
       "      <th>6</th>\n",
       "      <td>RESULTS</td>\n",
       "      <td>there was a clinically relevant reduction in t...</td>\n",
       "      <td>6</td>\n",
       "      <td>11</td>\n",
       "    </tr>\n",
       "    <tr>\n",
       "      <th>7</th>\n",
       "      <td>RESULTS</td>\n",
       "      <td>the mean difference between treatment arms ( @...</td>\n",
       "      <td>7</td>\n",
       "      <td>11</td>\n",
       "    </tr>\n",
       "    <tr>\n",
       "      <th>8</th>\n",
       "      <td>RESULTS</td>\n",
       "      <td>further , there was a clinically relevant redu...</td>\n",
       "      <td>8</td>\n",
       "      <td>11</td>\n",
       "    </tr>\n",
       "    <tr>\n",
       "      <th>9</th>\n",
       "      <td>RESULTS</td>\n",
       "      <td>these differences remained significant at @ we...</td>\n",
       "      <td>9</td>\n",
       "      <td>11</td>\n",
       "    </tr>\n",
       "    <tr>\n",
       "      <th>10</th>\n",
       "      <td>RESULTS</td>\n",
       "      <td>the outcome measures in rheumatology clinical ...</td>\n",
       "      <td>10</td>\n",
       "      <td>11</td>\n",
       "    </tr>\n",
       "    <tr>\n",
       "      <th>11</th>\n",
       "      <td>CONCLUSIONS</td>\n",
       "      <td>low-dose oral prednisolone had both a short-te...</td>\n",
       "      <td>11</td>\n",
       "      <td>11</td>\n",
       "    </tr>\n",
       "    <tr>\n",
       "      <th>12</th>\n",
       "      <td>BACKGROUND</td>\n",
       "      <td>emotional eating is associated with overeating...</td>\n",
       "      <td>0</td>\n",
       "      <td>10</td>\n",
       "    </tr>\n",
       "    <tr>\n",
       "      <th>13</th>\n",
       "      <td>BACKGROUND</td>\n",
       "      <td>yet , empirical evidence for individual ( trai...</td>\n",
       "      <td>1</td>\n",
       "      <td>10</td>\n",
       "    </tr>\n",
       "  </tbody>\n",
       "</table>\n",
       "</div>"
      ],
      "text/plain": [
       "         target  ... total_lines\n",
       "0     OBJECTIVE  ...          11\n",
       "1       METHODS  ...          11\n",
       "2       METHODS  ...          11\n",
       "3       METHODS  ...          11\n",
       "4       METHODS  ...          11\n",
       "5       METHODS  ...          11\n",
       "6       RESULTS  ...          11\n",
       "7       RESULTS  ...          11\n",
       "8       RESULTS  ...          11\n",
       "9       RESULTS  ...          11\n",
       "10      RESULTS  ...          11\n",
       "11  CONCLUSIONS  ...          11\n",
       "12   BACKGROUND  ...          10\n",
       "13   BACKGROUND  ...          10\n",
       "\n",
       "[14 rows x 4 columns]"
      ]
     },
     "execution_count": 11,
     "metadata": {},
     "output_type": "execute_result"
    }
   ],
   "source": [
    "import pandas as pd\n",
    "train_df = pd.DataFrame(train_samples)\n",
    "val_df = pd.DataFrame(val_samples)\n",
    "test_df = pd.DataFrame(test_samples)\n",
    "train_df.head(14)"
   ]
  },
  {
   "cell_type": "code",
   "execution_count": 12,
   "metadata": {
    "colab": {
     "base_uri": "https://localhost:8080/"
    },
    "id": "nRtOp1K8KnkT",
    "outputId": "93544ef6-59d4-4009-9195-810b2c692d3d"
   },
   "outputs": [
    {
     "data": {
      "text/plain": [
       "METHODS        59353\n",
       "RESULTS        57953\n",
       "CONCLUSIONS    27168\n",
       "BACKGROUND     21727\n",
       "OBJECTIVE      13839\n",
       "Name: target, dtype: int64"
      ]
     },
     "execution_count": 12,
     "metadata": {},
     "output_type": "execute_result"
    }
   ],
   "source": [
    "train_df.target.value_counts()"
   ]
  },
  {
   "cell_type": "code",
   "execution_count": 13,
   "metadata": {
    "colab": {
     "base_uri": "https://localhost:8080/",
     "height": 285
    },
    "id": "dFH1-rT6KzJ_",
    "outputId": "4773eba4-4ec0-4608-b6ff-057431beeef0"
   },
   "outputs": [
    {
     "data": {
      "text/plain": [
       "<matplotlib.axes._subplots.AxesSubplot at 0x7ff43c358a10>"
      ]
     },
     "execution_count": 13,
     "metadata": {},
     "output_type": "execute_result"
    },
    {
     "data": {
      "image/png": "[encoded data removed]",
      "text/plain": [
       "<Figure size 432x288 with 1 Axes>"
      ]
     },
     "metadata": {
      "needs_background": "light"
     },
     "output_type": "display_data"
    }
   ],
   "source": [
    "train_df.total_lines.plot.hist()"
   ]
  },
  {
   "cell_type": "code",
   "execution_count": 14,
   "metadata": {
    "colab": {
     "base_uri": "https://localhost:8080/"
    },
    "id": "vMdtmE77LFIQ",
    "outputId": "500c537c-c13e-45bb-e337-c7c43ad181ef"
   },
   "outputs": [
    {
     "data": {
      "text/plain": [
       "(180040, 30212, 30135)"
      ]
     },
     "execution_count": 14,
     "metadata": {},
     "output_type": "execute_result"
    }
   ],
   "source": [
    "# Convert abstract text lines into lists \n",
    "train_sentences = train_df[\"text\"].tolist()\n",
    "val_sentences = val_df[\"text\"].tolist()\n",
    "test_sentences = test_df[\"text\"].tolist()\n",
    "len(train_sentences), len(val_sentences), len(test_sentences)"
   ]
  },
  {
   "cell_type": "code",
   "execution_count": 15,
   "metadata": {
    "colab": {
     "base_uri": "https://localhost:8080/"
    },
    "id": "yuP23m__LTLV",
    "outputId": "de46c8e8-f7df-4f3b-8add-eea4283d373e"
   },
   "outputs": [
    {
     "data": {
      "text/plain": [
       "['to investigate the efficacy of @ weeks of daily low-dose oral prednisolone in improving pain , mobility , and systemic low-grade inflammation in the short term and whether the effect would be sustained at @ weeks in older adults with moderate to severe knee osteoarthritis ( oa ) .',\n",
       " 'a total of @ patients with primary knee oa were randomized @:@ ; @ received @ mg/day of prednisolone and @ received placebo for @ weeks .',\n",
       " 'outcome measures included pain reduction and improvement in function scores and systemic inflammation markers .',\n",
       " 'pain was assessed using the visual analog pain scale ( @-@ mm ) .',\n",
       " 'secondary outcome measures included the western ontario and mcmaster universities osteoarthritis index scores , patient global assessment ( pga ) of the severity of knee oa , and @-min walk distance ( @mwd ) .',\n",
       " 'serum levels of interleukin @ ( il-@ ) , il-@ , tumor necrosis factor ( tnf ) - , and high-sensitivity c-reactive protein ( hscrp ) were measured .',\n",
       " 'there was a clinically relevant reduction in the intervention group compared to the placebo group for knee pain , physical function , pga , and @mwd at @ weeks .',\n",
       " 'the mean difference between treatment arms ( @ % ci ) was @ ( @-@ @ ) , p < @ ; @ ( @-@ @ ) , p < @ ; @ ( @-@ @ ) , p < @ ; and @ ( @-@ @ ) , p < @ , respectively .',\n",
       " 'further , there was a clinically relevant reduction in the serum levels of il-@ , il-@ , tnf - , and hscrp at @ weeks in the intervention group when compared to the placebo group .',\n",
       " 'these differences remained significant at @ weeks .',\n",
       " 'the outcome measures in rheumatology clinical trials-osteoarthritis research society international responder rate was @ % in the intervention group and @ % in the placebo group ( p < @ ) .',\n",
       " 'low-dose oral prednisolone had both a short-term and a longer sustained effect resulting in less knee pain , better physical function , and attenuation of systemic inflammation in older patients with knee oa ( clinicaltrials.gov identifier nct@ ) .',\n",
       " 'emotional eating is associated with overeating and the development of obesity .',\n",
       " 'yet , empirical evidence for individual ( trait ) differences in emotional eating and cognitive mechanisms that contribute to eating during sad mood remain equivocal .']"
      ]
     },
     "execution_count": 15,
     "metadata": {},
     "output_type": "execute_result"
    }
   ],
   "source": [
    "train_sentences[:14]"
   ]
  },
  {
   "cell_type": "code",
   "execution_count": 16,
   "metadata": {
    "colab": {
     "base_uri": "https://localhost:8080/"
    },
    "id": "-4dbbZf_LY45",
    "outputId": "d7020089-3b17-4c92-a44a-f7c08d8033a0"
   },
   "outputs": [
    {
     "data": {
      "text/plain": [
       "array([[0., 0., 0., 1., 0.],\n",
       "       [0., 0., 1., 0., 0.],\n",
       "       [0., 0., 1., 0., 0.],\n",
       "       ...,\n",
       "       [0., 0., 0., 0., 1.],\n",
       "       [0., 1., 0., 0., 0.],\n",
       "       [0., 1., 0., 0., 0.]])"
      ]
     },
     "execution_count": 16,
     "metadata": {},
     "output_type": "execute_result"
    }
   ],
   "source": [
    "from sklearn.preprocessing import OneHotEncoder\n",
    "one_hot_encoder=OneHotEncoder(sparse=False)\n",
    "train_labels_one_hot=one_hot_encoder.fit_transform(train_df['target'].to_numpy().reshape(-1,1))\n",
    "val_labels_one_hot=one_hot_encoder.transform(val_df['target'].to_numpy().reshape(-1,1))\n",
    "test_labels_one_hot = one_hot_encoder.transform(test_df[\"target\"].to_numpy().reshape(-1, 1))\n",
    "\n",
    "# Check what training labels look like\n",
    "train_labels_one_hot"
   ]
  },
  {
   "cell_type": "code",
   "execution_count": 17,
   "metadata": {
    "colab": {
     "base_uri": "https://localhost:8080/"
    },
    "id": "5jruiy1ad_NU",
    "outputId": "c3aa4019-1cb1-4c43-94b1-377b02cf2c4f"
   },
   "outputs": [
    {
     "data": {
      "text/plain": [
       "array([3, 2, 2, ..., 4, 1, 1])"
      ]
     },
     "execution_count": 17,
     "metadata": {},
     "output_type": "execute_result"
    }
   ],
   "source": [
    "from sklearn.preprocessing import LabelEncoder\n",
    "label_encoder = LabelEncoder()\n",
    "train_labels_encoded = label_encoder.fit_transform(train_df[\"target\"].to_numpy())\n",
    "val_labels_encoded = label_encoder.transform(val_df[\"target\"].to_numpy())\n",
    "test_labels_encoded = label_encoder.transform(test_df[\"target\"].to_numpy())\n",
    "\n",
    "# Check what training labels look like\n",
    "train_labels_encoded"
   ]
  },
  {
   "cell_type": "code",
   "execution_count": 18,
   "metadata": {
    "colab": {
     "base_uri": "https://localhost:8080/"
    },
    "id": "L5BM8WDHeGfa",
    "outputId": "227bc56b-0328-4b31-8790-c063b04d7150"
   },
   "outputs": [
    {
     "data": {
      "text/plain": [
       "(5, array(['BACKGROUND', 'CONCLUSIONS', 'METHODS', 'OBJECTIVE', 'RESULTS'],\n",
       "       dtype=object))"
      ]
     },
     "execution_count": 18,
     "metadata": {},
     "output_type": "execute_result"
    }
   ],
   "source": [
    "num_classes=len(label_encoder.classes_)\n",
    "class_names=label_encoder.classes_\n",
    "num_classes,class_names"
   ]
  },
  {
   "cell_type": "code",
   "execution_count": 19,
   "metadata": {
    "colab": {
     "base_uri": "https://localhost:8080/"
    },
    "id": "k7THqnYpegNg",
    "outputId": "bec74bef-2fd5-4dd9-b43e-0a4c261e4afb"
   },
   "outputs": [
    {
     "data": {
      "text/plain": [
       "Pipeline(steps=[('tf-idf', TfidfVectorizer()), ('clf', MultinomialNB())])"
      ]
     },
     "execution_count": 19,
     "metadata": {},
     "output_type": "execute_result"
    }
   ],
   "source": [
    "from sklearn.feature_extraction.text import TfidfVectorizer\n",
    "from sklearn.naive_bayes import MultinomialNB\n",
    "from sklearn.pipeline import Pipeline\n",
    "\n",
    "model_0=Pipeline([\n",
    "                  (\"tf-idf\",TfidfVectorizer()),\n",
    "                  ('clf',MultinomialNB())\n",
    "])\n",
    "\n",
    "model_0.fit(train_sentences,train_labels_encoded)"
   ]
  },
  {
   "cell_type": "code",
   "execution_count": 20,
   "metadata": {
    "colab": {
     "base_uri": "https://localhost:8080/"
    },
    "id": "YaSiJtfgfna7",
    "outputId": "7db3407e-8ecc-45e4-9759-43f4fa4d94a6"
   },
   "outputs": [
    {
     "data": {
      "text/plain": [
       "0.7218323844829869"
      ]
     },
     "execution_count": 20,
     "metadata": {},
     "output_type": "execute_result"
    }
   ],
   "source": [
    "model_0.score(val_sentences,val_labels_encoded)"
   ]
  },
  {
   "cell_type": "code",
   "execution_count": 21,
   "metadata": {
    "colab": {
     "base_uri": "https://localhost:8080/"
    },
    "id": "f8gfRdlmftKK",
    "outputId": "0df3e515-d9c0-433b-b7fb-76f463ff2239"
   },
   "outputs": [
    {
     "data": {
      "text/plain": [
       "array([4, 1, 3, ..., 4, 4, 1])"
      ]
     },
     "execution_count": 21,
     "metadata": {},
     "output_type": "execute_result"
    }
   ],
   "source": [
    "baseline_preds=model_0.predict(val_sentences)\n",
    "baseline_preds"
   ]
  },
  {
   "cell_type": "code",
   "execution_count": 22,
   "metadata": {
    "colab": {
     "base_uri": "https://localhost:8080/"
    },
    "id": "SnVlw5ztf3E5",
    "outputId": "c8e9ff7d-e948-4ee2-db6e-abaff1164669"
   },
   "outputs": [
    {
     "name": "stdout",
     "output_type": "stream",
     "text": [
      "--2021-12-06 03:36:23--  https://raw.githubusercontent.com/raunakbhupal/tensorflow_codes/main/extras/helper_functions.py\n",
      "Resolving raw.githubusercontent.com (raw.githubusercontent.com)... 185.199.108.133, 185.199.109.133, 185.199.110.133, ...\n",
      "Connecting to raw.githubusercontent.com (raw.githubusercontent.com)|185.199.108.133|:443... connected.\n",
      "HTTP request sent, awaiting response... 200 OK\n",
      "Length: 10234 (10.0K) [text/plain]\n",
      "Saving to: ‘helper_functions.py’\n",
      "\n",
      "\r",
      "helper_functions.py   0%[                    ]       0  --.-KB/s               \r",
      "helper_functions.py 100%[===================>]   9.99K  --.-KB/s    in 0s      \n",
      "\n",
      "2021-12-06 03:36:23 (52.9 MB/s) - ‘helper_functions.py’ saved [10234/10234]\n",
      "\n"
     ]
    }
   ],
   "source": [
    "!wget https://raw.githubusercontent.com/raunakbhupal/tensorflow_codes/main/extras/helper_functions.py"
   ]
  },
  {
   "cell_type": "code",
   "execution_count": 23,
   "metadata": {
    "id": "VTdMfMYCgC3d"
   },
   "outputs": [],
   "source": [
    "from helper_functions import calculate_results"
   ]
  },
  {
   "cell_type": "code",
   "execution_count": 24,
   "metadata": {
    "colab": {
     "base_uri": "https://localhost:8080/"
    },
    "id": "PmNAhse_gIXn",
    "outputId": "84d0de80-f51e-4ac6-ed41-a204edaf934b"
   },
   "outputs": [
    {
     "data": {
      "text/plain": [
       "{'accuracy': 72.1832384482987,\n",
       " 'f1': 0.6989250353450294,\n",
       " 'precision': 0.7186466952323352,\n",
       " 'recall': 0.7218323844829869}"
      ]
     },
     "execution_count": 24,
     "metadata": {},
     "output_type": "execute_result"
    }
   ],
   "source": [
    "baseline_results=calculate_results(val_labels_encoded,baseline_preds)\n",
    "baseline_results"
   ]
  },
  {
   "cell_type": "code",
   "execution_count": 28,
   "metadata": {
    "id": "tY3GhTXugPCN"
   },
   "outputs": [],
   "source": [
    "import numpy as np\n",
    "import tensorflow as tf\n",
    "from tensorflow.keras import layers"
   ]
  },
  {
   "cell_type": "code",
   "execution_count": 31,
   "metadata": {
    "colab": {
     "base_uri": "https://localhost:8080/"
    },
    "id": "0c0Vugx104E4",
    "outputId": "dc2807c8-4ec5-4d94-d316-c3c2daefb5ab"
   },
   "outputs": [
    {
     "data": {
      "text/plain": [
       "26.338269273494777"
      ]
     },
     "execution_count": 31,
     "metadata": {},
     "output_type": "execute_result"
    }
   ],
   "source": [
    "sent_lens=[len(sentence.split()) for sentence in train_sentences]\n",
    "avg_sent_len=np.mean(sent_lens)\n",
    "avg_sent_len"
   ]
  },
  {
   "cell_type": "code",
   "execution_count": 36,
   "metadata": {
    "colab": {
     "base_uri": "https://localhost:8080/",
     "height": 265
    },
    "id": "dbMPKR-a1zC9",
    "outputId": "68288f97-8fe2-43d1-8282-a44c641bd948"
   },
   "outputs": [
    {
     "data": {
      "image/png": "[encoded data removed]",
      "text/plain": [
       "<Figure size 432x288 with 1 Axes>"
      ]
     },
     "metadata": {
      "needs_background": "light"
     },
     "output_type": "display_data"
    }
   ],
   "source": [
    "import matplotlib.pyplot as plt\n",
    "plt.hist(sent_lens,bins=20);"
   ]
  },
  {
   "cell_type": "code",
   "execution_count": 37,
   "metadata": {
    "colab": {
     "base_uri": "https://localhost:8080/"
    },
    "id": "wS_-rwYO18pI",
    "outputId": "bf23b210-fdf7-4182-a91c-6e7688e863f0"
   },
   "outputs": [
    {
     "data": {
      "text/plain": [
       "55"
      ]
     },
     "execution_count": 37,
     "metadata": {},
     "output_type": "execute_result"
    }
   ],
   "source": [
    "# How long of a sentence covers 95% of the lengths?\n",
    "output_seq_len = int(np.percentile(sent_lens, 95))\n",
    "output_seq_len"
   ]
  },
  {
   "cell_type": "code",
   "execution_count": 38,
   "metadata": {
    "colab": {
     "base_uri": "https://localhost:8080/"
    },
    "id": "iKpZ8zTy2q3B",
    "outputId": "0195cfec-355b-477b-d60e-b523690d712c"
   },
   "outputs": [
    {
     "data": {
      "text/plain": [
       "296"
      ]
     },
     "execution_count": 38,
     "metadata": {},
     "output_type": "execute_result"
    }
   ],
   "source": [
    "max(sent_lens)"
   ]
  },
  {
   "cell_type": "code",
   "execution_count": 39,
   "metadata": {
    "id": "dLA2VC1l28Qs"
   },
   "outputs": [],
   "source": [
    "max_tokens=68000 #vocabulary size mentioned in the paper"
   ]
  },
  {
   "cell_type": "code",
   "execution_count": 40,
   "metadata": {
    "id": "1AXxAMFy3e-o"
   },
   "outputs": [],
   "source": [
    "from tensorflow.keras.layers.experimental.preprocessing import TextVectorization\n",
    "\n",
    "text_vectorizer=TextVectorization(max_tokens=max_tokens,\n",
    "                                  output_sequence_length=55)"
   ]
  },
  {
   "cell_type": "code",
   "execution_count": 41,
   "metadata": {
    "id": "TwoX5urn3y04"
   },
   "outputs": [],
   "source": [
    "text_vectorizer.adapt(train_sentences)"
   ]
  },
  {
   "cell_type": "code",
   "execution_count": 49,
   "metadata": {
    "colab": {
     "base_uri": "https://localhost:8080/"
    },
    "id": "Ijkjpz-o4R3Y",
    "outputId": "2e556904-55af-4b59-9db6-f9a47ecffecc"
   },
   "outputs": [
    {
     "name": "stdout",
     "output_type": "stream",
     "text": [
      "Text:\n",
      "our aim was to compare the primary patency of tips performed with cs and bs .\n",
      "\n",
      "Length of text: 16\n",
      "\n",
      "Vectorized text:\n",
      "[[ 246  267   10    6  226    2   56 2560    4 7432  153    7 2237    3\n",
      "  5854    0    0    0    0    0    0    0    0    0    0    0    0    0\n",
      "     0    0    0    0    0    0    0    0    0    0    0    0    0    0\n",
      "     0    0    0    0    0    0    0    0    0    0    0    0    0]]\n"
     ]
    }
   ],
   "source": [
    "# Test out text vectorizer\n",
    "import random\n",
    "target_sentence = random.choice(train_sentences)\n",
    "print(f\"Text:\\n{target_sentence}\")\n",
    "print(f\"\\nLength of text: {len(target_sentence.split())}\")\n",
    "print(f\"\\nVectorized text:\\n{text_vectorizer([target_sentence])}\")"
   ]
  },
  {
   "cell_type": "code",
   "execution_count": 50,
   "metadata": {
    "colab": {
     "base_uri": "https://localhost:8080/"
    },
    "id": "VtKTo9HI4ZZQ",
    "outputId": "1c076687-4eae-442e-e492-409935787d3e"
   },
   "outputs": [
    {
     "name": "stdout",
     "output_type": "stream",
     "text": [
      "Number of words in vocabulary: 64841\n",
      "Most common words in the vocabulary: ['', '[UNK]', 'the', 'and', 'of']\n",
      "Least common words in the vocabulary: ['aainduced', 'aaigroup', 'aachener', 'aachen', 'aaacp']\n"
     ]
    }
   ],
   "source": [
    "# How many words in our training vocabulary?\n",
    "rct_20k_text_vocab = text_vectorizer.get_vocabulary()\n",
    "print(f\"Number of words in vocabulary: {len(rct_20k_text_vocab)}\"), \n",
    "print(f\"Most common words in the vocabulary: {rct_20k_text_vocab[:5]}\")\n",
    "print(f\"Least common words in the vocabulary: {rct_20k_text_vocab[-5:]}\")"
   ]
  },
  {
   "cell_type": "code",
   "execution_count": 51,
   "metadata": {
    "colab": {
     "base_uri": "https://localhost:8080/"
    },
    "id": "yJbxC5eK4wvW",
    "outputId": "82db7956-9cb0-4eb2-ccae-7e7b6187f146"
   },
   "outputs": [
    {
     "data": {
      "text/plain": [
       "{'batch_input_shape': (None,),\n",
       " 'dtype': 'string',\n",
       " 'idf_weights': None,\n",
       " 'max_tokens': 68000,\n",
       " 'name': 'text_vectorization',\n",
       " 'ngrams': None,\n",
       " 'output_mode': 'int',\n",
       " 'output_sequence_length': 55,\n",
       " 'pad_to_max_tokens': False,\n",
       " 'ragged': False,\n",
       " 'sparse': False,\n",
       " 'split': 'whitespace',\n",
       " 'standardize': 'lower_and_strip_punctuation',\n",
       " 'trainable': True,\n",
       " 'vocabulary': None}"
      ]
     },
     "execution_count": 51,
     "metadata": {},
     "output_type": "execute_result"
    }
   ],
   "source": [
    "text_vectorizer.get_config()"
   ]
  },
  {
   "cell_type": "code",
   "execution_count": 52,
   "metadata": {
    "colab": {
     "base_uri": "https://localhost:8080/"
    },
    "id": "mtlSZzKs44TA",
    "outputId": "c0b08011-5a7b-4024-e757-4cacb139c198"
   },
   "outputs": [
    {
     "name": "stdout",
     "output_type": "stream",
     "text": [
      "Sentence before vectorization:\n",
      "our aim was to compare the primary patency of tips performed with cs and bs .\n",
      "\n",
      "Sentence after vectorization (before embedding):\n",
      "[[ 246  267   10    6  226    2   56 2560    4 7432  153    7 2237    3\n",
      "  5854    0    0    0    0    0    0    0    0    0    0    0    0    0\n",
      "     0    0    0    0    0    0    0    0    0    0    0    0    0    0\n",
      "     0    0    0    0    0    0    0    0    0    0    0    0    0]]\n",
      "\n",
      "Sentence after embedding:\n",
      "[[[ 0.02392698  0.02665665 -0.04246041 ... -0.00888747  0.00183417\n",
      "   -0.04104415]\n",
      "  [-0.02348795 -0.02043298  0.0456324  ...  0.02633895  0.03656079\n",
      "   -0.01324806]\n",
      "  [ 0.00602343 -0.00685807 -0.03688703 ...  0.01587042  0.03509981\n",
      "   -0.03769909]\n",
      "  ...\n",
      "  [-0.02032137 -0.02085149  0.04193253 ... -0.02752849 -0.04912468\n",
      "   -0.0146263 ]\n",
      "  [-0.02032137 -0.02085149  0.04193253 ... -0.02752849 -0.04912468\n",
      "   -0.0146263 ]\n",
      "  [-0.02032137 -0.02085149  0.04193253 ... -0.02752849 -0.04912468\n",
      "   -0.0146263 ]]]\n",
      "\n",
      "Embedded sentence shape: (1, 55, 128)\n"
     ]
    }
   ],
   "source": [
    "# Create token embedding layer\n",
    "token_embed = layers.Embedding(input_dim=len(rct_20k_text_vocab), # length of vocabulary\n",
    "                               output_dim=128, # Note: different embedding sizes result in drastically different numbers of parameters to train\n",
    "                               # Use masking to handle variable sequence lengths (save space)\n",
    "                               mask_zero=True,\n",
    "                               name=\"token_embedding\") \n",
    "\n",
    "# Show example embedding\n",
    "print(f\"Sentence before vectorization:\\n{target_sentence}\\n\")\n",
    "vectorized_sentence = text_vectorizer([target_sentence])\n",
    "print(f\"Sentence after vectorization (before embedding):\\n{vectorized_sentence}\\n\")\n",
    "embedded_sentence = token_embed(vectorized_sentence)\n",
    "print(f\"Sentence after embedding:\\n{embedded_sentence}\\n\")\n",
    "print(f\"Embedded sentence shape: {embedded_sentence.shape}\")"
   ]
  },
  {
   "cell_type": "code",
   "execution_count": 53,
   "metadata": {
    "colab": {
     "base_uri": "https://localhost:8080/"
    },
    "id": "lZdnJ7cm5bD1",
    "outputId": "00063450-548b-4921-dad1-defe5a365c1d"
   },
   "outputs": [
    {
     "data": {
      "text/plain": [
       "<TensorSliceDataset shapes: ((), (5,)), types: (tf.string, tf.float64)>"
      ]
     },
     "execution_count": 53,
     "metadata": {},
     "output_type": "execute_result"
    }
   ],
   "source": [
    "# Turn our data into TensorFlow Datasets\n",
    "train_dataset = tf.data.Dataset.from_tensor_slices((train_sentences, train_labels_one_hot))\n",
    "valid_dataset = tf.data.Dataset.from_tensor_slices((val_sentences, val_labels_one_hot))\n",
    "test_dataset = tf.data.Dataset.from_tensor_slices((test_sentences, test_labels_one_hot))\n",
    "\n",
    "train_dataset"
   ]
  },
  {
   "cell_type": "code",
   "execution_count": 54,
   "metadata": {
    "colab": {
     "base_uri": "https://localhost:8080/"
    },
    "id": "RzWSkQB97bQg",
    "outputId": "d728dbac-2358-4058-d804-389e7c3bdc3f"
   },
   "outputs": [
    {
     "data": {
      "text/plain": [
       "<PrefetchDataset shapes: ((None,), (None, 5)), types: (tf.string, tf.float64)>"
      ]
     },
     "execution_count": 54,
     "metadata": {},
     "output_type": "execute_result"
    }
   ],
   "source": [
    "# Take the TensorSliceDataset's and turn them into prefetched batches\n",
    "train_dataset = train_dataset.batch(32).prefetch(tf.data.AUTOTUNE) #autotune means automatically prefetch as many data as you can\n",
    "valid_dataset = valid_dataset.batch(32).prefetch(tf.data.AUTOTUNE)\n",
    "test_dataset = test_dataset.batch(32).prefetch(tf.data.AUTOTUNE)\n",
    "\n",
    "train_dataset"
   ]
  },
  {
   "cell_type": "code",
   "execution_count": 55,
   "metadata": {
    "id": "SOKaEnC372VE"
   },
   "outputs": [],
   "source": [
    "#Model 1: Conv1D"
   ]
  },
  {
   "cell_type": "code",
   "execution_count": 56,
   "metadata": {
    "colab": {
     "base_uri": "https://localhost:8080/"
    },
    "id": "CX8NkpHg-HXf",
    "outputId": "6714a116-37c9-44fb-efcd-71712190966b"
   },
   "outputs": [
    {
     "data": {
      "text/plain": [
       "5"
      ]
     },
     "execution_count": 56,
     "metadata": {},
     "output_type": "execute_result"
    }
   ],
   "source": [
    "num_classes"
   ]
  },
  {
   "cell_type": "code",
   "execution_count": 57,
   "metadata": {
    "id": "kHr2SZpV9Y7W"
   },
   "outputs": [],
   "source": [
    "inputs=layers.Input(shape=(1,),dtype=tf.string) #shape=(1,) means one sequence at a time\n",
    "text_vectors=text_vectorizer(inputs)\n",
    "token_embeddings=token_embed(text_vectors)\n",
    "x=layers.Conv1D(64,kernel_size=5,padding='same',activation='relu')(token_embeddings)\n",
    "x=layers.GlobalAveragePooling1D()(x)\n",
    "outputs=layers.Dense(num_classes,activation='softmax')(x)\n",
    "model_1=tf.keras.Model(inputs,outputs)"
   ]
  },
  {
   "cell_type": "code",
   "execution_count": 58,
   "metadata": {
    "id": "3EU7Jstj-SE4"
   },
   "outputs": [],
   "source": [
    "model_1.compile(loss='categorical_crossentropy',\n",
    "                optimizer=tf.keras.optimizers.Adam(),\n",
    "                metrics=['accuracy'])"
   ]
  },
  {
   "cell_type": "code",
   "execution_count": 59,
   "metadata": {
    "colab": {
     "base_uri": "https://localhost:8080/"
    },
    "id": "w4em1vSq-cMZ",
    "outputId": "bfc664fa-0eca-4ed9-86ea-3a3eb61c2488"
   },
   "outputs": [
    {
     "name": "stdout",
     "output_type": "stream",
     "text": [
      "Model: \"model\"\n",
      "_________________________________________________________________\n",
      " Layer (type)                Output Shape              Param #   \n",
      "=================================================================\n",
      " input_1 (InputLayer)        [(None, 1)]               0         \n",
      "                                                                 \n",
      " text_vectorization (TextVec  (None, 55)               0         \n",
      " torization)                                                     \n",
      "                                                                 \n",
      " token_embedding (Embedding)  (None, 55, 128)          8299648   \n",
      "                                                                 \n",
      " conv1d (Conv1D)             (None, 55, 64)            41024     \n",
      "                                                                 \n",
      " global_average_pooling1d (G  (None, 64)               0         \n",
      " lobalAveragePooling1D)                                          \n",
      "                                                                 \n",
      " dense (Dense)               (None, 5)                 325       \n",
      "                                                                 \n",
      "=================================================================\n",
      "Total params: 8,340,997\n",
      "Trainable params: 8,340,997\n",
      "Non-trainable params: 0\n",
      "_________________________________________________________________\n"
     ]
    }
   ],
   "source": [
    "model_1.summary()"
   ]
  },
  {
   "cell_type": "code",
   "execution_count": 60,
   "metadata": {
    "colab": {
     "base_uri": "https://localhost:8080/"
    },
    "id": "OUSVAAC--0Qt",
    "outputId": "b2b1e2f3-4611-4cb6-9b69-8b0d83bab3c5"
   },
   "outputs": [
    {
     "name": "stdout",
     "output_type": "stream",
     "text": [
      "Epoch 1/3\n",
      "562/562 [==============================] - 19s 17ms/step - loss: 0.9283 - accuracy: 0.6329 - val_loss: 0.6892 - val_accuracy: 0.7364\n",
      "Epoch 2/3\n",
      "562/562 [==============================] - 10s 17ms/step - loss: 0.6593 - accuracy: 0.7572 - val_loss: 0.6376 - val_accuracy: 0.7660\n",
      "Epoch 3/3\n",
      "562/562 [==============================] - 9s 16ms/step - loss: 0.6185 - accuracy: 0.7752 - val_loss: 0.5977 - val_accuracy: 0.7862\n"
     ]
    }
   ],
   "source": [
    "model_1_history=model_1.fit(train_dataset,\n",
    "                            steps_per_epoch=int(0.1*len(train_dataset)),\n",
    "                            epochs=3,\n",
    "                            validation_data=valid_dataset,\n",
    "                            validation_steps=int(0.1*len(valid_dataset)))"
   ]
  },
  {
   "cell_type": "code",
   "execution_count": 61,
   "metadata": {
    "colab": {
     "base_uri": "https://localhost:8080/"
    },
    "id": "n0SzmdTR_iwy",
    "outputId": "ec681d4c-be96-4531-bca9-fe6b56940734"
   },
   "outputs": [
    {
     "name": "stdout",
     "output_type": "stream",
     "text": [
      "945/945 [==============================] - 4s 5ms/step - loss: 0.5998 - accuracy: 0.7856\n"
     ]
    },
    {
     "data": {
      "text/plain": [
       "[0.59977126121521, 0.7856149673461914]"
      ]
     },
     "execution_count": 61,
     "metadata": {},
     "output_type": "execute_result"
    }
   ],
   "source": [
    "model_1.evaluate(valid_dataset)"
   ]
  },
  {
   "cell_type": "code",
   "execution_count": 62,
   "metadata": {
    "colab": {
     "base_uri": "https://localhost:8080/"
    },
    "id": "zMgNq3VJ_tOE",
    "outputId": "9db402c8-9036-4554-f76e-481449b76a2f"
   },
   "outputs": [
    {
     "data": {
      "text/plain": [
       "array([[4.6493971e-01, 1.6276255e-01, 6.8808228e-02, 2.8120273e-01,\n",
       "        2.2286788e-02],\n",
       "       [4.0333271e-01, 3.1741682e-01, 1.3436505e-02, 2.5810972e-01,\n",
       "        7.7042221e-03],\n",
       "       [1.4684218e-01, 8.7333797e-03, 1.4833498e-03, 8.4291130e-01,\n",
       "        2.9716846e-05],\n",
       "       ...,\n",
       "       [6.0475631e-06, 6.8244361e-04, 6.5751944e-04, 2.9781302e-06,\n",
       "        9.9865109e-01],\n",
       "       [4.5514576e-02, 3.9359263e-01, 1.1537160e-01, 5.3001989e-02,\n",
       "        3.9251924e-01],\n",
       "       [1.7131516e-01, 6.8635726e-01, 3.5272673e-02, 4.4608951e-02,\n",
       "        6.2445968e-02]], dtype=float32)"
      ]
     },
     "execution_count": 62,
     "metadata": {},
     "output_type": "execute_result"
    }
   ],
   "source": [
    "model_1_pred_probs = model_1.predict(valid_dataset)\n",
    "model_1_pred_probs"
   ]
  },
  {
   "cell_type": "code",
   "execution_count": 63,
   "metadata": {
    "colab": {
     "base_uri": "https://localhost:8080/"
    },
    "id": "_e-UXl-j_zDK",
    "outputId": "2f45be25-1111-499c-bc38-699a4c65794f"
   },
   "outputs": [
    {
     "data": {
      "text/plain": [
       "(30212, 5)"
      ]
     },
     "execution_count": 63,
     "metadata": {},
     "output_type": "execute_result"
    }
   ],
   "source": [
    "model_1_pred_probs.shape"
   ]
  },
  {
   "cell_type": "code",
   "execution_count": 64,
   "metadata": {
    "colab": {
     "base_uri": "https://localhost:8080/"
    },
    "id": "o5dFuZBh_6RX",
    "outputId": "1ef04742-bfde-4ce7-8f82-185315dd32c5"
   },
   "outputs": [
    {
     "data": {
      "text/plain": [
       "<tf.Tensor: shape=(30212,), dtype=int64, numpy=array([0, 0, 3, ..., 4, 1, 1])>"
      ]
     },
     "execution_count": 64,
     "metadata": {},
     "output_type": "execute_result"
    }
   ],
   "source": [
    "model_1_preds = tf.argmax(model_1_pred_probs, axis=1)\n",
    "model_1_preds"
   ]
  },
  {
   "cell_type": "code",
   "execution_count": 65,
   "metadata": {
    "colab": {
     "base_uri": "https://localhost:8080/"
    },
    "id": "p9HTw5x7_8wz",
    "outputId": "1e0d395b-5eac-43f9-a18f-05671a567b5d"
   },
   "outputs": [
    {
     "data": {
      "text/plain": [
       "{'accuracy': 78.56149874222163,\n",
       " 'f1': 0.7830130726680099,\n",
       " 'precision': 0.7826200647187586,\n",
       " 'recall': 0.7856149874222164}"
      ]
     },
     "execution_count": 65,
     "metadata": {},
     "output_type": "execute_result"
    }
   ],
   "source": [
    "model_1_results = calculate_results(y_true=val_labels_encoded,\n",
    "                                    y_pred=model_1_preds)\n",
    "model_1_results"
   ]
  },
  {
   "cell_type": "code",
   "execution_count": 66,
   "metadata": {
    "colab": {
     "base_uri": "https://localhost:8080/"
    },
    "id": "vwWijTUy__Oj",
    "outputId": "809077e4-6689-4059-feb7-24254914a6d6"
   },
   "outputs": [
    {
     "data": {
      "text/plain": [
       "{'accuracy': 72.1832384482987,\n",
       " 'f1': 0.6989250353450294,\n",
       " 'precision': 0.7186466952323352,\n",
       " 'recall': 0.7218323844829869}"
      ]
     },
     "execution_count": 66,
     "metadata": {},
     "output_type": "execute_result"
    }
   ],
   "source": [
    "baseline_results"
   ]
  },
  {
   "cell_type": "code",
   "execution_count": 67,
   "metadata": {
    "id": "pPOW5QqIAANv"
   },
   "outputs": [],
   "source": [
    "# Download pretrained TensorFlow Hub USE\n",
    "import tensorflow_hub as hub\n",
    "tf_hub_embedding_layer = hub.KerasLayer(\"https://tfhub.dev/google/universal-sentence-encoder/4\",\n",
    "                                        trainable=False,\n",
    "                                        name=\"universal_sentence_encoder\")"
   ]
  },
  {
   "cell_type": "code",
   "execution_count": 68,
   "metadata": {
    "colab": {
     "base_uri": "https://localhost:8080/"
    },
    "id": "oF6XjekXCjPu",
    "outputId": "578d1b85-3ecd-403d-c99e-8cd28d888a87"
   },
   "outputs": [
    {
     "name": "stdout",
     "output_type": "stream",
     "text": [
      "Random training sentence:\n",
      "the pain related to the procedure was assessed using a visual analog scale ranging from @ to @ , with @ representing no pain and @ the worst pain .\n",
      "\n",
      "Sentence after embedding:\n",
      "[-0.0586028  -0.03177005 -0.01898153  0.06114155  0.00998604 -0.039872\n",
      " -0.03851319  0.05093099  0.02783635  0.05765135  0.07817318  0.0003045\n",
      "  0.00776417  0.04309914  0.04847238  0.01873678 -0.08176095  0.05638722\n",
      "  0.00569551  0.04496652  0.00673222  0.06704517 -0.0363908   0.02717682\n",
      "  0.00061508  0.05383234 -0.05731039 -0.02605375 -0.00096624 -0.04186622] (truncated output)...\n",
      "\n",
      "Length of sentence embedding:\n",
      "512\n"
     ]
    }
   ],
   "source": [
    "# Test out the embedding on a random sentence\n",
    "random_training_sentence = random.choice(train_sentences)\n",
    "print(f\"Random training sentence:\\n{random_training_sentence}\\n\")\n",
    "use_embedded_sentence = tf_hub_embedding_layer([random_training_sentence])\n",
    "print(f\"Sentence after embedding:\\n{use_embedded_sentence[0][:30]} (truncated output)...\\n\")\n",
    "print(f\"Length of sentence embedding:\\n{len(use_embedded_sentence[0])}\")"
   ]
  },
  {
   "cell_type": "code",
   "execution_count": 74,
   "metadata": {
    "id": "OIDP_Fo5C8Ld"
   },
   "outputs": [],
   "source": [
    "inputs=layers.Input(shape=[],dtype=tf.string)\n",
    "pretrained_embedding=tf_hub_embedding_layer(inputs)\n",
    "x=layers.Dense(128,activation='relu')(pretrained_embedding)\n",
    "outputs=layers.Dense(num_classes,activation='softmax')(x)\n",
    "model_2=tf.keras.Model(inputs,outputs)"
   ]
  },
  {
   "cell_type": "code",
   "execution_count": 75,
   "metadata": {
    "id": "696STkRJDweg"
   },
   "outputs": [],
   "source": [
    "model_2.compile(loss='categorical_crossentropy',\n",
    "                optimizer=tf.keras.optimizers.Adam(),\n",
    "                metrics=['accuracy'])"
   ]
  },
  {
   "cell_type": "code",
   "execution_count": 76,
   "metadata": {
    "colab": {
     "base_uri": "https://localhost:8080/"
    },
    "id": "SpudrrsvD6je",
    "outputId": "435ab25d-2104-45d9-ac22-2d0659a9fae4"
   },
   "outputs": [
    {
     "name": "stdout",
     "output_type": "stream",
     "text": [
      "Model: \"model_2\"\n",
      "_________________________________________________________________\n",
      " Layer (type)                Output Shape              Param #   \n",
      "=================================================================\n",
      " input_3 (InputLayer)        [(None,)]                 0         \n",
      "                                                                 \n",
      " universal_sentence_encoder   (None, 512)              256797824 \n",
      " (KerasLayer)                                                    \n",
      "                                                                 \n",
      " dense_3 (Dense)             (None, 128)               65664     \n",
      "                                                                 \n",
      " dense_4 (Dense)             (None, 5)                 645       \n",
      "                                                                 \n",
      "=================================================================\n",
      "Total params: 256,864,133\n",
      "Trainable params: 66,309\n",
      "Non-trainable params: 256,797,824\n",
      "_________________________________________________________________\n"
     ]
    }
   ],
   "source": [
    "model_2.summary()"
   ]
  },
  {
   "cell_type": "code",
   "execution_count": 77,
   "metadata": {
    "colab": {
     "base_uri": "https://localhost:8080/"
    },
    "id": "KQ83xpIgD7s3",
    "outputId": "8c5cf019-8b94-42c3-cabc-0c8d0c8ae6d9"
   },
   "outputs": [
    {
     "name": "stdout",
     "output_type": "stream",
     "text": [
      "Epoch 1/3\n",
      "562/562 [==============================] - 13s 21ms/step - loss: 0.9173 - accuracy: 0.6504 - val_loss: 0.7968 - val_accuracy: 0.6868\n",
      "Epoch 2/3\n",
      "562/562 [==============================] - 11s 20ms/step - loss: 0.7691 - accuracy: 0.7008 - val_loss: 0.7559 - val_accuracy: 0.7045\n",
      "Epoch 3/3\n",
      "562/562 [==============================] - 11s 20ms/step - loss: 0.7532 - accuracy: 0.7123 - val_loss: 0.7415 - val_accuracy: 0.7098\n"
     ]
    }
   ],
   "source": [
    "model_2_history=model_2.fit(train_dataset,\n",
    "                            steps_per_epoch=int(0.1*len(train_dataset)),\n",
    "                            epochs=3,\n",
    "                            validation_data=valid_dataset,\n",
    "                            validation_steps=int(0.1*len(valid_dataset)))"
   ]
  },
  {
   "cell_type": "code",
   "execution_count": 78,
   "metadata": {
    "colab": {
     "base_uri": "https://localhost:8080/"
    },
    "id": "k8sBIIeoEkc7",
    "outputId": "299ef51f-a19b-4d2c-afd7-e29acf835ab0"
   },
   "outputs": [
    {
     "name": "stdout",
     "output_type": "stream",
     "text": [
      "945/945 [==============================] - 16s 17ms/step - loss: 0.7425 - accuracy: 0.7134\n"
     ]
    },
    {
     "data": {
      "text/plain": [
       "[0.7424905300140381, 0.7133920192718506]"
      ]
     },
     "execution_count": 78,
     "metadata": {},
     "output_type": "execute_result"
    }
   ],
   "source": [
    "model_2.evaluate(valid_dataset)"
   ]
  },
  {
   "cell_type": "code",
   "execution_count": 79,
   "metadata": {
    "colab": {
     "base_uri": "https://localhost:8080/"
    },
    "id": "vrdUJmYpEneU",
    "outputId": "2328769a-f29a-4f86-8717-33b5e4f1c7ca"
   },
   "outputs": [
    {
     "data": {
      "text/plain": [
       "array([[4.3094033e-01, 3.6880487e-01, 1.9727617e-03, 1.9095138e-01,\n",
       "        7.3306537e-03],\n",
       "       [3.3688003e-01, 4.8102805e-01, 3.7349951e-03, 1.7534252e-01,\n",
       "        3.0144036e-03],\n",
       "       [2.4795969e-01, 1.7901339e-01, 1.8659020e-02, 5.1204967e-01,\n",
       "        4.2318258e-02],\n",
       "       ...,\n",
       "       [1.9184115e-03, 6.4128307e-03, 6.0793586e-02, 8.6090586e-04,\n",
       "        9.3001431e-01],\n",
       "       [4.0435987e-03, 4.9028166e-02, 2.0050535e-01, 1.5647389e-03,\n",
       "        7.4485821e-01],\n",
       "       [1.6859442e-01, 2.7531546e-01, 4.8778397e-01, 6.8264962e-03,\n",
       "        6.1479669e-02]], dtype=float32)"
      ]
     },
     "execution_count": 79,
     "metadata": {},
     "output_type": "execute_result"
    }
   ],
   "source": [
    "# Make predictions with feature extraction model\n",
    "model_2_pred_probs = model_2.predict(valid_dataset)\n",
    "model_2_pred_probs"
   ]
  },
  {
   "cell_type": "code",
   "execution_count": 80,
   "metadata": {
    "colab": {
     "base_uri": "https://localhost:8080/"
    },
    "id": "nyhIOEtGE8-9",
    "outputId": "cc6c2682-7361-4ba2-d7da-178b582d5963"
   },
   "outputs": [
    {
     "data": {
      "text/plain": [
       "<tf.Tensor: shape=(30212,), dtype=int64, numpy=array([0, 1, 3, ..., 4, 4, 2])>"
      ]
     },
     "execution_count": 80,
     "metadata": {},
     "output_type": "execute_result"
    }
   ],
   "source": [
    "# Convert the predictions with feature extraction model to classes\n",
    "model_2_preds = tf.argmax(model_2_pred_probs, axis=1)\n",
    "model_2_preds"
   ]
  },
  {
   "cell_type": "code",
   "execution_count": 81,
   "metadata": {
    "colab": {
     "base_uri": "https://localhost:8080/"
    },
    "id": "0r7SCP3xE_2D",
    "outputId": "145fe71e-6bdb-40bd-ae82-41344d752557"
   },
   "outputs": [
    {
     "data": {
      "text/plain": [
       "{'accuracy': 71.33920296570899,\n",
       " 'f1': 0.710379666262047,\n",
       " 'precision': 0.7135911525107896,\n",
       " 'recall': 0.7133920296570899}"
      ]
     },
     "execution_count": 81,
     "metadata": {},
     "output_type": "execute_result"
    }
   ],
   "source": [
    "# Calculate results from TF Hub pretrained embeddings results on validation set\n",
    "model_2_results = calculate_results(y_true=val_labels_encoded,\n",
    "                                    y_pred=model_2_preds)\n",
    "model_2_results"
   ]
  },
  {
   "cell_type": "code",
   "execution_count": 82,
   "metadata": {
    "id": "CqqYNF2RFBtk"
   },
   "outputs": [],
   "source": [
    "# Model 3: Conv1D with character embeddings"
   ]
  },
  {
   "cell_type": "code",
   "execution_count": 83,
   "metadata": {
    "colab": {
     "base_uri": "https://localhost:8080/",
     "height": 53
    },
    "id": "blf6GmMGFXo_",
    "outputId": "d1159041-bbbf-457a-cfaa-05968950535c"
   },
   "outputs": [
    {
     "data": {
      "application/vnd.google.colaboratory.intrinsic+json": {
       "type": "string"
      },
      "text/plain": [
       "'t h e   p a i n   r e l a t e d   t o   t h e   p r o c e d u r e   w a s   a s s e s s e d   u s i n g   a   v i s u a l   a n a l o g   s c a l e   r a n g i n g   f r o m   @   t o   @   ,   w i t h   @   r e p r e s e n t i n g   n o   p a i n   a n d   @   t h e   w o r s t   p a i n   .'"
      ]
     },
     "execution_count": 83,
     "metadata": {},
     "output_type": "execute_result"
    }
   ],
   "source": [
    "def split_chars(text):\n",
    "  return \" \".join(list(text))\n",
    "\n",
    "split_chars(random_training_sentence)"
   ]
  },
  {
   "cell_type": "code",
   "execution_count": 84,
   "metadata": {
    "colab": {
     "base_uri": "https://localhost:8080/"
    },
    "id": "lIKE90_dGN2g",
    "outputId": "f38a6502-563d-4b82-ccab-c975b76e7f40"
   },
   "outputs": [
    {
     "name": "stdout",
     "output_type": "stream",
     "text": [
      "t o   i n v e s t i g a t e   t h e   e f f i c a c y   o f   @   w e e k s   o f   d a i l y   l o w - d o s e   o r a l   p r e d n i s o l o n e   i n   i m p r o v i n g   p a i n   ,   m o b i l i t y   ,   a n d   s y s t e m i c   l o w - g r a d e   i n f l a m m a t i o n   i n   t h e   s h o r t   t e r m   a n d   w h e t h e r   t h e   e f f e c t   w o u l d   b e   s u s t a i n e d   a t   @   w e e k s   i n   o l d e r   a d u l t s   w i t h   m o d e r a t e   t o   s e v e r e   k n e e   o s t e o a r t h r i t i s   (   o a   )   .\n"
     ]
    }
   ],
   "source": [
    "# Split sequence-level data splits into character-level data splits\n",
    "train_chars = [split_chars(sentence) for sentence in train_sentences]\n",
    "val_chars = [split_chars(sentence) for sentence in val_sentences]\n",
    "test_chars = [split_chars(sentence) for sentence in test_sentences]\n",
    "print(train_chars[0])"
   ]
  },
  {
   "cell_type": "code",
   "execution_count": 85,
   "metadata": {
    "colab": {
     "base_uri": "https://localhost:8080/"
    },
    "id": "zwB1m3-yGVOX",
    "outputId": "5ef9cd54-870f-438e-c2b9-34c44ff455b7"
   },
   "outputs": [
    {
     "data": {
      "text/plain": [
       "180040"
      ]
     },
     "execution_count": 85,
     "metadata": {},
     "output_type": "execute_result"
    }
   ],
   "source": [
    "len(train_chars)"
   ]
  },
  {
   "cell_type": "code",
   "execution_count": 88,
   "metadata": {
    "colab": {
     "base_uri": "https://localhost:8080/"
    },
    "id": "tGQcVNK2GXA9",
    "outputId": "f2c7b57d-4b8a-4225-99e9-e1adf813d0ba"
   },
   "outputs": [
    {
     "data": {
      "text/plain": [
       "149.3662574983337"
      ]
     },
     "execution_count": 88,
     "metadata": {},
     "output_type": "execute_result"
    }
   ],
   "source": [
    "# What's the average character length?\n",
    "char_lens = [len(sentence) for sentence in train_sentences]  #haven't used split() because then it becomes words and not characters\n",
    "mean_char_len = np.mean(char_lens)\n",
    "mean_char_len"
   ]
  },
  {
   "cell_type": "code",
   "execution_count": 92,
   "metadata": {
    "colab": {
     "base_uri": "https://localhost:8080/",
     "height": 265
    },
    "id": "gsVsOssiGYoc",
    "outputId": "e5da86b0-aad9-4076-b5f6-3570080f4a58"
   },
   "outputs": [
    {
     "data": {
      "image/png": "[encoded data removed]",
      "text/plain": [
       "<Figure size 432x288 with 1 Axes>"
      ]
     },
     "metadata": {
      "needs_background": "light"
     },
     "output_type": "display_data"
    }
   ],
   "source": [
    "import matplotlib.pyplot as plt\n",
    "plt.hist(char_lens, bins=7);"
   ]
  },
  {
   "cell_type": "code",
   "execution_count": 93,
   "metadata": {
    "colab": {
     "base_uri": "https://localhost:8080/"
    },
    "id": "6wQqM58AG2MD",
    "outputId": "945c5de4-2bed-4229-d84a-c569563d6854"
   },
   "outputs": [
    {
     "data": {
      "text/plain": [
       "1386"
      ]
     },
     "execution_count": 93,
     "metadata": {},
     "output_type": "execute_result"
    }
   ],
   "source": [
    "max(char_lens)"
   ]
  },
  {
   "cell_type": "code",
   "execution_count": 94,
   "metadata": {
    "colab": {
     "base_uri": "https://localhost:8080/"
    },
    "id": "YhQl2-lrHKP1",
    "outputId": "750d37ce-fe76-40f9-e134-b965045956d8"
   },
   "outputs": [
    {
     "data": {
      "text/plain": [
       "290"
      ]
     },
     "execution_count": 94,
     "metadata": {},
     "output_type": "execute_result"
    }
   ],
   "source": [
    "# Find what character length covers 95% of sequences\n",
    "output_seq_char_len = int(np.percentile(char_lens, 95))\n",
    "output_seq_char_len"
   ]
  },
  {
   "cell_type": "code",
   "execution_count": 96,
   "metadata": {
    "colab": {
     "base_uri": "https://localhost:8080/",
     "height": 35
    },
    "id": "KtQ44TtmHN2y",
    "outputId": "109a24f6-fa72-4ca1-b526-a2ab2c80b55e"
   },
   "outputs": [
    {
     "data": {
      "application/vnd.google.colaboratory.intrinsic+json": {
       "type": "string"
      },
      "text/plain": [
       "'abcdefghijklmnopqrstuvwxyz0123456789!\"#$%&\\'()*+,-./:;<=>?@[\\\\]^_`{|}~'"
      ]
     },
     "execution_count": 96,
     "metadata": {},
     "output_type": "execute_result"
    }
   ],
   "source": [
    "# Get all keyboard characters for char-level embedding\n",
    "import string\n",
    "alphabet = string.ascii_lowercase + string.digits + string.punctuation\n",
    "alphabet"
   ]
  },
  {
   "cell_type": "code",
   "execution_count": 97,
   "metadata": {
    "colab": {
     "base_uri": "https://localhost:8080/"
    },
    "id": "FbkABLYwHPXa",
    "outputId": "c4a71014-518d-4477-c2d0-44886ced7da5"
   },
   "outputs": [
    {
     "data": {
      "text/plain": [
       "68"
      ]
     },
     "execution_count": 97,
     "metadata": {},
     "output_type": "execute_result"
    }
   ],
   "source": [
    "len(alphabet)"
   ]
  },
  {
   "cell_type": "code",
   "execution_count": 98,
   "metadata": {
    "id": "2kmAzi6EHj9Z"
   },
   "outputs": [],
   "source": [
    "# Create char-level token vectorizer instance\n",
    "NUM_CHAR_TOKENS = len(alphabet) + 2 # num characters in alphabet + space + OOV token\n",
    "char_vectorizer = TextVectorization(max_tokens=NUM_CHAR_TOKENS,  \n",
    "                                    output_sequence_length=output_seq_char_len,\n",
    "                                    standardize=\"lower_and_strip_punctuation\",\n",
    "                                    name=\"char_vectorizer\")\n",
    "\n",
    "# Adapt character vectorizer to training characters\n",
    "char_vectorizer.adapt(train_chars)"
   ]
  },
  {
   "cell_type": "code",
   "execution_count": 99,
   "metadata": {
    "colab": {
     "base_uri": "https://localhost:8080/"
    },
    "id": "yEQsVw8QH3Zn",
    "outputId": "154a385c-9424-47c1-b8c4-0bdefdf7cf24"
   },
   "outputs": [
    {
     "name": "stdout",
     "output_type": "stream",
     "text": [
      "Number of different characters in character vocab: 28\n",
      "5 most common characters: ['', '[UNK]', 'e', 't', 'i']\n",
      "5 least common characters: ['k', 'x', 'z', 'q', 'j']\n"
     ]
    }
   ],
   "source": [
    "# Check character vocabulary characteristics\n",
    "char_vocab = char_vectorizer.get_vocabulary()\n",
    "print(f\"Number of different characters in character vocab: {len(char_vocab)}\")\n",
    "print(f\"5 most common characters: {char_vocab[:5]}\")\n",
    "print(f\"5 least common characters: {char_vocab[-5:]}\")"
   ]
  },
  {
   "cell_type": "code",
   "execution_count": 100,
   "metadata": {
    "colab": {
     "base_uri": "https://localhost:8080/"
    },
    "id": "6CjqSwCfH9lx",
    "outputId": "221dd934-4ad4-4fa6-8e34-88b09f865e23"
   },
   "outputs": [
    {
     "name": "stdout",
     "output_type": "stream",
     "text": [
      "Charified text:\n",
      "a   t o t a l   o f   @   p a t i e n t s   w e r e   r a n d o m i z e d   .\n",
      "\n",
      "Length of chars: 32\n",
      "\n",
      "Vectorized chars:\n",
      "[[ 5  3  7  3  5 12  7 17 14  5  3  4  2  6  3  9 20  2  8  2  8  5  6 10\n",
      "   7 15  4 25  2 10  0  0  0  0  0  0  0  0  0  0  0  0  0  0  0  0  0  0\n",
      "   0  0  0  0  0  0  0  0  0  0  0  0  0  0  0  0  0  0  0  0  0  0  0  0\n",
      "   0  0  0  0  0  0  0  0  0  0  0  0  0  0  0  0  0  0  0  0  0  0  0  0\n",
      "   0  0  0  0  0  0  0  0  0  0  0  0  0  0  0  0  0  0  0  0  0  0  0  0\n",
      "   0  0  0  0  0  0  0  0  0  0  0  0  0  0  0  0  0  0  0  0  0  0  0  0\n",
      "   0  0  0  0  0  0  0  0  0  0  0  0  0  0  0  0  0  0  0  0  0  0  0  0\n",
      "   0  0  0  0  0  0  0  0  0  0  0  0  0  0  0  0  0  0  0  0  0  0  0  0\n",
      "   0  0  0  0  0  0  0  0  0  0  0  0  0  0  0  0  0  0  0  0  0  0  0  0\n",
      "   0  0  0  0  0  0  0  0  0  0  0  0  0  0  0  0  0  0  0  0  0  0  0  0\n",
      "   0  0  0  0  0  0  0  0  0  0  0  0  0  0  0  0  0  0  0  0  0  0  0  0\n",
      "   0  0  0  0  0  0  0  0  0  0  0  0  0  0  0  0  0  0  0  0  0  0  0  0\n",
      "   0  0]]\n",
      "\n",
      "Length of vectorized chars: 290\n"
     ]
    }
   ],
   "source": [
    "# Test out character vectorizer\n",
    "random_train_chars = random.choice(train_chars)\n",
    "print(f\"Charified text:\\n{random_train_chars}\")\n",
    "print(f\"\\nLength of chars: {len(random_train_chars.split())}\")\n",
    "vectorized_chars = char_vectorizer([random_train_chars])\n",
    "print(f\"\\nVectorized chars:\\n{vectorized_chars}\")\n",
    "print(f\"\\nLength of vectorized chars: {len(vectorized_chars[0])}\")"
   ]
  },
  {
   "cell_type": "code",
   "execution_count": 101,
   "metadata": {
    "colab": {
     "base_uri": "https://localhost:8080/"
    },
    "id": "fyG7nQmOIGkh",
    "outputId": "30994434-8926-4ef6-a9e9-f9ff9f12952b"
   },
   "outputs": [
    {
     "name": "stdout",
     "output_type": "stream",
     "text": [
      "Charified text (before vectorization and embedding):\n",
      "a   t o t a l   o f   @   p a t i e n t s   w e r e   r a n d o m i z e d   .\n",
      "\n",
      "Embedded chars (after vectorization and embedding):\n",
      "[[[-0.04210136  0.01178992 -0.01665761 ... -0.02607906  0.04564998\n",
      "   -0.0300871 ]\n",
      "  [-0.04374198 -0.0476069   0.043179   ...  0.00597702  0.03387428\n",
      "   -0.03237118]\n",
      "  [ 0.02687571 -0.0202105   0.04271152 ...  0.00973453 -0.01217359\n",
      "    0.04581917]\n",
      "  ...\n",
      "  [-0.04973866  0.0336154   0.0306325  ...  0.00493222  0.04377209\n",
      "    0.02156096]\n",
      "  [-0.04973866  0.0336154   0.0306325  ...  0.00493222  0.04377209\n",
      "    0.02156096]\n",
      "  [-0.04973866  0.0336154   0.0306325  ...  0.00493222  0.04377209\n",
      "    0.02156096]]]\n",
      "\n",
      "Character embedding shape: (1, 290, 25)\n"
     ]
    }
   ],
   "source": [
    "# Create char embedding layer\n",
    "char_embed = layers.Embedding(input_dim=len(char_vocab), # number of different characters\n",
    "                              output_dim=25, # embedding dimension of each character (same as Figure 1 in https://arxiv.org/pdf/1612.05251.pdf)\n",
    "                              mask_zero=False, # don't use masks (this messes up model_5 if set to True)\n",
    "                              name=\"char_embed\")\n",
    "\n",
    "# Test out character embedding layer\n",
    "print(f\"Charified text (before vectorization and embedding):\\n{random_train_chars}\\n\")\n",
    "char_embed_example = char_embed(char_vectorizer([random_train_chars]))\n",
    "print(f\"Embedded chars (after vectorization and embedding):\\n{char_embed_example}\\n\")\n",
    "print(f\"Character embedding shape: {char_embed_example.shape}\")"
   ]
  },
  {
   "cell_type": "code",
   "execution_count": 111,
   "metadata": {
    "id": "VtGMaBPzJW31"
   },
   "outputs": [],
   "source": [
    "inputs=layers.Input(shape=(1,),dtype=tf.string)\n",
    "char_vectors=char_vectorizer(inputs)\n",
    "char_embeddings=char_embed(char_vectors)\n",
    "x=layers.Conv1D(64,kernel_size=5,padding='same',activation='relu')(char_embeddings)\n",
    "x=layers.GlobalMaxPool1D()(x)\n",
    "outputs=layers.Dense(num_classes,activation='softmax')(x)\n",
    "model_3=tf.keras.Model(inputs,outputs)"
   ]
  },
  {
   "cell_type": "code",
   "execution_count": 112,
   "metadata": {
    "id": "CWFufObgKdA8"
   },
   "outputs": [],
   "source": [
    "model_3.compile(loss='categorical_crossentropy',\n",
    "                optimizer=tf.keras.optimizers.Adam(),\n",
    "                metrics=['accuracy'])"
   ]
  },
  {
   "cell_type": "code",
   "execution_count": 113,
   "metadata": {
    "colab": {
     "base_uri": "https://localhost:8080/"
    },
    "id": "It5jL3GYK46b",
    "outputId": "43fd909e-d07e-40d3-8dda-b91a03e379c6"
   },
   "outputs": [
    {
     "name": "stdout",
     "output_type": "stream",
     "text": [
      "Model: \"model_4\"\n",
      "_________________________________________________________________\n",
      " Layer (type)                Output Shape              Param #   \n",
      "=================================================================\n",
      " input_5 (InputLayer)        [(None, 1)]               0         \n",
      "                                                                 \n",
      " char_vectorizer (TextVector  (None, 290)              0         \n",
      " ization)                                                        \n",
      "                                                                 \n",
      " char_embed (Embedding)      (None, 290, 25)           700       \n",
      "                                                                 \n",
      " conv1d_2 (Conv1D)           (None, 290, 64)           8064      \n",
      "                                                                 \n",
      " global_max_pooling1d (Globa  (None, 64)               0         \n",
      " lMaxPooling1D)                                                  \n",
      "                                                                 \n",
      " dense_6 (Dense)             (None, 5)                 325       \n",
      "                                                                 \n",
      "=================================================================\n",
      "Total params: 9,089\n",
      "Trainable params: 9,089\n",
      "Non-trainable params: 0\n",
      "_________________________________________________________________\n"
     ]
    }
   ],
   "source": [
    "model_3.summary()"
   ]
  },
  {
   "cell_type": "code",
   "execution_count": 114,
   "metadata": {
    "colab": {
     "base_uri": "https://localhost:8080/"
    },
    "id": "3ZIUb4EdLWTZ",
    "outputId": "4de005cc-506a-47a9-ab54-4feed2d75067"
   },
   "outputs": [
    {
     "data": {
      "text/plain": [
       "<PrefetchDataset shapes: ((None,), (None, 5)), types: (tf.string, tf.float64)>"
      ]
     },
     "execution_count": 114,
     "metadata": {},
     "output_type": "execute_result"
    }
   ],
   "source": [
    "# Create char datasets\n",
    "train_char_dataset = tf.data.Dataset.from_tensor_slices((train_chars, train_labels_one_hot)).batch(32).prefetch(tf.data.AUTOTUNE)\n",
    "val_char_dataset = tf.data.Dataset.from_tensor_slices((val_chars, val_labels_one_hot)).batch(32).prefetch(tf.data.AUTOTUNE)\n",
    "\n",
    "train_char_dataset"
   ]
  },
  {
   "cell_type": "code",
   "execution_count": 115,
   "metadata": {
    "colab": {
     "base_uri": "https://localhost:8080/"
    },
    "id": "WfK1OPyfLtvW",
    "outputId": "ba7b750d-0893-4320-b154-5b6c179fe651"
   },
   "outputs": [
    {
     "name": "stdout",
     "output_type": "stream",
     "text": [
      "Epoch 1/3\n",
      "562/562 [==============================] - 7s 11ms/step - loss: 1.2632 - accuracy: 0.4785 - val_loss: 1.1392 - val_accuracy: 0.5382\n",
      "Epoch 2/3\n",
      "562/562 [==============================] - 6s 10ms/step - loss: 1.0896 - accuracy: 0.5557 - val_loss: 1.0209 - val_accuracy: 0.5868\n",
      "Epoch 3/3\n",
      "562/562 [==============================] - 6s 10ms/step - loss: 0.9978 - accuracy: 0.6035 - val_loss: 0.9514 - val_accuracy: 0.6303\n"
     ]
    }
   ],
   "source": [
    "# Fit the model on chars only\n",
    "model_3_history = model_3.fit(train_char_dataset,\n",
    "                              steps_per_epoch=int(0.1 * len(train_char_dataset)),\n",
    "                              epochs=3,\n",
    "                              validation_data=val_char_dataset,\n",
    "                              validation_steps=int(0.1 * len(val_char_dataset)))"
   ]
  },
  {
   "cell_type": "code",
   "execution_count": 116,
   "metadata": {
    "colab": {
     "base_uri": "https://localhost:8080/"
    },
    "id": "Pj33IL5fLx28",
    "outputId": "afdd2172-4e9f-44be-a166-f18cf3bbcf82"
   },
   "outputs": [
    {
     "name": "stdout",
     "output_type": "stream",
     "text": [
      "945/945 [==============================] - 5s 5ms/step - loss: 0.9611 - accuracy: 0.6244\n"
     ]
    },
    {
     "data": {
      "text/plain": [
       "[0.9610681533813477, 0.6244207620620728]"
      ]
     },
     "execution_count": 116,
     "metadata": {},
     "output_type": "execute_result"
    }
   ],
   "source": [
    "# Evaluate model_3 on whole validation char dataset\n",
    "model_3.evaluate(val_char_dataset)"
   ]
  },
  {
   "cell_type": "code",
   "execution_count": 117,
   "metadata": {
    "colab": {
     "base_uri": "https://localhost:8080/"
    },
    "id": "TNoJSVRyL1pT",
    "outputId": "c7fd5ee8-e9f9-4a0f-f914-da64397ce95b"
   },
   "outputs": [
    {
     "data": {
      "text/plain": [
       "array([[0.14721109, 0.34138066, 0.16679645, 0.29956672, 0.04504512],\n",
       "       [0.22969   , 0.436441  , 0.02062292, 0.25891095, 0.054335  ],\n",
       "       [0.11685045, 0.28947556, 0.05817249, 0.49822333, 0.0372782 ],\n",
       "       ...,\n",
       "       [0.01796159, 0.03690117, 0.05176446, 0.02328345, 0.87008935],\n",
       "       [0.02505993, 0.12698919, 0.507828  , 0.04124789, 0.298875  ],\n",
       "       [0.32867628, 0.43791008, 0.13943349, 0.07475252, 0.01922763]],\n",
       "      dtype=float32)"
      ]
     },
     "execution_count": 117,
     "metadata": {},
     "output_type": "execute_result"
    }
   ],
   "source": [
    "# Make predictions with character model only\n",
    "model_3_pred_probs = model_3.predict(val_char_dataset)\n",
    "model_3_pred_probs"
   ]
  },
  {
   "cell_type": "code",
   "execution_count": 118,
   "metadata": {
    "colab": {
     "base_uri": "https://localhost:8080/"
    },
    "id": "X_I-9mxKL3Wo",
    "outputId": "5b0b2e83-ba69-4fcd-a6d5-75888911e70b"
   },
   "outputs": [
    {
     "data": {
      "text/plain": [
       "<tf.Tensor: shape=(30212,), dtype=int64, numpy=array([1, 1, 3, ..., 4, 2, 1])>"
      ]
     },
     "execution_count": 118,
     "metadata": {},
     "output_type": "execute_result"
    }
   ],
   "source": [
    "# Convert predictions to classes\n",
    "model_3_preds = tf.argmax(model_3_pred_probs, axis=1)\n",
    "model_3_preds"
   ]
  },
  {
   "cell_type": "code",
   "execution_count": 119,
   "metadata": {
    "colab": {
     "base_uri": "https://localhost:8080/"
    },
    "id": "k53SvVgyL5mE",
    "outputId": "bdda537f-7c49-4327-fc10-247ac0263c12"
   },
   "outputs": [
    {
     "data": {
      "text/plain": [
       "{'accuracy': 62.442075996292864,\n",
       " 'f1': 0.6142857946273007,\n",
       " 'precision': 0.6277487662430705,\n",
       " 'recall': 0.6244207599629287}"
      ]
     },
     "execution_count": 119,
     "metadata": {},
     "output_type": "execute_result"
    }
   ],
   "source": [
    "# Calculate Conv1D char only model results\n",
    "model_3_results = calculate_results(y_true=val_labels_encoded,\n",
    "                                        y_pred=model_3_preds)\n",
    "model_3_results"
   ]
  },
  {
   "cell_type": "code",
   "execution_count": 125,
   "metadata": {
    "id": "b_pmBR6dL7vF"
   },
   "outputs": [],
   "source": [
    "#Model 4: Combining pretrained embeddings+character_embeddings"
   ]
  },
  {
   "cell_type": "code",
   "execution_count": 126,
   "metadata": {
    "id": "acnY6Qa-Q7GW"
   },
   "outputs": [],
   "source": [
    "token_inputs=layers.Input(shape=[],dtype=tf.string,name='token_input')\n",
    "token_embeddings=tf_hub_embedding_layer(token_inputs)\n",
    "token_outputs=layers.Dense(128,activation='relu')(token_embeddings)\n",
    "token_model=tf.keras.Model(token_inputs,token_outputs)\n",
    "\n",
    "char_inputs=layers.Input(shape=(1,),dtype=tf.string,name='char_input')\n",
    "char_vectors=char_vectorizer(char_inputs)\n",
    "char_embeddings=char_embed(char_vectors)\n",
    "char_bi_lstm=layers.Bidirectional(layers.LSTM(24))(char_embeddings)\n",
    "char_model=tf.keras.Model(char_inputs,char_bi_lstm)\n",
    "\n",
    "token_char_concat=layers.Concatenate(name='toke_char_hybrid')([token_model.output,\n",
    "                                                               char_model.output])\n",
    "\n",
    "combined_dropout=layers.Dropout(0.5)(token_char_concat)\n",
    "combined_dense=layers.Dense(128,activation='relu')(combined_dropout)\n",
    "final_dropout=layers.Dropout(0.5)(combined_dense)\n",
    "output_layer=layers.Dense(num_classes,activation='softmax')(final_dropout)\n",
    "\n",
    "model_4=tf.keras.Model(inputs=[token_model.input,char_model.input],\n",
    "                       outputs=output_layer,\n",
    "                       name='model_4_token_and_char_embeddings')"
   ]
  },
  {
   "cell_type": "code",
   "execution_count": 127,
   "metadata": {
    "colab": {
     "base_uri": "https://localhost:8080/"
    },
    "id": "79To6EgjYECc",
    "outputId": "694cdb6f-a0ce-4f76-9997-dfb87772bdd7"
   },
   "outputs": [
    {
     "name": "stdout",
     "output_type": "stream",
     "text": [
      "Model: \"model_4_token_and_char_embeddings\"\n",
      "__________________________________________________________________________________________________\n",
      " Layer (type)                   Output Shape         Param #     Connected to                     \n",
      "==================================================================================================\n",
      " char_input (InputLayer)        [(None, 1)]          0           []                               \n",
      "                                                                                                  \n",
      " token_input (InputLayer)       [(None,)]            0           []                               \n",
      "                                                                                                  \n",
      " char_vectorizer (TextVectoriza  (None, 290)         0           ['char_input[0][0]']             \n",
      " tion)                                                                                            \n",
      "                                                                                                  \n",
      " universal_sentence_encoder (Ke  (None, 512)         256797824   ['token_input[0][0]']            \n",
      " rasLayer)                                                                                        \n",
      "                                                                                                  \n",
      " char_embed (Embedding)         (None, 290, 25)      700         ['char_vectorizer[2][0]']        \n",
      "                                                                                                  \n",
      " dense_7 (Dense)                (None, 128)          65664       ['universal_sentence_encoder[2][0\n",
      "                                                                 ]']                              \n",
      "                                                                                                  \n",
      " bidirectional (Bidirectional)  (None, 48)           9600        ['char_embed[2][0]']             \n",
      "                                                                                                  \n",
      " toke_char_hybrid (Concatenate)  (None, 176)         0           ['dense_7[0][0]',                \n",
      "                                                                  'bidirectional[0][0]']          \n",
      "                                                                                                  \n",
      " dropout (Dropout)              (None, 176)          0           ['toke_char_hybrid[0][0]']       \n",
      "                                                                                                  \n",
      " dense_8 (Dense)                (None, 128)          22656       ['dropout[0][0]']                \n",
      "                                                                                                  \n",
      " dropout_1 (Dropout)            (None, 128)          0           ['dense_8[0][0]']                \n",
      "                                                                                                  \n",
      " dense_9 (Dense)                (None, 5)            645         ['dropout_1[0][0]']              \n",
      "                                                                                                  \n",
      "==================================================================================================\n",
      "Total params: 256,897,089\n",
      "Trainable params: 99,265\n",
      "Non-trainable params: 256,797,824\n",
      "__________________________________________________________________________________________________\n"
     ]
    }
   ],
   "source": [
    "model_4.summary()"
   ]
  },
  {
   "cell_type": "code",
   "execution_count": 129,
   "metadata": {
    "colab": {
     "base_uri": "https://localhost:8080/",
     "height": 976
    },
    "id": "wlP21es8YPn3",
    "outputId": "ac5b17dc-f402-4896-a756-d93f6e51fb72"
   },
   "outputs": [
    {
     "data": {
      "image/png": "[encoded data removed]",
      "text/plain": [
       "<IPython.core.display.Image object>"
      ]
     },
     "execution_count": 129,
     "metadata": {},
     "output_type": "execute_result"
    }
   ],
   "source": [
    "from tensorflow.keras.utils import plot_model\n",
    "plot_model(model_4,show_shapes=True)"
   ]
  },
  {
   "cell_type": "code",
   "execution_count": 130,
   "metadata": {
    "id": "GuAOVdSkYZdz"
   },
   "outputs": [],
   "source": [
    "model_4.compile(loss=\"categorical_crossentropy\",\n",
    "                optimizer=tf.keras.optimizers.Adam(),\n",
    "                metrics=[\"accuracy\"])"
   ]
  },
  {
   "cell_type": "code",
   "execution_count": 131,
   "metadata": {
    "id": "sJgJCxuNY44z"
   },
   "outputs": [],
   "source": [
    "# Combine chars and tokens into a dataset\n",
    "train_char_token_data = tf.data.Dataset.from_tensor_slices((train_sentences, train_chars)) # make data\n",
    "train_char_token_labels = tf.data.Dataset.from_tensor_slices(train_labels_one_hot) # make labels\n",
    "train_char_token_dataset = tf.data.Dataset.zip((train_char_token_data, train_char_token_labels)) # combine data and labels\n",
    "\n",
    "# Prefetch and batch train data\n",
    "train_char_token_dataset = train_char_token_dataset.batch(32).prefetch(tf.data.AUTOTUNE) \n",
    "\n",
    "# Repeat same steps validation data\n",
    "val_char_token_data = tf.data.Dataset.from_tensor_slices((val_sentences, val_chars))\n",
    "val_char_token_labels = tf.data.Dataset.from_tensor_slices(val_labels_one_hot)\n",
    "val_char_token_dataset = tf.data.Dataset.zip((val_char_token_data, val_char_token_labels))\n",
    "val_char_token_dataset = val_char_token_dataset.batch(32).prefetch(tf.data.AUTOTUNE)"
   ]
  },
  {
   "cell_type": "code",
   "execution_count": 132,
   "metadata": {
    "colab": {
     "base_uri": "https://localhost:8080/"
    },
    "id": "l0HBTZXrZbOm",
    "outputId": "536a9f51-6973-414b-c4c7-449ec01fe185"
   },
   "outputs": [
    {
     "data": {
      "text/plain": [
       "(<PrefetchDataset shapes: (((None,), (None,)), (None, 5)), types: ((tf.string, tf.string), tf.float64)>,\n",
       " <PrefetchDataset shapes: (((None,), (None,)), (None, 5)), types: ((tf.string, tf.string), tf.float64)>)"
      ]
     },
     "execution_count": 132,
     "metadata": {},
     "output_type": "execute_result"
    }
   ],
   "source": [
    "# Check out training char and token embedding dataset\n",
    "train_char_token_dataset, val_char_token_dataset"
   ]
  },
  {
   "cell_type": "code",
   "execution_count": 133,
   "metadata": {
    "colab": {
     "base_uri": "https://localhost:8080/"
    },
    "id": "ux8u-_5YZfpY",
    "outputId": "9484073e-0d04-4f91-b758-0c7ae1d60430"
   },
   "outputs": [
    {
     "name": "stdout",
     "output_type": "stream",
     "text": [
      "Epoch 1/3\n",
      "562/562 [==============================] - 75s 124ms/step - loss: 0.9881 - accuracy: 0.6067 - val_loss: 0.7890 - val_accuracy: 0.6991\n",
      "Epoch 2/3\n",
      "562/562 [==============================] - 68s 121ms/step - loss: 0.8105 - accuracy: 0.6863 - val_loss: 0.7269 - val_accuracy: 0.7264\n",
      "Epoch 3/3\n",
      "562/562 [==============================] - 68s 121ms/step - loss: 0.7857 - accuracy: 0.7001 - val_loss: 0.7000 - val_accuracy: 0.7317\n"
     ]
    }
   ],
   "source": [
    "# Fit the model on tokens and chars\n",
    "model_4_history = model_4.fit(train_char_token_dataset, # train on dataset of token and characters\n",
    "                              steps_per_epoch=int(0.1 * len(train_char_token_dataset)),\n",
    "                              epochs=3,\n",
    "                              validation_data=val_char_token_dataset,\n",
    "                              validation_steps=int(0.1 * len(val_char_token_dataset)))"
   ]
  },
  {
   "cell_type": "code",
   "execution_count": 134,
   "metadata": {
    "colab": {
     "base_uri": "https://localhost:8080/"
    },
    "id": "lxHj1VFHZl_r",
    "outputId": "3aab9e3a-edde-4cbd-b1f6-64f80aa73bc4"
   },
   "outputs": [
    {
     "name": "stdout",
     "output_type": "stream",
     "text": [
      "945/945 [==============================] - 52s 55ms/step - loss: 0.7034 - accuracy: 0.7305\n"
     ]
    },
    {
     "data": {
      "text/plain": [
       "[0.703411340713501, 0.7305044531822205]"
      ]
     },
     "execution_count": 134,
     "metadata": {},
     "output_type": "execute_result"
    }
   ],
   "source": [
    "# Evaluate on the whole validation dataset\n",
    "model_4.evaluate(val_char_token_dataset)"
   ]
  },
  {
   "cell_type": "code",
   "execution_count": 135,
   "metadata": {
    "colab": {
     "base_uri": "https://localhost:8080/"
    },
    "id": "PbuRwnE0ZzMi",
    "outputId": "c9374eeb-815e-4585-bf40-3dda8227bf03"
   },
   "outputs": [
    {
     "data": {
      "text/plain": [
       "array([[3.9471290e-01, 3.8387913e-01, 2.9755617e-03, 2.1223225e-01,\n",
       "        6.2002577e-03],\n",
       "       [3.1254017e-01, 4.4550055e-01, 2.6417647e-03, 2.3747468e-01,\n",
       "        1.8428864e-03],\n",
       "       [2.7603507e-01, 2.0643924e-01, 5.6885075e-02, 3.9732686e-01,\n",
       "        6.3313842e-02],\n",
       "       ...,\n",
       "       [2.9868507e-04, 6.1243908e-03, 4.6129353e-02, 2.2624592e-04,\n",
       "        9.4722128e-01],\n",
       "       [5.5687660e-03, 5.3249523e-02, 2.5064021e-01, 3.4983156e-03,\n",
       "        6.8704319e-01],\n",
       "       [3.3267277e-01, 2.6731122e-01, 2.8885356e-01, 2.7337575e-02,\n",
       "        8.3824925e-02]], dtype=float32)"
      ]
     },
     "execution_count": 135,
     "metadata": {},
     "output_type": "execute_result"
    }
   ],
   "source": [
    "# Make predictions using the token-character model hybrid\n",
    "model_4_pred_probs = model_4.predict(val_char_token_dataset)\n",
    "model_4_pred_probs"
   ]
  },
  {
   "cell_type": "code",
   "execution_count": 136,
   "metadata": {
    "colab": {
     "base_uri": "https://localhost:8080/"
    },
    "id": "RiA8qwE_Z442",
    "outputId": "7d41faee-b592-4250-c4fa-1c353e7d9c25"
   },
   "outputs": [
    {
     "data": {
      "text/plain": [
       "<tf.Tensor: shape=(30212,), dtype=int64, numpy=array([0, 1, 3, ..., 4, 4, 0])>"
      ]
     },
     "execution_count": 136,
     "metadata": {},
     "output_type": "execute_result"
    }
   ],
   "source": [
    "# Turn prediction probabilities into prediction classes\n",
    "model_4_preds = tf.argmax(model_4_pred_probs, axis=1)\n",
    "model_4_preds"
   ]
  },
  {
   "cell_type": "code",
   "execution_count": 137,
   "metadata": {
    "colab": {
     "base_uri": "https://localhost:8080/"
    },
    "id": "HECAtgvSZ72t",
    "outputId": "59a90fb7-f892-4cdf-bf42-947147db8d17"
   },
   "outputs": [
    {
     "data": {
      "text/plain": [
       "{'accuracy': 73.05044353237125,\n",
       " 'f1': 0.7272431870702228,\n",
       " 'precision': 0.7306377853517582,\n",
       " 'recall': 0.7305044353237125}"
      ]
     },
     "execution_count": 137,
     "metadata": {},
     "output_type": "execute_result"
    }
   ],
   "source": [
    "# Get results of token-char-hybrid model\n",
    "model_4_results = calculate_results(y_true=val_labels_encoded,\n",
    "                                    y_pred=model_4_preds)\n",
    "model_4_results"
   ]
  },
  {
   "cell_type": "code",
   "execution_count": 138,
   "metadata": {
    "id": "H4z_-LZgZ-S8"
   },
   "outputs": [],
   "source": [
    "#Model 5: pretrained token+character+positional embeddings"
   ]
  },
  {
   "cell_type": "code",
   "execution_count": 139,
   "metadata": {
    "colab": {
     "base_uri": "https://localhost:8080/",
     "height": 206
    },
    "id": "C17FHrQPan5d",
    "outputId": "8650999b-314e-4563-d7a4-091d0ebc360b"
   },
   "outputs": [
    {
     "data": {
      "text/html": [
       "<div>\n",
       "<style scoped>\n",
       "    .dataframe tbody tr th:only-of-type {\n",
       "        vertical-align: middle;\n",
       "    }\n",
       "\n",
       "    .dataframe tbody tr th {\n",
       "        vertical-align: top;\n",
       "    }\n",
       "\n",
       "    .dataframe thead th {\n",
       "        text-align: right;\n",
       "    }\n",
       "</style>\n",
       "<table border=\"1\" class=\"dataframe\">\n",
       "  <thead>\n",
       "    <tr style=\"text-align: right;\">\n",
       "      <th></th>\n",
       "      <th>target</th>\n",
       "      <th>text</th>\n",
       "      <th>line_number</th>\n",
       "      <th>total_lines</th>\n",
       "    </tr>\n",
       "  </thead>\n",
       "  <tbody>\n",
       "    <tr>\n",
       "      <th>0</th>\n",
       "      <td>OBJECTIVE</td>\n",
       "      <td>to investigate the efficacy of @ weeks of dail...</td>\n",
       "      <td>0</td>\n",
       "      <td>11</td>\n",
       "    </tr>\n",
       "    <tr>\n",
       "      <th>1</th>\n",
       "      <td>METHODS</td>\n",
       "      <td>a total of @ patients with primary knee oa wer...</td>\n",
       "      <td>1</td>\n",
       "      <td>11</td>\n",
       "    </tr>\n",
       "    <tr>\n",
       "      <th>2</th>\n",
       "      <td>METHODS</td>\n",
       "      <td>outcome measures included pain reduction and i...</td>\n",
       "      <td>2</td>\n",
       "      <td>11</td>\n",
       "    </tr>\n",
       "    <tr>\n",
       "      <th>3</th>\n",
       "      <td>METHODS</td>\n",
       "      <td>pain was assessed using the visual analog pain...</td>\n",
       "      <td>3</td>\n",
       "      <td>11</td>\n",
       "    </tr>\n",
       "    <tr>\n",
       "      <th>4</th>\n",
       "      <td>METHODS</td>\n",
       "      <td>secondary outcome measures included the wester...</td>\n",
       "      <td>4</td>\n",
       "      <td>11</td>\n",
       "    </tr>\n",
       "  </tbody>\n",
       "</table>\n",
       "</div>"
      ],
      "text/plain": [
       "      target  ... total_lines\n",
       "0  OBJECTIVE  ...          11\n",
       "1    METHODS  ...          11\n",
       "2    METHODS  ...          11\n",
       "3    METHODS  ...          11\n",
       "4    METHODS  ...          11\n",
       "\n",
       "[5 rows x 4 columns]"
      ]
     },
     "execution_count": 139,
     "metadata": {},
     "output_type": "execute_result"
    }
   ],
   "source": [
    "train_df.head()"
   ]
  },
  {
   "cell_type": "code",
   "execution_count": 140,
   "metadata": {
    "colab": {
     "base_uri": "https://localhost:8080/"
    },
    "id": "1MENSIw7df58",
    "outputId": "955032a3-94d5-4a9a-8252-0f414f717075"
   },
   "outputs": [
    {
     "data": {
      "text/plain": [
       "0     15000\n",
       "1     15000\n",
       "2     15000\n",
       "3     15000\n",
       "4     14992\n",
       "5     14949\n",
       "6     14758\n",
       "7     14279\n",
       "8     13346\n",
       "9     11981\n",
       "10    10041\n",
       "11     7892\n",
       "12     5853\n",
       "13     4152\n",
       "14     2835\n",
       "15     1861\n",
       "16     1188\n",
       "17      751\n",
       "18      462\n",
       "19      286\n",
       "20      162\n",
       "21      101\n",
       "22       66\n",
       "23       33\n",
       "24       22\n",
       "25       14\n",
       "26        7\n",
       "27        4\n",
       "28        3\n",
       "29        1\n",
       "30        1\n",
       "Name: line_number, dtype: int64"
      ]
     },
     "execution_count": 140,
     "metadata": {},
     "output_type": "execute_result"
    }
   ],
   "source": [
    "train_df['line_number'].value_counts()"
   ]
  },
  {
   "cell_type": "code",
   "execution_count": 141,
   "metadata": {
    "colab": {
     "base_uri": "https://localhost:8080/",
     "height": 283
    },
    "id": "zJv93xFGemiT",
    "outputId": "9de5fa23-ae10-4c75-dff0-75076e1a5613"
   },
   "outputs": [
    {
     "data": {
      "text/plain": [
       "<matplotlib.axes._subplots.AxesSubplot at 0x7ff2c06b21d0>"
      ]
     },
     "execution_count": 141,
     "metadata": {},
     "output_type": "execute_result"
    },
    {
     "data": {
      "image/png": "[encoded data removed]",
      "text/plain": [
       "<Figure size 432x288 with 1 Axes>"
      ]
     },
     "metadata": {
      "needs_background": "light"
     },
     "output_type": "display_data"
    }
   ],
   "source": [
    "# Check the distribution of \"line_number\" column\n",
    "train_df.line_number.plot.hist()"
   ]
  },
  {
   "cell_type": "code",
   "execution_count": 142,
   "metadata": {
    "id": "9bEHM8Zoe3Xf"
   },
   "outputs": [],
   "source": [
    "# Use TensorFlow to create one-hot-encoded tensors of our \"line_number\" column \n",
    "train_line_numbers_one_hot = tf.one_hot(train_df[\"line_number\"].to_numpy(), depth=15)\n",
    "val_line_numbers_one_hot = tf.one_hot(val_df[\"line_number\"].to_numpy(), depth=15)\n",
    "test_line_numbers_one_hot = tf.one_hot(test_df[\"line_number\"].to_numpy(), depth=15)"
   ]
  },
  {
   "cell_type": "code",
   "execution_count": 143,
   "metadata": {
    "colab": {
     "base_uri": "https://localhost:8080/"
    },
    "id": "YQG_NQrsfCle",
    "outputId": "e8a71601-7870-475b-fc66-14ccf98ce895"
   },
   "outputs": [
    {
     "data": {
      "text/plain": [
       "(TensorShape([180040, 15]), <tf.Tensor: shape=(20, 15), dtype=float32, numpy=\n",
       " array([[1., 0., 0., 0., 0., 0., 0., 0., 0., 0., 0., 0., 0., 0., 0.],\n",
       "        [0., 1., 0., 0., 0., 0., 0., 0., 0., 0., 0., 0., 0., 0., 0.],\n",
       "        [0., 0., 1., 0., 0., 0., 0., 0., 0., 0., 0., 0., 0., 0., 0.],\n",
       "        [0., 0., 0., 1., 0., 0., 0., 0., 0., 0., 0., 0., 0., 0., 0.],\n",
       "        [0., 0., 0., 0., 1., 0., 0., 0., 0., 0., 0., 0., 0., 0., 0.],\n",
       "        [0., 0., 0., 0., 0., 1., 0., 0., 0., 0., 0., 0., 0., 0., 0.],\n",
       "        [0., 0., 0., 0., 0., 0., 1., 0., 0., 0., 0., 0., 0., 0., 0.],\n",
       "        [0., 0., 0., 0., 0., 0., 0., 1., 0., 0., 0., 0., 0., 0., 0.],\n",
       "        [0., 0., 0., 0., 0., 0., 0., 0., 1., 0., 0., 0., 0., 0., 0.],\n",
       "        [0., 0., 0., 0., 0., 0., 0., 0., 0., 1., 0., 0., 0., 0., 0.],\n",
       "        [0., 0., 0., 0., 0., 0., 0., 0., 0., 0., 1., 0., 0., 0., 0.],\n",
       "        [0., 0., 0., 0., 0., 0., 0., 0., 0., 0., 0., 1., 0., 0., 0.],\n",
       "        [1., 0., 0., 0., 0., 0., 0., 0., 0., 0., 0., 0., 0., 0., 0.],\n",
       "        [0., 1., 0., 0., 0., 0., 0., 0., 0., 0., 0., 0., 0., 0., 0.],\n",
       "        [0., 0., 1., 0., 0., 0., 0., 0., 0., 0., 0., 0., 0., 0., 0.],\n",
       "        [0., 0., 0., 1., 0., 0., 0., 0., 0., 0., 0., 0., 0., 0., 0.],\n",
       "        [0., 0., 0., 0., 1., 0., 0., 0., 0., 0., 0., 0., 0., 0., 0.],\n",
       "        [0., 0., 0., 0., 0., 1., 0., 0., 0., 0., 0., 0., 0., 0., 0.],\n",
       "        [0., 0., 0., 0., 0., 0., 1., 0., 0., 0., 0., 0., 0., 0., 0.],\n",
       "        [0., 0., 0., 0., 0., 0., 0., 1., 0., 0., 0., 0., 0., 0., 0.]],\n",
       "       dtype=float32)>)"
      ]
     },
     "execution_count": 143,
     "metadata": {},
     "output_type": "execute_result"
    }
   ],
   "source": [
    "# Check one-hot encoded \"line_number\" feature samples\n",
    "train_line_numbers_one_hot.shape, train_line_numbers_one_hot[:20]"
   ]
  },
  {
   "cell_type": "code",
   "execution_count": 144,
   "metadata": {
    "colab": {
     "base_uri": "https://localhost:8080/"
    },
    "id": "MUl2LZK2fSL7",
    "outputId": "e248e023-8d40-494c-942e-b61a5394b060"
   },
   "outputs": [
    {
     "data": {
      "text/plain": [
       "11    24468\n",
       "10    23639\n",
       "12    22113\n",
       "9     19400\n",
       "13    18438\n",
       "14    14610\n",
       "8     12285\n",
       "15    10768\n",
       "7      7464\n",
       "16     7429\n",
       "17     5202\n",
       "6      3353\n",
       "18     3344\n",
       "19     2480\n",
       "20     1281\n",
       "5      1146\n",
       "21      770\n",
       "22      759\n",
       "23      264\n",
       "4       215\n",
       "24      200\n",
       "25      182\n",
       "26       81\n",
       "28       58\n",
       "3        32\n",
       "30       31\n",
       "27       28\n",
       "Name: total_lines, dtype: int64"
      ]
     },
     "execution_count": 144,
     "metadata": {},
     "output_type": "execute_result"
    }
   ],
   "source": [
    "train_df['total_lines'].value_counts()"
   ]
  },
  {
   "cell_type": "code",
   "execution_count": 145,
   "metadata": {
    "colab": {
     "base_uri": "https://localhost:8080/",
     "height": 267
    },
    "id": "XNu3KpdDfmLT",
    "outputId": "5b97baa2-bf1e-4a0b-ec20-6a50fbf64a00"
   },
   "outputs": [
    {
     "data": {
      "image/png": "[encoded data removed]",
      "text/plain": [
       "<Figure size 432x288 with 1 Axes>"
      ]
     },
     "metadata": {
      "needs_background": "light"
     },
     "output_type": "display_data"
    }
   ],
   "source": [
    "# Check the distribution of total lines\n",
    "train_df.total_lines.plot.hist();"
   ]
  },
  {
   "cell_type": "code",
   "execution_count": 146,
   "metadata": {
    "colab": {
     "base_uri": "https://localhost:8080/"
    },
    "id": "maRKUFCGfpqK",
    "outputId": "bab7b348-c5d6-4d39-ee32-7b73d2b80e69"
   },
   "outputs": [
    {
     "data": {
      "text/plain": [
       "20.0"
      ]
     },
     "execution_count": 146,
     "metadata": {},
     "output_type": "execute_result"
    }
   ],
   "source": [
    "# Check the coverage of a \"total_lines\" value of 20\n",
    "np.percentile(train_df.total_lines, 98) # a value of 20 covers 98% of samples"
   ]
  },
  {
   "cell_type": "code",
   "execution_count": 147,
   "metadata": {
    "colab": {
     "base_uri": "https://localhost:8080/"
    },
    "id": "XRCB6fHlfylb",
    "outputId": "abbf04f7-500f-4cb8-9e62-d51eee4f4500"
   },
   "outputs": [
    {
     "data": {
      "text/plain": [
       "(TensorShape([180040, 20]), <tf.Tensor: shape=(10, 20), dtype=float32, numpy=\n",
       " array([[0., 0., 0., 0., 0., 0., 0., 0., 0., 0., 0., 1., 0., 0., 0., 0.,\n",
       "         0., 0., 0., 0.],\n",
       "        [0., 0., 0., 0., 0., 0., 0., 0., 0., 0., 0., 1., 0., 0., 0., 0.,\n",
       "         0., 0., 0., 0.],\n",
       "        [0., 0., 0., 0., 0., 0., 0., 0., 0., 0., 0., 1., 0., 0., 0., 0.,\n",
       "         0., 0., 0., 0.],\n",
       "        [0., 0., 0., 0., 0., 0., 0., 0., 0., 0., 0., 1., 0., 0., 0., 0.,\n",
       "         0., 0., 0., 0.],\n",
       "        [0., 0., 0., 0., 0., 0., 0., 0., 0., 0., 0., 1., 0., 0., 0., 0.,\n",
       "         0., 0., 0., 0.],\n",
       "        [0., 0., 0., 0., 0., 0., 0., 0., 0., 0., 0., 1., 0., 0., 0., 0.,\n",
       "         0., 0., 0., 0.],\n",
       "        [0., 0., 0., 0., 0., 0., 0., 0., 0., 0., 0., 1., 0., 0., 0., 0.,\n",
       "         0., 0., 0., 0.],\n",
       "        [0., 0., 0., 0., 0., 0., 0., 0., 0., 0., 0., 1., 0., 0., 0., 0.,\n",
       "         0., 0., 0., 0.],\n",
       "        [0., 0., 0., 0., 0., 0., 0., 0., 0., 0., 0., 1., 0., 0., 0., 0.,\n",
       "         0., 0., 0., 0.],\n",
       "        [0., 0., 0., 0., 0., 0., 0., 0., 0., 0., 0., 1., 0., 0., 0., 0.,\n",
       "         0., 0., 0., 0.]], dtype=float32)>)"
      ]
     },
     "execution_count": 147,
     "metadata": {},
     "output_type": "execute_result"
    }
   ],
   "source": [
    "# Use TensorFlow to create one-hot-encoded tensors of our \"total_lines\" column \n",
    "train_total_lines_one_hot = tf.one_hot(train_df[\"total_lines\"].to_numpy(), depth=20)\n",
    "val_total_lines_one_hot = tf.one_hot(val_df[\"total_lines\"].to_numpy(), depth=20)\n",
    "test_total_lines_one_hot = tf.one_hot(test_df[\"total_lines\"].to_numpy(), depth=20)\n",
    "\n",
    "# Check shape and samples of total lines one-hot tensor\n",
    "train_total_lines_one_hot.shape, train_total_lines_one_hot[:10]"
   ]
  },
  {
   "cell_type": "code",
   "execution_count": 149,
   "metadata": {
    "colab": {
     "base_uri": "https://localhost:8080/"
    },
    "id": "W05smxV6hayx",
    "outputId": "b1392311-d6de-426a-8c21-1c62762e174c"
   },
   "outputs": [
    {
     "data": {
      "text/plain": [
       "tf.float32"
      ]
     },
     "execution_count": 149,
     "metadata": {},
     "output_type": "execute_result"
    }
   ],
   "source": [
    "train_line_numbers_one_hot[0].dtype"
   ]
  },
  {
   "cell_type": "code",
   "execution_count": 150,
   "metadata": {
    "id": "wV6GUcLYf5Ex"
   },
   "outputs": [],
   "source": [
    "token_inputs = layers.Input(shape=[], dtype=\"string\", name=\"token_inputs\")\n",
    "token_embeddings = tf_hub_embedding_layer(token_inputs)\n",
    "token_outputs = layers.Dense(128, activation=\"relu\")(token_embeddings)\n",
    "token_model = tf.keras.Model(inputs=token_inputs,\n",
    "                             outputs=token_embeddings)\n",
    "\n",
    "char_inputs = layers.Input(shape=(1,), dtype=\"string\", name=\"char_inputs\")\n",
    "char_vectors = char_vectorizer(char_inputs)\n",
    "char_embeddings = char_embed(char_vectors)\n",
    "char_bi_lstm = layers.Bidirectional(layers.LSTM(24))(char_embeddings)\n",
    "char_model = tf.keras.Model(inputs=char_inputs,\n",
    "                            outputs=char_bi_lstm)\n",
    "\n",
    "line_number_inputs = layers.Input(shape=(15,), dtype=tf.float32, name=\"line_number_input\")\n",
    "x = layers.Dense(32, activation=\"relu\")(line_number_inputs)\n",
    "line_number_model = tf.keras.Model(inputs=line_number_inputs,\n",
    "                                   outputs=x)\n",
    "\n",
    "total_lines_inputs = layers.Input(shape=(20,), dtype=tf.float32, name=\"total_lines_input\")\n",
    "y = layers.Dense(32, activation=\"relu\")(total_lines_inputs)\n",
    "total_line_model = tf.keras.Model(inputs=total_lines_inputs,\n",
    "                                  outputs=y)\n",
    "\n",
    "combined_embeddings = layers.Concatenate(name=\"token_char_hybrid_embedding\")([token_model.output, \n",
    "                                                                              char_model.output])\n",
    "z = layers.Dense(256, activation=\"relu\")(combined_embeddings)\n",
    "z = layers.Dropout(0.5)(z)\n",
    "\n",
    "z = layers.Concatenate(name=\"token_char_positional_embedding\")([line_number_model.output,\n",
    "                                                                total_line_model.output,\n",
    "                                                                z])\n",
    "\n",
    "output_layer = layers.Dense(num_classes, activation=\"softmax\", name=\"output_layer\")(z)\n",
    "\n",
    "model_5 = tf.keras.Model(inputs=[line_number_model.input,\n",
    "                                 total_line_model.input,\n",
    "                                 token_model.input, \n",
    "                                 char_model.input],\n",
    "                         outputs=output_layer)"
   ]
  },
  {
   "cell_type": "code",
   "execution_count": 151,
   "metadata": {
    "colab": {
     "base_uri": "https://localhost:8080/"
    },
    "id": "oqpAsk0BiRM3",
    "outputId": "dfb7980e-7d27-42ce-9be9-2597109158b4"
   },
   "outputs": [
    {
     "name": "stdout",
     "output_type": "stream",
     "text": [
      "Model: \"model_11\"\n",
      "__________________________________________________________________________________________________\n",
      " Layer (type)                   Output Shape         Param #     Connected to                     \n",
      "==================================================================================================\n",
      " char_inputs (InputLayer)       [(None, 1)]          0           []                               \n",
      "                                                                                                  \n",
      " char_vectorizer (TextVectoriza  (None, 290)         0           ['char_inputs[0][0]']            \n",
      " tion)                                                                                            \n",
      "                                                                                                  \n",
      " token_inputs (InputLayer)      [(None,)]            0           []                               \n",
      "                                                                                                  \n",
      " char_embed (Embedding)         (None, 290, 25)      700         ['char_vectorizer[3][0]']        \n",
      "                                                                                                  \n",
      " universal_sentence_encoder (Ke  (None, 512)         256797824   ['token_inputs[0][0]']           \n",
      " rasLayer)                                                                                        \n",
      "                                                                                                  \n",
      " bidirectional_1 (Bidirectional  (None, 48)          9600        ['char_embed[3][0]']             \n",
      " )                                                                                                \n",
      "                                                                                                  \n",
      " token_char_hybrid_embedding (C  (None, 560)         0           ['universal_sentence_encoder[3][0\n",
      " oncatenate)                                                     ]',                              \n",
      "                                                                  'bidirectional_1[0][0]']        \n",
      "                                                                                                  \n",
      " line_number_input (InputLayer)  [(None, 15)]        0           []                               \n",
      "                                                                                                  \n",
      " total_lines_input (InputLayer)  [(None, 20)]        0           []                               \n",
      "                                                                                                  \n",
      " dense_13 (Dense)               (None, 256)          143616      ['token_char_hybrid_embedding[0][\n",
      "                                                                 0]']                             \n",
      "                                                                                                  \n",
      " dense_11 (Dense)               (None, 32)           512         ['line_number_input[0][0]']      \n",
      "                                                                                                  \n",
      " dense_12 (Dense)               (None, 32)           672         ['total_lines_input[0][0]']      \n",
      "                                                                                                  \n",
      " dropout_2 (Dropout)            (None, 256)          0           ['dense_13[0][0]']               \n",
      "                                                                                                  \n",
      " token_char_positional_embeddin  (None, 320)         0           ['dense_11[0][0]',               \n",
      " g (Concatenate)                                                  'dense_12[0][0]',               \n",
      "                                                                  'dropout_2[0][0]']              \n",
      "                                                                                                  \n",
      " output_layer (Dense)           (None, 5)            1605        ['token_char_positional_embedding\n",
      "                                                                 [0][0]']                         \n",
      "                                                                                                  \n",
      "==================================================================================================\n",
      "Total params: 256,954,529\n",
      "Trainable params: 156,705\n",
      "Non-trainable params: 256,797,824\n",
      "__________________________________________________________________________________________________\n"
     ]
    }
   ],
   "source": [
    "model_5.summary()"
   ]
  },
  {
   "cell_type": "code",
   "execution_count": 153,
   "metadata": {
    "colab": {
     "base_uri": "https://localhost:8080/",
     "height": 646
    },
    "id": "sBtOskuriUCb",
    "outputId": "718f91ff-a4b5-4c6e-de9f-f7dea97aa9dd"
   },
   "outputs": [
    {
     "data": {
      "image/png": "[encoded data removed]",
      "text/plain": [
       "<IPython.core.display.Image object>"
      ]
     },
     "execution_count": 153,
     "metadata": {},
     "output_type": "execute_result"
    }
   ],
   "source": [
    "# Plot the token, char, positional embedding model\n",
    "from tensorflow.keras.utils import plot_model\n",
    "plot_model(model_5,show_shapes=True)"
   ]
  },
  {
   "cell_type": "code",
   "execution_count": 154,
   "metadata": {
    "colab": {
     "base_uri": "https://localhost:8080/"
    },
    "id": "4FEzr_d2icGN",
    "outputId": "a698adcb-271a-4c49-efd9-f6e4e4451818"
   },
   "outputs": [
    {
     "name": "stdout",
     "output_type": "stream",
     "text": [
      "<keras.engine.input_layer.InputLayer object at 0x7ff2c08998d0> True\n",
      "<keras.layers.preprocessing.text_vectorization.TextVectorization object at 0x7ff2c16079d0> True\n",
      "<keras.engine.input_layer.InputLayer object at 0x7ff2bdd98390> True\n",
      "<keras.layers.embeddings.Embedding object at 0x7ff2bfdde790> True\n",
      "<tensorflow_hub.keras_layer.KerasLayer object at 0x7ff3bd771e90> False\n",
      "<keras.layers.wrappers.Bidirectional object at 0x7ff2bdd95290> True\n",
      "<keras.layers.merge.Concatenate object at 0x7ff2bdbfa050> True\n",
      "<keras.engine.input_layer.InputLayer object at 0x7ff2c06115d0> True\n",
      "<keras.engine.input_layer.InputLayer object at 0x7ff2c0699350> True\n",
      "<keras.layers.core.dense.Dense object at 0x7ff2bdb62250> True\n",
      "<keras.layers.core.dense.Dense object at 0x7ff2c06b2750> True\n",
      "<keras.layers.core.dense.Dense object at 0x7ff2c0c72f90> True\n",
      "<keras.layers.core.dropout.Dropout object at 0x7ff2bdd60d50> True\n",
      "<keras.layers.merge.Concatenate object at 0x7ff2bdbde410> True\n",
      "<keras.layers.core.dense.Dense object at 0x7ff2bdb62a50> True\n"
     ]
    }
   ],
   "source": [
    "# Check which layers of our model are trainable or not\n",
    "for layer in model_5.layers:\n",
    "  print(layer, layer.trainable)"
   ]
  },
  {
   "cell_type": "code",
   "execution_count": 155,
   "metadata": {
    "id": "2IoF0B96jOFv"
   },
   "outputs": [],
   "source": [
    "# Compile token, char, positional embedding model\n",
    "model_5.compile(loss=tf.keras.losses.CategoricalCrossentropy(label_smoothing=0.2), # add label smoothing (examples which are really confident get smoothed a little)\n",
    "                optimizer=tf.keras.optimizers.Adam(),\n",
    "                metrics=[\"accuracy\"])"
   ]
  },
  {
   "cell_type": "code",
   "execution_count": 156,
   "metadata": {
    "colab": {
     "base_uri": "https://localhost:8080/"
    },
    "id": "ygvtiUD_jirn",
    "outputId": "65a68e45-c34b-4cf0-df7c-54b75e323af1"
   },
   "outputs": [
    {
     "data": {
      "text/plain": [
       "(<PrefetchDataset shapes: (((None, 15), (None, 20), (None,), (None,)), (None, 5)), types: ((tf.float32, tf.float32, tf.string, tf.string), tf.float64)>,\n",
       " <PrefetchDataset shapes: (((None, 15), (None, 20), (None,), (None,)), (None, 5)), types: ((tf.float32, tf.float32, tf.string, tf.string), tf.float64)>)"
      ]
     },
     "execution_count": 156,
     "metadata": {},
     "output_type": "execute_result"
    }
   ],
   "source": [
    "# Create training and validation datasets (all four kinds of inputs)\n",
    "train_pos_char_token_data = tf.data.Dataset.from_tensor_slices((train_line_numbers_one_hot, # line numbers\n",
    "                                                                train_total_lines_one_hot, # total lines\n",
    "                                                                train_sentences, # train tokens\n",
    "                                                                train_chars)) # train chars\n",
    "train_pos_char_token_labels = tf.data.Dataset.from_tensor_slices(train_labels_one_hot) # train labels\n",
    "train_pos_char_token_dataset = tf.data.Dataset.zip((train_pos_char_token_data, train_pos_char_token_labels)) # combine data and labels\n",
    "train_pos_char_token_dataset = train_pos_char_token_dataset.batch(32).prefetch(tf.data.AUTOTUNE) # turn into batches and prefetch appropriately\n",
    "\n",
    "# Validation dataset\n",
    "val_pos_char_token_data = tf.data.Dataset.from_tensor_slices((val_line_numbers_one_hot,\n",
    "                                                              val_total_lines_one_hot,\n",
    "                                                              val_sentences,\n",
    "                                                              val_chars))\n",
    "val_pos_char_token_labels = tf.data.Dataset.from_tensor_slices(val_labels_one_hot)\n",
    "val_pos_char_token_dataset = tf.data.Dataset.zip((val_pos_char_token_data, val_pos_char_token_labels))\n",
    "val_pos_char_token_dataset = val_pos_char_token_dataset.batch(32).prefetch(tf.data.AUTOTUNE) # turn into batches and prefetch appropriately\n",
    "\n",
    "# Check input shapes\n",
    "train_pos_char_token_dataset, val_pos_char_token_dataset"
   ]
  },
  {
   "cell_type": "code",
   "execution_count": 157,
   "metadata": {
    "colab": {
     "base_uri": "https://localhost:8080/"
    },
    "id": "rKaJDnl5jyf7",
    "outputId": "7f4cee8d-74f2-46fc-ef93-eb65316db82b"
   },
   "outputs": [
    {
     "name": "stdout",
     "output_type": "stream",
     "text": [
      "Epoch 1/3\n",
      "562/562 [==============================] - 73s 122ms/step - loss: 1.1071 - accuracy: 0.7218 - val_loss: 0.9934 - val_accuracy: 0.7969\n",
      "Epoch 2/3\n",
      "562/562 [==============================] - 67s 120ms/step - loss: 0.9783 - accuracy: 0.8077 - val_loss: 0.9598 - val_accuracy: 0.8211\n",
      "Epoch 3/3\n",
      "562/562 [==============================] - 67s 120ms/step - loss: 0.9621 - accuracy: 0.8170 - val_loss: 0.9522 - val_accuracy: 0.8265\n"
     ]
    }
   ],
   "source": [
    "# Fit the token, char and positional embedding model\n",
    "model_5_history = model_5.fit(train_pos_char_token_dataset,\n",
    "                              steps_per_epoch=int(0.1 * len(train_pos_char_token_dataset)),\n",
    "                              epochs=3,\n",
    "                              validation_data=val_pos_char_token_dataset,\n",
    "                              validation_steps=int(0.1 * len(val_pos_char_token_dataset)))"
   ]
  },
  {
   "cell_type": "code",
   "execution_count": 158,
   "metadata": {
    "colab": {
     "base_uri": "https://localhost:8080/"
    },
    "id": "Bw-EvH05j6rF",
    "outputId": "d251b9d4-39b9-490b-ac6a-2b9e2b44af54"
   },
   "outputs": [
    {
     "name": "stdout",
     "output_type": "stream",
     "text": [
      "945/945 [==============================] - 50s 52ms/step\n"
     ]
    },
    {
     "data": {
      "text/plain": [
       "array([[0.5196002 , 0.12630591, 0.01190514, 0.3193993 , 0.02278945],\n",
       "       [0.51130134, 0.11216027, 0.0411239 , 0.32609603, 0.00931847],\n",
       "       [0.28746915, 0.12632263, 0.12792571, 0.37440118, 0.08388138],\n",
       "       ...,\n",
       "       [0.03068811, 0.10611837, 0.0374869 , 0.03063373, 0.79507285],\n",
       "       [0.02737495, 0.3481583 , 0.07664315, 0.02246813, 0.52535546],\n",
       "       [0.16809449, 0.54968274, 0.15540792, 0.03616499, 0.09064993]],\n",
       "      dtype=float32)"
      ]
     },
     "execution_count": 158,
     "metadata": {},
     "output_type": "execute_result"
    }
   ],
   "source": [
    "# Make predictions with token-char-positional hybrid model\n",
    "model_5_pred_probs = model_5.predict(val_pos_char_token_dataset, verbose=1)\n",
    "model_5_pred_probs"
   ]
  },
  {
   "cell_type": "code",
   "execution_count": 159,
   "metadata": {
    "colab": {
     "base_uri": "https://localhost:8080/"
    },
    "id": "iJnGWdk3kpJH",
    "outputId": "c39d8eb5-4fc1-412e-f97e-76e209ae1724"
   },
   "outputs": [
    {
     "name": "stdout",
     "output_type": "stream",
     "text": [
      "945/945 [==============================] - 51s 54ms/step - loss: 0.9495 - accuracy: 0.8277\n"
     ]
    },
    {
     "data": {
      "text/plain": [
       "[0.9495303630828857, 0.8276512622833252]"
      ]
     },
     "execution_count": 159,
     "metadata": {},
     "output_type": "execute_result"
    }
   ],
   "source": [
    "model_5.evaluate(val_pos_char_token_dataset)"
   ]
  },
  {
   "cell_type": "code",
   "execution_count": 160,
   "metadata": {
    "colab": {
     "base_uri": "https://localhost:8080/"
    },
    "id": "QnrUWqThkxcJ",
    "outputId": "3b2fe04e-44ee-4625-e316-3251c96113cc"
   },
   "outputs": [
    {
     "data": {
      "text/plain": [
       "<tf.Tensor: shape=(30212,), dtype=int64, numpy=array([0, 0, 3, ..., 4, 4, 1])>"
      ]
     },
     "execution_count": 160,
     "metadata": {},
     "output_type": "execute_result"
    }
   ],
   "source": [
    "# Turn prediction probabilities into prediction classes\n",
    "model_5_preds = tf.argmax(model_5_pred_probs, axis=1)\n",
    "model_5_preds"
   ]
  },
  {
   "cell_type": "code",
   "execution_count": 161,
   "metadata": {
    "colab": {
     "base_uri": "https://localhost:8080/"
    },
    "id": "2n-_XmAHlCeA",
    "outputId": "378e8a35-64fc-4472-cecd-bccf364cc874"
   },
   "outputs": [
    {
     "data": {
      "text/plain": [
       "{'accuracy': 82.76512643982524,\n",
       " 'f1': 0.8266942255628497,\n",
       " 'precision': 0.8262039352313502,\n",
       " 'recall': 0.8276512643982523}"
      ]
     },
     "execution_count": 161,
     "metadata": {},
     "output_type": "execute_result"
    }
   ],
   "source": [
    "# Calculate results of token-char-positional hybrid model\n",
    "model_5_results = calculate_results(y_true=val_labels_encoded,\n",
    "                                    y_pred=model_5_preds)\n",
    "model_5_results"
   ]
  },
  {
   "cell_type": "code",
   "execution_count": 162,
   "metadata": {
    "colab": {
     "base_uri": "https://localhost:8080/",
     "height": 237
    },
    "id": "r-yESQBXlEHU",
    "outputId": "8d21b986-d838-4545-85db-affe0b3f5e49"
   },
   "outputs": [
    {
     "data": {
      "text/html": [
       "<div>\n",
       "<style scoped>\n",
       "    .dataframe tbody tr th:only-of-type {\n",
       "        vertical-align: middle;\n",
       "    }\n",
       "\n",
       "    .dataframe tbody tr th {\n",
       "        vertical-align: top;\n",
       "    }\n",
       "\n",
       "    .dataframe thead th {\n",
       "        text-align: right;\n",
       "    }\n",
       "</style>\n",
       "<table border=\"1\" class=\"dataframe\">\n",
       "  <thead>\n",
       "    <tr style=\"text-align: right;\">\n",
       "      <th></th>\n",
       "      <th>accuracy</th>\n",
       "      <th>precision</th>\n",
       "      <th>recall</th>\n",
       "      <th>f1</th>\n",
       "    </tr>\n",
       "  </thead>\n",
       "  <tbody>\n",
       "    <tr>\n",
       "      <th>baseline</th>\n",
       "      <td>72.183238</td>\n",
       "      <td>0.718647</td>\n",
       "      <td>0.721832</td>\n",
       "      <td>0.698925</td>\n",
       "    </tr>\n",
       "    <tr>\n",
       "      <th>custom_token_embed_conv1d</th>\n",
       "      <td>78.561499</td>\n",
       "      <td>0.782620</td>\n",
       "      <td>0.785615</td>\n",
       "      <td>0.783013</td>\n",
       "    </tr>\n",
       "    <tr>\n",
       "      <th>pretrained_token_embed</th>\n",
       "      <td>71.339203</td>\n",
       "      <td>0.713591</td>\n",
       "      <td>0.713392</td>\n",
       "      <td>0.710380</td>\n",
       "    </tr>\n",
       "    <tr>\n",
       "      <th>custom_char_embed_conv1d</th>\n",
       "      <td>62.442076</td>\n",
       "      <td>0.627749</td>\n",
       "      <td>0.624421</td>\n",
       "      <td>0.614286</td>\n",
       "    </tr>\n",
       "    <tr>\n",
       "      <th>hybrid_char_token_embed</th>\n",
       "      <td>73.050444</td>\n",
       "      <td>0.730638</td>\n",
       "      <td>0.730504</td>\n",
       "      <td>0.727243</td>\n",
       "    </tr>\n",
       "    <tr>\n",
       "      <th>tribrid_pos_char_token_embed</th>\n",
       "      <td>82.765126</td>\n",
       "      <td>0.826204</td>\n",
       "      <td>0.827651</td>\n",
       "      <td>0.826694</td>\n",
       "    </tr>\n",
       "  </tbody>\n",
       "</table>\n",
       "</div>"
      ],
      "text/plain": [
       "                               accuracy  precision    recall        f1\n",
       "baseline                      72.183238   0.718647  0.721832  0.698925\n",
       "custom_token_embed_conv1d     78.561499   0.782620  0.785615  0.783013\n",
       "pretrained_token_embed        71.339203   0.713591  0.713392  0.710380\n",
       "custom_char_embed_conv1d      62.442076   0.627749  0.624421  0.614286\n",
       "hybrid_char_token_embed       73.050444   0.730638  0.730504  0.727243\n",
       "tribrid_pos_char_token_embed  82.765126   0.826204  0.827651  0.826694"
      ]
     },
     "execution_count": 162,
     "metadata": {},
     "output_type": "execute_result"
    }
   ],
   "source": [
    "# Combine model results into a DataFrame\n",
    "all_model_results = pd.DataFrame({\"baseline\": baseline_results,\n",
    "                                  \"custom_token_embed_conv1d\": model_1_results,\n",
    "                                  \"pretrained_token_embed\": model_2_results,\n",
    "                                  \"custom_char_embed_conv1d\": model_3_results,\n",
    "                                  \"hybrid_char_token_embed\": model_4_results,\n",
    "                                  \"tribrid_pos_char_token_embed\": model_5_results})\n",
    "all_model_results = all_model_results.transpose()\n",
    "all_model_results"
   ]
  },
  {
   "cell_type": "code",
   "execution_count": 163,
   "metadata": {
    "id": "iyXdk4BrlpHo"
   },
   "outputs": [],
   "source": [
    "# Reduce the accuracy to same scale as other metrics\n",
    "all_model_results[\"accuracy\"] = all_model_results[\"accuracy\"]/100"
   ]
  },
  {
   "cell_type": "code",
   "execution_count": 164,
   "metadata": {
    "colab": {
     "base_uri": "https://localhost:8080/",
     "height": 571
    },
    "id": "wSOFMHcplx6B",
    "outputId": "704d1338-3063-4d25-c470-e26dc3a81607"
   },
   "outputs": [
    {
     "data": {
      "image/png": "[encoded data removed]",
      "text/plain": [
       "<Figure size 720x504 with 1 Axes>"
      ]
     },
     "metadata": {
      "needs_background": "light"
     },
     "output_type": "display_data"
    }
   ],
   "source": [
    "# Plot and compare all of the model results\n",
    "all_model_results.plot(kind=\"bar\", figsize=(10, 7)).legend(bbox_to_anchor=(1.0, 1.0));"
   ]
  },
  {
   "cell_type": "code",
   "execution_count": 165,
   "metadata": {
    "colab": {
     "base_uri": "https://localhost:8080/",
     "height": 571
    },
    "id": "LuZmzXTdl0o5",
    "outputId": "050e90f5-bd41-43be-a8d1-10cc93777fb6"
   },
   "outputs": [
    {
     "data": {
      "image/png": "[encoded data removed]",
      "text/plain": [
       "<Figure size 720x504 with 1 Axes>"
      ]
     },
     "metadata": {
      "needs_background": "light"
     },
     "output_type": "display_data"
    }
   ],
   "source": [
    "# Sort model results by f1-score\n",
    "all_model_results.sort_values(\"f1\", ascending=False)[\"f1\"].plot(kind=\"bar\", figsize=(10, 7));"
   ]
  },
  {
   "cell_type": "code",
   "execution_count": 166,
   "metadata": {
    "colab": {
     "base_uri": "https://localhost:8080/"
    },
    "id": "CjJomJ7Yl7vf",
    "outputId": "06f38f23-3608-4117-9b3b-8b6e5222ebbd"
   },
   "outputs": [
    {
     "name": "stderr",
     "output_type": "stream",
     "text": [
      "WARNING:absl:Found untraced functions such as lstm_cell_4_layer_call_fn, lstm_cell_4_layer_call_and_return_conditional_losses, lstm_cell_5_layer_call_fn, lstm_cell_5_layer_call_and_return_conditional_losses, lstm_cell_4_layer_call_fn while saving (showing 5 of 10). These functions will not be directly callable after loading.\n"
     ]
    },
    {
     "name": "stdout",
     "output_type": "stream",
     "text": [
      "INFO:tensorflow:Assets written to: skimlit_tribrid_model/assets\n"
     ]
    },
    {
     "name": "stderr",
     "output_type": "stream",
     "text": [
      "INFO:tensorflow:Assets written to: skimlit_tribrid_model/assets\n",
      "WARNING:absl:<keras.layers.recurrent.LSTMCell object at 0x7ff2bdcdf910> has the same name 'LSTMCell' as a built-in Keras object. Consider renaming <class 'keras.layers.recurrent.LSTMCell'> to avoid naming conflicts when loading with `tf.keras.models.load_model`. If renaming is not possible, pass the object in the `custom_objects` parameter of the load function.\n",
      "WARNING:absl:<keras.layers.recurrent.LSTMCell object at 0x7ff2bdd86b90> has the same name 'LSTMCell' as a built-in Keras object. Consider renaming <class 'keras.layers.recurrent.LSTMCell'> to avoid naming conflicts when loading with `tf.keras.models.load_model`. If renaming is not possible, pass the object in the `custom_objects` parameter of the load function.\n"
     ]
    }
   ],
   "source": [
    "# Save best performing model to SavedModel format (default)\n",
    "model_5.save(\"skimlit_tribrid_model\") # model will be saved to path specified by string"
   ]
  },
  {
   "cell_type": "code",
   "execution_count": 167,
   "metadata": {
    "colab": {
     "base_uri": "https://localhost:8080/"
    },
    "id": "44u96yPEmPU-",
    "outputId": "d86c1a62-5f63-4214-b8ea-fe52a4059bab"
   },
   "outputs": [
    {
     "name": "stdout",
     "output_type": "stream",
     "text": [
      "--2021-12-06 07:16:20--  https://storage.googleapis.com/ztm_tf_course/skimlit/skimlit_tribrid_model.zip\n",
      "Resolving storage.googleapis.com (storage.googleapis.com)... 142.250.125.128, 142.250.136.128, 142.250.152.128, ...\n",
      "Connecting to storage.googleapis.com (storage.googleapis.com)|142.250.125.128|:443... connected.\n",
      "HTTP request sent, awaiting response... 200 OK\n",
      "Length: 962561955 (918M) [application/zip]\n",
      "Saving to: ‘skimlit_tribrid_model.zip’\n",
      "\n",
      "skimlit_tribrid_mod 100%[===================>] 917.97M   134MB/s    in 13s     \n",
      "\n",
      "2021-12-06 07:16:33 (69.8 MB/s) - ‘skimlit_tribrid_model.zip’ saved [962561955/962561955]\n",
      "\n",
      "Archive:  skimlit_tribrid_model.zip\n",
      "   creating: skimlit_gs_model/skimlit_tribrid_model/\n",
      "   creating: skimlit_gs_model/skimlit_tribrid_model/variables/\n",
      "  inflating: skimlit_gs_model/skimlit_tribrid_model/variables/variables.index  \n",
      "  inflating: skimlit_gs_model/skimlit_tribrid_model/variables/variables.data-00000-of-00001  \n",
      "  inflating: skimlit_gs_model/skimlit_tribrid_model/keras_metadata.pb  \n",
      "  inflating: skimlit_gs_model/skimlit_tribrid_model/saved_model.pb  \n",
      "   creating: skimlit_gs_model/skimlit_tribrid_model/assets/\n"
     ]
    }
   ],
   "source": [
    "# Download pretrained model from Google Storage\n",
    "!wget https://storage.googleapis.com/ztm_tf_course/skimlit/skimlit_tribrid_model.zip\n",
    "!mkdir skimlit_gs_model\n",
    "!unzip skimlit_tribrid_model.zip -d skimlit_gs_model"
   ]
  },
  {
   "cell_type": "markdown",
   "metadata": {
    "id": "M_wtJWvem7xs"
   },
   "source": [
    "And when loading in our model, since it uses a couple of custom objects (our TensorFlow Hub layer and TextVectorization layer), we'll have to load it in by specifying them in the custom_objects parameter of tf.keras.models.load_model()."
   ]
  },
  {
   "cell_type": "code",
   "execution_count": 170,
   "metadata": {
    "id": "IEVk0-4InA26"
   },
   "outputs": [],
   "source": [
    "import tensorflow_hub as hub\n",
    "import tensorflow as tf\n",
    "from tensorflow.keras.layers import TextVectorization\n",
    "\n",
    "model_path = \"skimlit_tribrid_model\"\n",
    "\n",
    "# Load downloaded model from local one\n",
    "loaded_model = tf.keras.models.load_model(model_path)#,\n",
    "                                          # Note: with TensorFlow 2.5+ if your SavedModel has a keras_metadata.pb file \n",
    "                                          # (created when using model.save()), you shouldn't need the custom_objects\n",
    "                                          # parameter. I'm leaving the code below here in case you do.\n",
    "                                          # custom_objects={\"TextVectorization\": TextVectorization, # required for char vectorization\n",
    "                                          #                 \"KerasLayer\": hub.KerasLayer}) # required for token embedding"
   ]
  },
  {
   "cell_type": "code",
   "execution_count": 171,
   "metadata": {
    "colab": {
     "base_uri": "https://localhost:8080/"
    },
    "id": "Y6DPDMdUndsk",
    "outputId": "11601651-3990-4286-e654-42276e45c50b"
   },
   "outputs": [
    {
     "name": "stdout",
     "output_type": "stream",
     "text": [
      "945/945 [==============================] - 206s 217ms/step\n"
     ]
    },
    {
     "data": {
      "text/plain": [
       "<tf.Tensor: shape=(10,), dtype=int64, numpy=array([0, 0, 3, 2, 2, 4, 4, 4, 4, 1])>"
      ]
     },
     "execution_count": 171,
     "metadata": {},
     "output_type": "execute_result"
    }
   ],
   "source": [
    "loaded_pred_probs = loaded_model.predict(val_pos_char_token_dataset, verbose=1)\n",
    "loaded_preds = tf.argmax(loaded_pred_probs, axis=1)\n",
    "loaded_preds[:10]"
   ]
  },
  {
   "cell_type": "code",
   "execution_count": 172,
   "metadata": {
    "colab": {
     "base_uri": "https://localhost:8080/"
    },
    "id": "wvFs2a6Unhhy",
    "outputId": "7177ec42-fd97-4288-f8ad-d5793d987cf1"
   },
   "outputs": [
    {
     "data": {
      "text/plain": [
       "{'accuracy': 82.76843638289422,\n",
       " 'f1': 0.8262422704861595,\n",
       " 'precision': 0.8254201048821186,\n",
       " 'recall': 0.8276843638289422}"
      ]
     },
     "execution_count": 172,
     "metadata": {},
     "output_type": "execute_result"
    }
   ],
   "source": [
    "# Evaluate loaded model's predictions\n",
    "loaded_model_results = calculate_results(val_labels_encoded,\n",
    "                                         loaded_preds)\n",
    "loaded_model_results"
   ]
  },
  {
   "cell_type": "code",
   "execution_count": 173,
   "metadata": {
    "colab": {
     "base_uri": "https://localhost:8080/"
    },
    "id": "vo9cQgqhn3yA",
    "outputId": "8453ac5f-1bc6-439e-d39d-505b65b6cce4"
   },
   "outputs": [
    {
     "data": {
      "text/plain": [
       "array([ True,  True,  True,  True])"
      ]
     },
     "execution_count": 173,
     "metadata": {},
     "output_type": "execute_result"
    }
   ],
   "source": [
    "# Compare loaded model results with original trained model results (should be quite close)\n",
    "np.isclose(list(model_5_results.values()), list(loaded_model_results.values()), rtol=1e-02)"
   ]
  },
  {
   "cell_type": "code",
   "execution_count": 174,
   "metadata": {
    "colab": {
     "base_uri": "https://localhost:8080/"
    },
    "id": "gYSpvT9gn_Vh",
    "outputId": "767b8e41-568b-4d52-886e-d0c3fbb5a96d"
   },
   "outputs": [
    {
     "name": "stdout",
     "output_type": "stream",
     "text": [
      "Model: \"model_11\"\n",
      "__________________________________________________________________________________________________\n",
      " Layer (type)                   Output Shape         Param #     Connected to                     \n",
      "==================================================================================================\n",
      " char_inputs (InputLayer)       [(None, 1)]          0           []                               \n",
      "                                                                                                  \n",
      " char_vectorizer (TextVectoriza  (None, None)        0           ['char_inputs[0][0]']            \n",
      " tion)                                                                                            \n",
      "                                                                                                  \n",
      " token_inputs (InputLayer)      [(None,)]            0           []                               \n",
      "                                                                                                  \n",
      " char_embed (Embedding)         (None, None, 25)     700         ['char_vectorizer[0][0]']        \n",
      "                                                                                                  \n",
      " universal_sentence_encoder (Ke  (None, 512)         256797824   ['token_inputs[0][0]']           \n",
      " rasLayer)                                                                                        \n",
      "                                                                                                  \n",
      " bidirectional_1 (Bidirectional  (None, 48)          9600        ['char_embed[0][0]']             \n",
      " )                                                                                                \n",
      "                                                                                                  \n",
      " token_char_hybrid_embedding (C  (None, 560)         0           ['universal_sentence_encoder[0][0\n",
      " oncatenate)                                                     ]',                              \n",
      "                                                                  'bidirectional_1[0][0]']        \n",
      "                                                                                                  \n",
      " line_number_input (InputLayer)  [(None, 15)]        0           []                               \n",
      "                                                                                                  \n",
      " total_lines_input (InputLayer)  [(None, 20)]        0           []                               \n",
      "                                                                                                  \n",
      " dense_13 (Dense)               (None, 256)          143616      ['token_char_hybrid_embedding[0][\n",
      "                                                                 0]']                             \n",
      "                                                                                                  \n",
      " dense_11 (Dense)               (None, 32)           512         ['line_number_input[0][0]']      \n",
      "                                                                                                  \n",
      " dense_12 (Dense)               (None, 32)           672         ['total_lines_input[0][0]']      \n",
      "                                                                                                  \n",
      " dropout_2 (Dropout)            (None, 256)          0           ['dense_13[0][0]']               \n",
      "                                                                                                  \n",
      " token_char_positional_embeddin  (None, 320)         0           ['dense_11[0][0]',               \n",
      " g (Concatenate)                                                  'dense_12[0][0]',               \n",
      "                                                                  'dropout_2[0][0]']              \n",
      "                                                                                                  \n",
      " output_layer (Dense)           (None, 5)            1605        ['token_char_positional_embedding\n",
      "                                                                 [0][0]']                         \n",
      "                                                                                                  \n",
      "==================================================================================================\n",
      "Total params: 256,954,529\n",
      "Trainable params: 156,705\n",
      "Non-trainable params: 256,797,824\n",
      "__________________________________________________________________________________________________\n"
     ]
    }
   ],
   "source": [
    "loaded_model.summary()"
   ]
  },
  {
   "cell_type": "code",
   "execution_count": 177,
   "metadata": {
    "colab": {
     "base_uri": "https://localhost:8080/"
    },
    "id": "ZgBnKc_zoRfy",
    "outputId": "94df41d6-c123-4ad9-c215-4dad5045b755"
   },
   "outputs": [
    {
     "data": {
      "text/plain": [
       "<keras.engine.functional.Functional at 0x7ff2a9731690>"
      ]
     },
     "execution_count": 177,
     "metadata": {},
     "output_type": "execute_result"
    }
   ],
   "source": [
    "loaded_model"
   ]
  },
  {
   "cell_type": "code",
   "execution_count": 178,
   "metadata": {
    "colab": {
     "base_uri": "https://localhost:8080/"
    },
    "id": "pD7E6-r6o-ZJ",
    "outputId": "3cff1ac5-9ee7-4ae8-8158-bcdf88eb31ed"
   },
   "outputs": [
    {
     "data": {
      "text/plain": [
       "<PrefetchDataset shapes: (((None, 15), (None, 20), (None,), (None,)), (None, 5)), types: ((tf.float32, tf.float32, tf.string, tf.string), tf.float64)>"
      ]
     },
     "execution_count": 178,
     "metadata": {},
     "output_type": "execute_result"
    }
   ],
   "source": [
    "# Create test dataset batch and prefetched\n",
    "test_pos_char_token_data = tf.data.Dataset.from_tensor_slices((test_line_numbers_one_hot,\n",
    "                                                               test_total_lines_one_hot,\n",
    "                                                               test_sentences,\n",
    "                                                               test_chars))\n",
    "test_pos_char_token_labels = tf.data.Dataset.from_tensor_slices(test_labels_one_hot)\n",
    "test_pos_char_token_dataset = tf.data.Dataset.zip((test_pos_char_token_data, test_pos_char_token_labels))\n",
    "test_pos_char_token_dataset = test_pos_char_token_dataset.batch(32).prefetch(tf.data.AUTOTUNE)\n",
    "\n",
    "# Check shapes\n",
    "test_pos_char_token_dataset"
   ]
  },
  {
   "cell_type": "code",
   "execution_count": 179,
   "metadata": {
    "colab": {
     "base_uri": "https://localhost:8080/"
    },
    "id": "iCR1l3cHpTrA",
    "outputId": "a0fe3d3c-773f-4c57-cf3c-7bc8ed799224"
   },
   "outputs": [
    {
     "name": "stdout",
     "output_type": "stream",
     "text": [
      "942/942 [==============================] - 207s 219ms/step\n"
     ]
    },
    {
     "data": {
      "text/plain": [
       "<tf.Tensor: shape=(10,), dtype=int64, numpy=array([3, 3, 2, 2, 4, 4, 4, 1, 4, 0])>"
      ]
     },
     "execution_count": 179,
     "metadata": {},
     "output_type": "execute_result"
    }
   ],
   "source": [
    "# Make predictions on the test dataset\n",
    "test_pred_probs = loaded_model.predict(test_pos_char_token_dataset,\n",
    "                                       verbose=1)\n",
    "test_preds = tf.argmax(test_pred_probs, axis=1)\n",
    "test_preds[:10]"
   ]
  },
  {
   "cell_type": "code",
   "execution_count": 180,
   "metadata": {
    "colab": {
     "base_uri": "https://localhost:8080/"
    },
    "id": "LTcIJwvgpaO-",
    "outputId": "609c7177-ddac-4338-9bc1-f126de4ca7df"
   },
   "outputs": [
    {
     "data": {
      "text/plain": [
       "{'accuracy': 82.33615397378463,\n",
       " 'f1': 0.8219302771625019,\n",
       " 'precision': 0.8212870300908744,\n",
       " 'recall': 0.8233615397378463}"
      ]
     },
     "execution_count": 180,
     "metadata": {},
     "output_type": "execute_result"
    }
   ],
   "source": [
    "# Evaluate loaded model test predictions\n",
    "loaded_model_test_results = calculate_results(y_true=test_labels_encoded,\n",
    "                                              y_pred=test_preds)\n",
    "loaded_model_test_results"
   ]
  },
  {
   "cell_type": "code",
   "execution_count": 181,
   "metadata": {
    "colab": {
     "base_uri": "https://localhost:8080/"
    },
    "id": "rJ91UF6Ipi0h",
    "outputId": "ed1e6dbb-60d2-4611-ca03-ddf911ee026f"
   },
   "outputs": [
    {
     "name": "stdout",
     "output_type": "stream",
     "text": [
      "CPU times: user 16 s, sys: 1.53 s, total: 17.5 s\n",
      "Wall time: 15.2 s\n"
     ]
    }
   ],
   "source": [
    "%%time\n",
    "# Get list of class names of test predictions\n",
    "test_pred_classes = [label_encoder.classes_[pred] for pred in test_preds]\n",
    "test_pred_classes"
   ]
  },
  {
   "cell_type": "code",
   "execution_count": 183,
   "metadata": {
    "colab": {
     "base_uri": "https://localhost:8080/",
     "height": 677
    },
    "id": "zpNhpjcYpwli",
    "outputId": "32d753af-5a47-449b-8657-7684425a576d"
   },
   "outputs": [
    {
     "data": {
      "text/html": [
       "<div>\n",
       "<style scoped>\n",
       "    .dataframe tbody tr th:only-of-type {\n",
       "        vertical-align: middle;\n",
       "    }\n",
       "\n",
       "    .dataframe tbody tr th {\n",
       "        vertical-align: top;\n",
       "    }\n",
       "\n",
       "    .dataframe thead th {\n",
       "        text-align: right;\n",
       "    }\n",
       "</style>\n",
       "<table border=\"1\" class=\"dataframe\">\n",
       "  <thead>\n",
       "    <tr style=\"text-align: right;\">\n",
       "      <th></th>\n",
       "      <th>target</th>\n",
       "      <th>text</th>\n",
       "      <th>line_number</th>\n",
       "      <th>total_lines</th>\n",
       "      <th>prediction</th>\n",
       "      <th>pred_prob</th>\n",
       "      <th>correct</th>\n",
       "    </tr>\n",
       "  </thead>\n",
       "  <tbody>\n",
       "    <tr>\n",
       "      <th>0</th>\n",
       "      <td>BACKGROUND</td>\n",
       "      <td>this study analyzed liver function abnormaliti...</td>\n",
       "      <td>0</td>\n",
       "      <td>8</td>\n",
       "      <td>OBJECTIVE</td>\n",
       "      <td>0.551655</td>\n",
       "      <td>False</td>\n",
       "    </tr>\n",
       "    <tr>\n",
       "      <th>1</th>\n",
       "      <td>RESULTS</td>\n",
       "      <td>a post hoc analysis was conducted with the use...</td>\n",
       "      <td>1</td>\n",
       "      <td>8</td>\n",
       "      <td>OBJECTIVE</td>\n",
       "      <td>0.326570</td>\n",
       "      <td>False</td>\n",
       "    </tr>\n",
       "    <tr>\n",
       "      <th>2</th>\n",
       "      <td>RESULTS</td>\n",
       "      <td>liver function tests ( lfts ) were measured at...</td>\n",
       "      <td>2</td>\n",
       "      <td>8</td>\n",
       "      <td>METHODS</td>\n",
       "      <td>0.778320</td>\n",
       "      <td>False</td>\n",
       "    </tr>\n",
       "    <tr>\n",
       "      <th>3</th>\n",
       "      <td>RESULTS</td>\n",
       "      <td>survival analyses were used to assess the asso...</td>\n",
       "      <td>3</td>\n",
       "      <td>8</td>\n",
       "      <td>METHODS</td>\n",
       "      <td>0.646300</td>\n",
       "      <td>False</td>\n",
       "    </tr>\n",
       "    <tr>\n",
       "      <th>4</th>\n",
       "      <td>RESULTS</td>\n",
       "      <td>the percentage of patients with abnormal lfts ...</td>\n",
       "      <td>4</td>\n",
       "      <td>8</td>\n",
       "      <td>RESULTS</td>\n",
       "      <td>0.737724</td>\n",
       "      <td>True</td>\n",
       "    </tr>\n",
       "    <tr>\n",
       "      <th>5</th>\n",
       "      <td>RESULTS</td>\n",
       "      <td>when mean hemodynamic profiles were compared i...</td>\n",
       "      <td>5</td>\n",
       "      <td>8</td>\n",
       "      <td>RESULTS</td>\n",
       "      <td>0.865626</td>\n",
       "      <td>True</td>\n",
       "    </tr>\n",
       "    <tr>\n",
       "      <th>6</th>\n",
       "      <td>RESULTS</td>\n",
       "      <td>multivariable analyses revealed that patients ...</td>\n",
       "      <td>6</td>\n",
       "      <td>8</td>\n",
       "      <td>RESULTS</td>\n",
       "      <td>0.523862</td>\n",
       "      <td>True</td>\n",
       "    </tr>\n",
       "    <tr>\n",
       "      <th>7</th>\n",
       "      <td>CONCLUSIONS</td>\n",
       "      <td>abnormal lfts are common in the adhf populatio...</td>\n",
       "      <td>7</td>\n",
       "      <td>8</td>\n",
       "      <td>CONCLUSIONS</td>\n",
       "      <td>0.432385</td>\n",
       "      <td>True</td>\n",
       "    </tr>\n",
       "    <tr>\n",
       "      <th>8</th>\n",
       "      <td>CONCLUSIONS</td>\n",
       "      <td>elevated meld-xi scores are associated with po...</td>\n",
       "      <td>8</td>\n",
       "      <td>8</td>\n",
       "      <td>RESULTS</td>\n",
       "      <td>0.529689</td>\n",
       "      <td>False</td>\n",
       "    </tr>\n",
       "    <tr>\n",
       "      <th>9</th>\n",
       "      <td>BACKGROUND</td>\n",
       "      <td>minimally invasive endovascular aneurysm repai...</td>\n",
       "      <td>0</td>\n",
       "      <td>12</td>\n",
       "      <td>BACKGROUND</td>\n",
       "      <td>0.534197</td>\n",
       "      <td>True</td>\n",
       "    </tr>\n",
       "    <tr>\n",
       "      <th>10</th>\n",
       "      <td>BACKGROUND</td>\n",
       "      <td>the aim of this study was to analyse the cost-...</td>\n",
       "      <td>1</td>\n",
       "      <td>12</td>\n",
       "      <td>OBJECTIVE</td>\n",
       "      <td>0.480010</td>\n",
       "      <td>False</td>\n",
       "    </tr>\n",
       "    <tr>\n",
       "      <th>11</th>\n",
       "      <td>METHODS</td>\n",
       "      <td>resource use was determined from the amsterdam...</td>\n",
       "      <td>2</td>\n",
       "      <td>12</td>\n",
       "      <td>METHODS</td>\n",
       "      <td>0.641680</td>\n",
       "      <td>True</td>\n",
       "    </tr>\n",
       "    <tr>\n",
       "      <th>12</th>\n",
       "      <td>METHODS</td>\n",
       "      <td>the analysis was performed from a provider per...</td>\n",
       "      <td>3</td>\n",
       "      <td>12</td>\n",
       "      <td>METHODS</td>\n",
       "      <td>0.871019</td>\n",
       "      <td>True</td>\n",
       "    </tr>\n",
       "    <tr>\n",
       "      <th>13</th>\n",
       "      <td>METHODS</td>\n",
       "      <td>all costs were calculated as if all patients h...</td>\n",
       "      <td>4</td>\n",
       "      <td>12</td>\n",
       "      <td>METHODS</td>\n",
       "      <td>0.581131</td>\n",
       "      <td>True</td>\n",
       "    </tr>\n",
       "    <tr>\n",
       "      <th>14</th>\n",
       "      <td>RESULTS</td>\n",
       "      <td>a total of @ patients were randomized .</td>\n",
       "      <td>5</td>\n",
       "      <td>12</td>\n",
       "      <td>RESULTS</td>\n",
       "      <td>0.667994</td>\n",
       "      <td>True</td>\n",
       "    </tr>\n",
       "    <tr>\n",
       "      <th>15</th>\n",
       "      <td>RESULTS</td>\n",
       "      <td>the @-day mortality rate was @ per cent after ...</td>\n",
       "      <td>6</td>\n",
       "      <td>12</td>\n",
       "      <td>RESULTS</td>\n",
       "      <td>0.643942</td>\n",
       "      <td>True</td>\n",
       "    </tr>\n",
       "    <tr>\n",
       "      <th>16</th>\n",
       "      <td>RESULTS</td>\n",
       "      <td>at @months , the total mortality rate for evar...</td>\n",
       "      <td>7</td>\n",
       "      <td>12</td>\n",
       "      <td>RESULTS</td>\n",
       "      <td>0.889387</td>\n",
       "      <td>True</td>\n",
       "    </tr>\n",
       "    <tr>\n",
       "      <th>17</th>\n",
       "      <td>RESULTS</td>\n",
       "      <td>the mean cost difference between evar and or w...</td>\n",
       "      <td>8</td>\n",
       "      <td>12</td>\n",
       "      <td>RESULTS</td>\n",
       "      <td>0.821719</td>\n",
       "      <td>True</td>\n",
       "    </tr>\n",
       "    <tr>\n",
       "      <th>18</th>\n",
       "      <td>RESULTS</td>\n",
       "      <td>the incremental cost-effectiveness ratio per p...</td>\n",
       "      <td>9</td>\n",
       "      <td>12</td>\n",
       "      <td>RESULTS</td>\n",
       "      <td>0.811404</td>\n",
       "      <td>True</td>\n",
       "    </tr>\n",
       "    <tr>\n",
       "      <th>19</th>\n",
       "      <td>RESULTS</td>\n",
       "      <td>there was no significant difference in quality...</td>\n",
       "      <td>10</td>\n",
       "      <td>12</td>\n",
       "      <td>RESULTS</td>\n",
       "      <td>0.763491</td>\n",
       "      <td>True</td>\n",
       "    </tr>\n",
       "  </tbody>\n",
       "</table>\n",
       "</div>"
      ],
      "text/plain": [
       "         target  ... correct\n",
       "0    BACKGROUND  ...   False\n",
       "1       RESULTS  ...   False\n",
       "2       RESULTS  ...   False\n",
       "3       RESULTS  ...   False\n",
       "4       RESULTS  ...    True\n",
       "5       RESULTS  ...    True\n",
       "6       RESULTS  ...    True\n",
       "7   CONCLUSIONS  ...    True\n",
       "8   CONCLUSIONS  ...   False\n",
       "9    BACKGROUND  ...    True\n",
       "10   BACKGROUND  ...   False\n",
       "11      METHODS  ...    True\n",
       "12      METHODS  ...    True\n",
       "13      METHODS  ...    True\n",
       "14      RESULTS  ...    True\n",
       "15      RESULTS  ...    True\n",
       "16      RESULTS  ...    True\n",
       "17      RESULTS  ...    True\n",
       "18      RESULTS  ...    True\n",
       "19      RESULTS  ...    True\n",
       "\n",
       "[20 rows x 7 columns]"
      ]
     },
     "execution_count": 183,
     "metadata": {},
     "output_type": "execute_result"
    }
   ],
   "source": [
    "# Create prediction-enriched test dataframe\n",
    "test_df[\"prediction\"] = test_pred_classes # create column with test prediction class names\n",
    "test_df[\"pred_prob\"] = tf.reduce_max(test_pred_probs, axis=1).numpy() # get the maximum prediction probability\n",
    "test_df[\"correct\"] = test_df[\"prediction\"] == test_df[\"target\"] # create binary column for whether the prediction is right or not\n",
    "test_df.head(20)"
   ]
  },
  {
   "cell_type": "code",
   "execution_count": 184,
   "metadata": {
    "colab": {
     "base_uri": "https://localhost:8080/",
     "height": 423
    },
    "id": "VYO_6eOAqJ1G",
    "outputId": "759ef858-2578-43d3-8b3b-5ad6f4f8903f"
   },
   "outputs": [
    {
     "data": {
      "text/html": [
       "<div>\n",
       "<style scoped>\n",
       "    .dataframe tbody tr th:only-of-type {\n",
       "        vertical-align: middle;\n",
       "    }\n",
       "\n",
       "    .dataframe tbody tr th {\n",
       "        vertical-align: top;\n",
       "    }\n",
       "\n",
       "    .dataframe thead th {\n",
       "        text-align: right;\n",
       "    }\n",
       "</style>\n",
       "<table border=\"1\" class=\"dataframe\">\n",
       "  <thead>\n",
       "    <tr style=\"text-align: right;\">\n",
       "      <th></th>\n",
       "      <th>target</th>\n",
       "      <th>text</th>\n",
       "      <th>line_number</th>\n",
       "      <th>total_lines</th>\n",
       "      <th>prediction</th>\n",
       "      <th>pred_prob</th>\n",
       "      <th>correct</th>\n",
       "    </tr>\n",
       "  </thead>\n",
       "  <tbody>\n",
       "    <tr>\n",
       "      <th>16347</th>\n",
       "      <td>BACKGROUND</td>\n",
       "      <td>to evaluate the effects of the lactic acid bac...</td>\n",
       "      <td>0</td>\n",
       "      <td>12</td>\n",
       "      <td>OBJECTIVE</td>\n",
       "      <td>0.934712</td>\n",
       "      <td>False</td>\n",
       "    </tr>\n",
       "    <tr>\n",
       "      <th>13874</th>\n",
       "      <td>CONCLUSIONS</td>\n",
       "      <td>symptom outcomes will be assessed and estimate...</td>\n",
       "      <td>4</td>\n",
       "      <td>6</td>\n",
       "      <td>METHODS</td>\n",
       "      <td>0.930004</td>\n",
       "      <td>False</td>\n",
       "    </tr>\n",
       "    <tr>\n",
       "      <th>1221</th>\n",
       "      <td>RESULTS</td>\n",
       "      <td>data were collected prospectively for @ months...</td>\n",
       "      <td>3</td>\n",
       "      <td>13</td>\n",
       "      <td>METHODS</td>\n",
       "      <td>0.922438</td>\n",
       "      <td>False</td>\n",
       "    </tr>\n",
       "    <tr>\n",
       "      <th>3573</th>\n",
       "      <td>RESULTS</td>\n",
       "      <td>a cluster randomised trial was implemented wit...</td>\n",
       "      <td>3</td>\n",
       "      <td>16</td>\n",
       "      <td>METHODS</td>\n",
       "      <td>0.919297</td>\n",
       "      <td>False</td>\n",
       "    </tr>\n",
       "    <tr>\n",
       "      <th>29294</th>\n",
       "      <td>RESULTS</td>\n",
       "      <td>baseline measures included sociodemographics ,...</td>\n",
       "      <td>4</td>\n",
       "      <td>13</td>\n",
       "      <td>METHODS</td>\n",
       "      <td>0.918732</td>\n",
       "      <td>False</td>\n",
       "    </tr>\n",
       "    <tr>\n",
       "      <th>...</th>\n",
       "      <td>...</td>\n",
       "      <td>...</td>\n",
       "      <td>...</td>\n",
       "      <td>...</td>\n",
       "      <td>...</td>\n",
       "      <td>...</td>\n",
       "      <td>...</td>\n",
       "    </tr>\n",
       "    <tr>\n",
       "      <th>12269</th>\n",
       "      <td>RESULTS</td>\n",
       "      <td>patients received oral se tablets ( @ mcg ) or...</td>\n",
       "      <td>4</td>\n",
       "      <td>10</td>\n",
       "      <td>METHODS</td>\n",
       "      <td>0.830804</td>\n",
       "      <td>False</td>\n",
       "    </tr>\n",
       "    <tr>\n",
       "      <th>15370</th>\n",
       "      <td>RESULTS</td>\n",
       "      <td>serum creatinine was assessed centrally at ser...</td>\n",
       "      <td>4</td>\n",
       "      <td>11</td>\n",
       "      <td>METHODS</td>\n",
       "      <td>0.830190</td>\n",
       "      <td>False</td>\n",
       "    </tr>\n",
       "    <tr>\n",
       "      <th>7823</th>\n",
       "      <td>CONCLUSIONS</td>\n",
       "      <td>at @ year , mortality rates in the pi and ppci...</td>\n",
       "      <td>8</td>\n",
       "      <td>10</td>\n",
       "      <td>RESULTS</td>\n",
       "      <td>0.829539</td>\n",
       "      <td>False</td>\n",
       "    </tr>\n",
       "    <tr>\n",
       "      <th>2908</th>\n",
       "      <td>RESULTS</td>\n",
       "      <td>therefore , selective retention of great saphe...</td>\n",
       "      <td>10</td>\n",
       "      <td>14</td>\n",
       "      <td>CONCLUSIONS</td>\n",
       "      <td>0.829422</td>\n",
       "      <td>False</td>\n",
       "    </tr>\n",
       "    <tr>\n",
       "      <th>20003</th>\n",
       "      <td>CONCLUSIONS</td>\n",
       "      <td>most subjects with bronchospasm responded to r...</td>\n",
       "      <td>9</td>\n",
       "      <td>11</td>\n",
       "      <td>RESULTS</td>\n",
       "      <td>0.827477</td>\n",
       "      <td>False</td>\n",
       "    </tr>\n",
       "  </tbody>\n",
       "</table>\n",
       "<p>100 rows × 7 columns</p>\n",
       "</div>"
      ],
      "text/plain": [
       "            target  ... correct\n",
       "16347   BACKGROUND  ...   False\n",
       "13874  CONCLUSIONS  ...   False\n",
       "1221       RESULTS  ...   False\n",
       "3573       RESULTS  ...   False\n",
       "29294      RESULTS  ...   False\n",
       "...            ...  ...     ...\n",
       "12269      RESULTS  ...   False\n",
       "15370      RESULTS  ...   False\n",
       "7823   CONCLUSIONS  ...   False\n",
       "2908       RESULTS  ...   False\n",
       "20003  CONCLUSIONS  ...   False\n",
       "\n",
       "[100 rows x 7 columns]"
      ]
     },
     "execution_count": 184,
     "metadata": {},
     "output_type": "execute_result"
    }
   ],
   "source": [
    "# Find top 100 most wrong samples (note: 100 is an abitrary number, you could go through all of them if you wanted)\n",
    "top_100_wrong = test_df[test_df[\"correct\"] == False].sort_values(\"pred_prob\", ascending=False)[:100]\n",
    "top_100_wrong"
   ]
  },
  {
   "cell_type": "code",
   "execution_count": 185,
   "metadata": {
    "colab": {
     "base_uri": "https://localhost:8080/"
    },
    "id": "of7vDVWsqgON",
    "outputId": "3151cdaa-fbfb-43f5-b898-22c530591dc8"
   },
   "outputs": [
    {
     "name": "stdout",
     "output_type": "stream",
     "text": [
      "Target: BACKGROUND, Pred: OBJECTIVE, Prob: 0.934711754322052, Line number: 0, Total lines: 12\n",
      "\n",
      "Text:\n",
      "to evaluate the effects of the lactic acid bacterium lactobacillus salivarius on caries risk factors .\n",
      "\n",
      "-----\n",
      "\n",
      "Target: CONCLUSIONS, Pred: METHODS, Prob: 0.9300044178962708, Line number: 4, Total lines: 6\n",
      "\n",
      "Text:\n",
      "symptom outcomes will be assessed and estimates of cost-effectiveness made .\n",
      "\n",
      "-----\n",
      "\n",
      "Target: RESULTS, Pred: METHODS, Prob: 0.9224383234977722, Line number: 3, Total lines: 13\n",
      "\n",
      "Text:\n",
      "data were collected prospectively for @ months beginning after completion of the first @ group clinic appointments ( @ months post randomization ) .\n",
      "\n",
      "-----\n",
      "\n",
      "Target: RESULTS, Pred: METHODS, Prob: 0.9192969799041748, Line number: 3, Total lines: 16\n",
      "\n",
      "Text:\n",
      "a cluster randomised trial was implemented with @,@ children in @ government primary schools on the south coast of kenya in @-@ .\n",
      "\n",
      "-----\n",
      "\n",
      "Target: RESULTS, Pred: METHODS, Prob: 0.9187324643135071, Line number: 4, Total lines: 13\n",
      "\n",
      "Text:\n",
      "baseline measures included sociodemographics , standardized anthropometrics , asthma control test ( act ) , gerd symptom assessment scale , pittsburgh sleep quality index , and berlin questionnaire for sleep apnea .\n",
      "\n",
      "-----\n",
      "\n",
      "Target: METHODS, Pred: RESULTS, Prob: 0.9154279232025146, Line number: 6, Total lines: 9\n",
      "\n",
      "Text:\n",
      "-@ % vs. fish : -@ % vs. fish + s : -@ % ; p < @ ) but there were no significant differences between groups .\n",
      "\n",
      "-----\n",
      "\n",
      "Target: OBJECTIVE, Pred: METHODS, Prob: 0.9152262806892395, Line number: 3, Total lines: 13\n",
      "\n",
      "Text:\n",
      "design , settings , participants , and intervention : ten healthy , normal-weight men were studied in randomized , double-blind fashion , each receiving a @-minute intraduodenal infusion of l-trp at @ ( total @ kcal ) or @ ( total @ kcal ) kcal/min or saline ( control ) .\n",
      "\n",
      "-----\n",
      "\n",
      "Target: RESULTS, Pred: METHODS, Prob: 0.9070656895637512, Line number: 4, Total lines: 6\n",
      "\n",
      "Text:\n",
      "the primary outcome is the appearance of incisional hernias assessed by physical examination at clinical visits and radiologically ( ct scan ) performed at the end of follow-up .\n",
      "\n",
      "-----\n",
      "\n",
      "Target: METHODS, Pred: RESULTS, Prob: 0.9068002700805664, Line number: 5, Total lines: 7\n",
      "\n",
      "Text:\n",
      "at this time , an as@ response was achieved by @ ( @ % ) and @ ( @ % ) patients in groups @ and @ , respectively ( p < @ for all ) .\n",
      "\n",
      "-----\n",
      "\n",
      "Target: RESULTS, Pred: METHODS, Prob: 0.9062907099723816, Line number: 4, Total lines: 14\n",
      "\n",
      "Text:\n",
      "a screening questionnaire for moh was sent to all @-@ year old patients on these gps ` list .\n",
      "\n",
      "-----\n",
      "\n"
     ]
    }
   ],
   "source": [
    "# Investigate top wrong preds\n",
    "for row in top_100_wrong[0:10].itertuples(): # adjust indexes to view different samples\n",
    "  _, target, text, line_number, total_lines, prediction, pred_prob, _ = row\n",
    "  print(f\"Target: {target}, Pred: {prediction}, Prob: {pred_prob}, Line number: {line_number}, Total lines: {total_lines}\\n\")\n",
    "  print(f\"Text:\\n{text}\\n\")\n",
    "  print(\"-----\\n\")"
   ]
  },
  {
   "cell_type": "code",
   "execution_count": 187,
   "metadata": {
    "colab": {
     "base_uri": "https://localhost:8080/"
    },
    "id": "FF5YN94oqoPO",
    "outputId": "143b2b06-1c1a-4039-ad36-94e9c82e2cb4"
   },
   "outputs": [
    {
     "name": "stdout",
     "output_type": "stream",
     "text": [
      "--2021-12-06 07:36:59--  https://raw.githubusercontent.com/mrdbourke/tensorflow-deep-learning/main/extras/skimlit_example_abstracts.json\n",
      "Resolving raw.githubusercontent.com (raw.githubusercontent.com)... 185.199.108.133, 185.199.111.133, 185.199.110.133, ...\n",
      "Connecting to raw.githubusercontent.com (raw.githubusercontent.com)|185.199.108.133|:443... connected.\n",
      "HTTP request sent, awaiting response... 200 OK\n",
      "Length: 6737 (6.6K) [text/plain]\n",
      "Saving to: ‘skimlit_example_abstracts.json.1’\n",
      "\n",
      "\r",
      "          skimlit_e   0%[                    ]       0  --.-KB/s               \r",
      "skimlit_example_abs 100%[===================>]   6.58K  --.-KB/s    in 0s      \n",
      "\n",
      "2021-12-06 07:36:59 (46.2 MB/s) - ‘skimlit_example_abstracts.json.1’ saved [6737/6737]\n",
      "\n"
     ]
    },
    {
     "data": {
      "text/plain": [
       "[{'abstract': 'This RCT examined the efficacy of a manualized social intervention for children with HFASDs. Participants were randomly assigned to treatment or wait-list conditions. Treatment included instruction and therapeutic activities targeting social skills, face-emotion recognition, interest expansion, and interpretation of non-literal language. A response-cost program was applied to reduce problem behaviors and foster skills acquisition. Significant treatment effects were found for five of seven primary outcome measures (parent ratings and direct child measures). Secondary measures based on staff ratings (treatment group only) corroborated gains reported by parents. High levels of parent, child and staff satisfaction were reported, along with high levels of treatment fidelity. Standardized effect size estimates were primarily in the medium and large ranges and favored the treatment group.',\n",
       "  'details': 'RCT of a manualized social treatment for high-functioning autism spectrum disorders',\n",
       "  'source': 'https://pubmed.ncbi.nlm.nih.gov/20232240/'},\n",
       " {'abstract': \"Postpartum depression (PPD) is the most prevalent mood disorder associated with childbirth. No single cause of PPD has been identified, however the increased risk of nutritional deficiencies incurred through the high nutritional requirements of pregnancy may play a role in the pathology of depressive symptoms. Three nutritional interventions have drawn particular interest as possible non-invasive and cost-effective prevention and/or treatment strategies for PPD; omega-3 (n-3) long chain polyunsaturated fatty acids (LCPUFA), vitamin D and overall diet. We searched for meta-analyses of randomised controlled trials (RCT's) of nutritional interventions during the perinatal period with PPD as an outcome, and checked for any trials published subsequently to the meta-analyses. Fish oil: Eleven RCT's of prenatal fish oil supplementation RCT's show null and positive effects on PPD symptoms. Vitamin D: no relevant RCT's were identified, however seven observational studies of maternal vitamin D levels with PPD outcomes showed inconsistent associations. Diet: Two Australian RCT's with dietary advice interventions in pregnancy had a positive and null result on PPD. With the exception of fish oil, few RCT's with nutritional interventions during pregnancy assess PPD. Further research is needed to determine whether nutritional intervention strategies during pregnancy can protect against symptoms of PPD. Given the prevalence of PPD and ease of administering PPD measures, we recommend future prenatal nutritional RCT's include PPD as an outcome.\",\n",
       "  'details': 'Formatting removed (can be used to compare model to actual example)',\n",
       "  'source': 'https://pubmed.ncbi.nlm.nih.gov/28012571/'},\n",
       " {'abstract': 'Mental illness, including depression, anxiety and bipolar disorder, accounts for a significant proportion of global disability and poses a substantial social, economic and heath burden. Treatment is presently dominated by pharmacotherapy, such as antidepressants, and psychotherapy, such as cognitive behavioural therapy; however, such treatments avert less than half of the disease burden, suggesting that additional strategies are needed to prevent and treat mental disorders. There are now consistent mechanistic, observational and interventional data to suggest diet quality may be a modifiable risk factor for mental illness. This review provides an overview of the nutritional psychiatry field. It includes a discussion of the neurobiological mechanisms likely modulated by diet, the use of dietary and nutraceutical interventions in mental disorders, and recommendations for further research. Potential biological pathways related to mental disorders include inflammation, oxidative stress, the gut microbiome, epigenetic modifications and neuroplasticity. Consistent epidemiological evidence, particularly for depression, suggests an association between measures of diet quality and mental health, across multiple populations and age groups; these do not appear to be explained by other demographic, lifestyle factors or reverse causality. Our recently published intervention trial provides preliminary clinical evidence that dietary interventions in clinically diagnosed populations are feasible and can provide significant clinical benefit. Furthermore, nutraceuticals including n-3 fatty acids, folate, S-adenosylmethionine, N-acetyl cysteine and probiotics, among others, are promising avenues for future research. Continued research is now required to investigate the efficacy of intervention studies in large cohorts and within clinically relevant populations, particularly in patients with schizophrenia, bipolar and anxiety disorders.',\n",
       "  'details': 'Effect of nutrition on mental health',\n",
       "  'source': 'https://pubmed.ncbi.nlm.nih.gov/28942748/'},\n",
       " {'abstract': \"Hepatitis C virus (HCV) and alcoholic liver disease (ALD), either alone or in combination, count for more than two thirds of all liver diseases in the Western world. There is no safe level of drinking in HCV-infected patients and the most effective goal for these patients is total abstinence. Baclofen, a GABA(B) receptor agonist, represents a promising pharmacotherapy for alcohol dependence (AD). Previously, we performed a randomized clinical trial (RCT), which demonstrated the safety and efficacy of baclofen in patients affected by AD and cirrhosis. The goal of this post-hoc analysis was to explore baclofen's effect in a subgroup of alcohol-dependent HCV-infected cirrhotic patients. Any patient with HCV infection was selected for this analysis. Among the 84 subjects randomized in the main trial, 24 alcohol-dependent cirrhotic patients had a HCV infection; 12 received baclofen 10mg t.i.d. and 12 received placebo for 12-weeks. With respect to the placebo group (3/12, 25.0%), a significantly higher number of patients who achieved and maintained total alcohol abstinence was found in the baclofen group (10/12, 83.3%; p=0.0123). Furthermore, in the baclofen group, compared to placebo, there was a significantly higher increase in albumin values from baseline (p=0.0132) and a trend toward a significant reduction in INR levels from baseline (p=0.0716). In conclusion, baclofen was safe and significantly more effective than placebo in promoting alcohol abstinence, and improving some Liver Function Tests (LFTs) (i.e. albumin, INR) in alcohol-dependent HCV-infected cirrhotic patients. Baclofen may represent a clinically relevant alcohol pharmacotherapy for these patients.\",\n",
       "  'details': 'Baclofen promotes alcohol abstinence in alcohol dependent cirrhotic patients with hepatitis C virus (HCV) infection',\n",
       "  'source': 'https://pubmed.ncbi.nlm.nih.gov/22244707/'}]"
      ]
     },
     "execution_count": 187,
     "metadata": {},
     "output_type": "execute_result"
    }
   ],
   "source": [
    "import json\n",
    "# Download and open example abstracts (copy and pasted from PubMed)\n",
    "!wget https://raw.githubusercontent.com/mrdbourke/tensorflow-deep-learning/main/extras/skimlit_example_abstracts.json\n",
    "\n",
    "with open(\"skimlit_example_abstracts.json\", \"r\") as f:\n",
    "  example_abstracts = json.load(f)\n",
    "\n",
    "example_abstracts"
   ]
  },
  {
   "cell_type": "code",
   "execution_count": 188,
   "metadata": {
    "colab": {
     "base_uri": "https://localhost:8080/",
     "height": 175
    },
    "id": "Giuq0g6jrGA0",
    "outputId": "94bb0b07-7520-44d0-f5c4-06f5e0845b50"
   },
   "outputs": [
    {
     "data": {
      "text/html": [
       "<div>\n",
       "<style scoped>\n",
       "    .dataframe tbody tr th:only-of-type {\n",
       "        vertical-align: middle;\n",
       "    }\n",
       "\n",
       "    .dataframe tbody tr th {\n",
       "        vertical-align: top;\n",
       "    }\n",
       "\n",
       "    .dataframe thead th {\n",
       "        text-align: right;\n",
       "    }\n",
       "</style>\n",
       "<table border=\"1\" class=\"dataframe\">\n",
       "  <thead>\n",
       "    <tr style=\"text-align: right;\">\n",
       "      <th></th>\n",
       "      <th>abstract</th>\n",
       "      <th>source</th>\n",
       "      <th>details</th>\n",
       "    </tr>\n",
       "  </thead>\n",
       "  <tbody>\n",
       "    <tr>\n",
       "      <th>0</th>\n",
       "      <td>This RCT examined the efficacy of a manualized...</td>\n",
       "      <td>https://pubmed.ncbi.nlm.nih.gov/20232240/</td>\n",
       "      <td>RCT of a manualized social treatment for high-...</td>\n",
       "    </tr>\n",
       "    <tr>\n",
       "      <th>1</th>\n",
       "      <td>Postpartum depression (PPD) is the most preval...</td>\n",
       "      <td>https://pubmed.ncbi.nlm.nih.gov/28012571/</td>\n",
       "      <td>Formatting removed (can be used to compare mod...</td>\n",
       "    </tr>\n",
       "    <tr>\n",
       "      <th>2</th>\n",
       "      <td>Mental illness, including depression, anxiety ...</td>\n",
       "      <td>https://pubmed.ncbi.nlm.nih.gov/28942748/</td>\n",
       "      <td>Effect of nutrition on mental health</td>\n",
       "    </tr>\n",
       "    <tr>\n",
       "      <th>3</th>\n",
       "      <td>Hepatitis C virus (HCV) and alcoholic liver di...</td>\n",
       "      <td>https://pubmed.ncbi.nlm.nih.gov/22244707/</td>\n",
       "      <td>Baclofen promotes alcohol abstinence in alcoho...</td>\n",
       "    </tr>\n",
       "  </tbody>\n",
       "</table>\n",
       "</div>"
      ],
      "text/plain": [
       "                                            abstract  ...                                            details\n",
       "0  This RCT examined the efficacy of a manualized...  ...  RCT of a manualized social treatment for high-...\n",
       "1  Postpartum depression (PPD) is the most preval...  ...  Formatting removed (can be used to compare mod...\n",
       "2  Mental illness, including depression, anxiety ...  ...               Effect of nutrition on mental health\n",
       "3  Hepatitis C virus (HCV) and alcoholic liver di...  ...  Baclofen promotes alcohol abstinence in alcoho...\n",
       "\n",
       "[4 rows x 3 columns]"
      ]
     },
     "execution_count": 188,
     "metadata": {},
     "output_type": "execute_result"
    }
   ],
   "source": [
    "# See what our example abstracts look like\n",
    "abstracts = pd.DataFrame(example_abstracts)\n",
    "abstracts"
   ]
  },
  {
   "cell_type": "code",
   "execution_count": 189,
   "metadata": {
    "colab": {
     "base_uri": "https://localhost:8080/"
    },
    "id": "qpZLKIugrPOq",
    "outputId": "5a2147c4-66d3-4633-8db5-c74d2e1f0df5"
   },
   "outputs": [
    {
     "data": {
      "text/plain": [
       "['This RCT examined the efficacy of a manualized social intervention for children with HFASDs.',\n",
       " 'Participants were randomly assigned to treatment or wait-list conditions.',\n",
       " 'Treatment included instruction and therapeutic activities targeting social skills, face-emotion recognition, interest expansion, and interpretation of non-literal language.',\n",
       " 'A response-cost program was applied to reduce problem behaviors and foster skills acquisition.',\n",
       " 'Significant treatment effects were found for five of seven primary outcome measures (parent ratings and direct child measures).',\n",
       " 'Secondary measures based on staff ratings (treatment group only) corroborated gains reported by parents.',\n",
       " 'High levels of parent, child and staff satisfaction were reported, along with high levels of treatment fidelity.',\n",
       " 'Standardized effect size estimates were primarily in the medium and large ranges and favored the treatment group.']"
      ]
     },
     "execution_count": 189,
     "metadata": {},
     "output_type": "execute_result"
    }
   ],
   "source": [
    "# Create sentencizer - Source: https://spacy.io/usage/linguistic-features#sbd \n",
    "from spacy.lang.en import English\n",
    "nlp = English() # setup English sentence parser\n",
    "sentencizer = nlp.create_pipe(\"sentencizer\") # create sentence splitting pipeline object\n",
    "nlp.add_pipe(sentencizer) # add sentence splitting pipeline object to sentence parser\n",
    "doc = nlp(example_abstracts[0][\"abstract\"]) # create \"doc\" of parsed sequences, change index for a different abstract\n",
    "abstract_lines = [str(sent) for sent in list(doc.sents)] # return detected sentences from doc in string type (not spaCy token type)\n",
    "abstract_lines"
   ]
  },
  {
   "cell_type": "code",
   "execution_count": 190,
   "metadata": {
    "colab": {
     "base_uri": "https://localhost:8080/"
    },
    "id": "nORI7D5ArZ4M",
    "outputId": "b09e541c-6105-4b56-ec59-e7231a0061d8"
   },
   "outputs": [
    {
     "data": {
      "text/plain": [
       "[{'line_number': 0,\n",
       "  'text': 'This RCT examined the efficacy of a manualized social intervention for children with HFASDs.',\n",
       "  'total_lines': 7},\n",
       " {'line_number': 1,\n",
       "  'text': 'Participants were randomly assigned to treatment or wait-list conditions.',\n",
       "  'total_lines': 7},\n",
       " {'line_number': 2,\n",
       "  'text': 'Treatment included instruction and therapeutic activities targeting social skills, face-emotion recognition, interest expansion, and interpretation of non-literal language.',\n",
       "  'total_lines': 7},\n",
       " {'line_number': 3,\n",
       "  'text': 'A response-cost program was applied to reduce problem behaviors and foster skills acquisition.',\n",
       "  'total_lines': 7},\n",
       " {'line_number': 4,\n",
       "  'text': 'Significant treatment effects were found for five of seven primary outcome measures (parent ratings and direct child measures).',\n",
       "  'total_lines': 7},\n",
       " {'line_number': 5,\n",
       "  'text': 'Secondary measures based on staff ratings (treatment group only) corroborated gains reported by parents.',\n",
       "  'total_lines': 7},\n",
       " {'line_number': 6,\n",
       "  'text': 'High levels of parent, child and staff satisfaction were reported, along with high levels of treatment fidelity.',\n",
       "  'total_lines': 7},\n",
       " {'line_number': 7,\n",
       "  'text': 'Standardized effect size estimates were primarily in the medium and large ranges and favored the treatment group.',\n",
       "  'total_lines': 7}]"
      ]
     },
     "execution_count": 190,
     "metadata": {},
     "output_type": "execute_result"
    }
   ],
   "source": [
    "# Get total number of lines\n",
    "total_lines_in_sample = len(abstract_lines)\n",
    "\n",
    "# Go through each line in abstract and create a list of dictionaries containing features for each line\n",
    "sample_lines = []\n",
    "for i, line in enumerate(abstract_lines):\n",
    "  sample_dict = {}\n",
    "  sample_dict[\"text\"] = str(line)\n",
    "  sample_dict[\"line_number\"] = i\n",
    "  sample_dict[\"total_lines\"] = total_lines_in_sample - 1\n",
    "  sample_lines.append(sample_dict)\n",
    "sample_lines"
   ]
  },
  {
   "cell_type": "code",
   "execution_count": 191,
   "metadata": {
    "colab": {
     "base_uri": "https://localhost:8080/"
    },
    "id": "X3zraAI7riCO",
    "outputId": "74554ada-e073-46a4-f87a-4b3c661fa1e2"
   },
   "outputs": [
    {
     "data": {
      "text/plain": [
       "<tf.Tensor: shape=(8, 15), dtype=float32, numpy=\n",
       "array([[1., 0., 0., 0., 0., 0., 0., 0., 0., 0., 0., 0., 0., 0., 0.],\n",
       "       [0., 1., 0., 0., 0., 0., 0., 0., 0., 0., 0., 0., 0., 0., 0.],\n",
       "       [0., 0., 1., 0., 0., 0., 0., 0., 0., 0., 0., 0., 0., 0., 0.],\n",
       "       [0., 0., 0., 1., 0., 0., 0., 0., 0., 0., 0., 0., 0., 0., 0.],\n",
       "       [0., 0., 0., 0., 1., 0., 0., 0., 0., 0., 0., 0., 0., 0., 0.],\n",
       "       [0., 0., 0., 0., 0., 1., 0., 0., 0., 0., 0., 0., 0., 0., 0.],\n",
       "       [0., 0., 0., 0., 0., 0., 1., 0., 0., 0., 0., 0., 0., 0., 0.],\n",
       "       [0., 0., 0., 0., 0., 0., 0., 1., 0., 0., 0., 0., 0., 0., 0.]],\n",
       "      dtype=float32)>"
      ]
     },
     "execution_count": 191,
     "metadata": {},
     "output_type": "execute_result"
    }
   ],
   "source": [
    "# Get all line_number values from sample abstract\n",
    "test_abstract_line_numbers = [line[\"line_number\"] for line in sample_lines]\n",
    "# One-hot encode to same depth as training data, so model accepts right input shape\n",
    "test_abstract_line_numbers_one_hot = tf.one_hot(test_abstract_line_numbers, depth=15) \n",
    "test_abstract_line_numbers_one_hot"
   ]
  },
  {
   "cell_type": "code",
   "execution_count": 192,
   "metadata": {
    "colab": {
     "base_uri": "https://localhost:8080/"
    },
    "id": "5wP2ALKqrpCd",
    "outputId": "dcb15cf3-cd64-4e51-9a0e-fa213a8e20e4"
   },
   "outputs": [
    {
     "data": {
      "text/plain": [
       "<tf.Tensor: shape=(8, 20), dtype=float32, numpy=\n",
       "array([[0., 0., 0., 0., 0., 0., 0., 1., 0., 0., 0., 0., 0., 0., 0., 0.,\n",
       "        0., 0., 0., 0.],\n",
       "       [0., 0., 0., 0., 0., 0., 0., 1., 0., 0., 0., 0., 0., 0., 0., 0.,\n",
       "        0., 0., 0., 0.],\n",
       "       [0., 0., 0., 0., 0., 0., 0., 1., 0., 0., 0., 0., 0., 0., 0., 0.,\n",
       "        0., 0., 0., 0.],\n",
       "       [0., 0., 0., 0., 0., 0., 0., 1., 0., 0., 0., 0., 0., 0., 0., 0.,\n",
       "        0., 0., 0., 0.],\n",
       "       [0., 0., 0., 0., 0., 0., 0., 1., 0., 0., 0., 0., 0., 0., 0., 0.,\n",
       "        0., 0., 0., 0.],\n",
       "       [0., 0., 0., 0., 0., 0., 0., 1., 0., 0., 0., 0., 0., 0., 0., 0.,\n",
       "        0., 0., 0., 0.],\n",
       "       [0., 0., 0., 0., 0., 0., 0., 1., 0., 0., 0., 0., 0., 0., 0., 0.,\n",
       "        0., 0., 0., 0.],\n",
       "       [0., 0., 0., 0., 0., 0., 0., 1., 0., 0., 0., 0., 0., 0., 0., 0.,\n",
       "        0., 0., 0., 0.]], dtype=float32)>"
      ]
     },
     "execution_count": 192,
     "metadata": {},
     "output_type": "execute_result"
    }
   ],
   "source": [
    "# Get all total_lines values from sample abstract\n",
    "test_abstract_total_lines = [line[\"total_lines\"] for line in sample_lines]\n",
    "# One-hot encode to same depth as training data, so model accepts right input shape\n",
    "test_abstract_total_lines_one_hot = tf.one_hot(test_abstract_total_lines, depth=20)\n",
    "test_abstract_total_lines_one_hot"
   ]
  },
  {
   "cell_type": "code",
   "execution_count": 193,
   "metadata": {
    "colab": {
     "base_uri": "https://localhost:8080/"
    },
    "id": "7J2S5-Rvrqy5",
    "outputId": "070915b6-40c8-40fe-bd34-2f3162c6c1e1"
   },
   "outputs": [
    {
     "data": {
      "text/plain": [
       "['T h i s   R C T   e x a m i n e d   t h e   e f f i c a c y   o f   a   m a n u a l i z e d   s o c i a l   i n t e r v e n t i o n   f o r   c h i l d r e n   w i t h   H F A S D s .',\n",
       " 'P a r t i c i p a n t s   w e r e   r a n d o m l y   a s s i g n e d   t o   t r e a t m e n t   o r   w a i t - l i s t   c o n d i t i o n s .',\n",
       " 'T r e a t m e n t   i n c l u d e d   i n s t r u c t i o n   a n d   t h e r a p e u t i c   a c t i v i t i e s   t a r g e t i n g   s o c i a l   s k i l l s ,   f a c e - e m o t i o n   r e c o g n i t i o n ,   i n t e r e s t   e x p a n s i o n ,   a n d   i n t e r p r e t a t i o n   o f   n o n - l i t e r a l   l a n g u a g e .',\n",
       " 'A   r e s p o n s e - c o s t   p r o g r a m   w a s   a p p l i e d   t o   r e d u c e   p r o b l e m   b e h a v i o r s   a n d   f o s t e r   s k i l l s   a c q u i s i t i o n .',\n",
       " 'S i g n i f i c a n t   t r e a t m e n t   e f f e c t s   w e r e   f o u n d   f o r   f i v e   o f   s e v e n   p r i m a r y   o u t c o m e   m e a s u r e s   ( p a r e n t   r a t i n g s   a n d   d i r e c t   c h i l d   m e a s u r e s ) .',\n",
       " 'S e c o n d a r y   m e a s u r e s   b a s e d   o n   s t a f f   r a t i n g s   ( t r e a t m e n t   g r o u p   o n l y )   c o r r o b o r a t e d   g a i n s   r e p o r t e d   b y   p a r e n t s .',\n",
       " 'H i g h   l e v e l s   o f   p a r e n t ,   c h i l d   a n d   s t a f f   s a t i s f a c t i o n   w e r e   r e p o r t e d ,   a l o n g   w i t h   h i g h   l e v e l s   o f   t r e a t m e n t   f i d e l i t y .',\n",
       " 'S t a n d a r d i z e d   e f f e c t   s i z e   e s t i m a t e s   w e r e   p r i m a r i l y   i n   t h e   m e d i u m   a n d   l a r g e   r a n g e s   a n d   f a v o r e d   t h e   t r e a t m e n t   g r o u p .']"
      ]
     },
     "execution_count": 193,
     "metadata": {},
     "output_type": "execute_result"
    }
   ],
   "source": [
    "# Split abstract lines into characters\n",
    "abstract_chars = [split_chars(sentence) for sentence in abstract_lines]\n",
    "abstract_chars"
   ]
  },
  {
   "cell_type": "code",
   "execution_count": 194,
   "metadata": {
    "colab": {
     "base_uri": "https://localhost:8080/"
    },
    "id": "_0op-ih6rtJ-",
    "outputId": "ac203127-3b0b-454e-9ff4-947a4c64aaa7"
   },
   "outputs": [
    {
     "name": "stdout",
     "output_type": "stream",
     "text": [
      "CPU times: user 1.14 s, sys: 0 ns, total: 1.14 s\n",
      "Wall time: 1.03 s\n"
     ]
    }
   ],
   "source": [
    "# Make predictions on sample abstract features\n",
    "%%time\n",
    "test_abstract_pred_probs = loaded_model.predict(x=(test_abstract_line_numbers_one_hot,\n",
    "                                                   test_abstract_total_lines_one_hot,\n",
    "                                                   tf.constant(abstract_lines),\n",
    "                                                   tf.constant(abstract_chars)))\n",
    "test_abstract_pred_probs"
   ]
  },
  {
   "cell_type": "code",
   "execution_count": 195,
   "metadata": {
    "colab": {
     "base_uri": "https://localhost:8080/"
    },
    "id": "X4q5sRQHrzqM",
    "outputId": "f6ecdd6d-3ba3-40d6-c3fd-96c8bad92b0c"
   },
   "outputs": [
    {
     "data": {
      "text/plain": [
       "<tf.Tensor: shape=(8,), dtype=int64, numpy=array([3, 2, 2, 2, 2, 2, 4, 4])>"
      ]
     },
     "execution_count": 195,
     "metadata": {},
     "output_type": "execute_result"
    }
   ],
   "source": [
    "# Turn prediction probabilities into prediction classes\n",
    "test_abstract_preds = tf.argmax(test_abstract_pred_probs, axis=1)\n",
    "test_abstract_preds"
   ]
  },
  {
   "cell_type": "code",
   "execution_count": 196,
   "metadata": {
    "colab": {
     "base_uri": "https://localhost:8080/"
    },
    "id": "lkwsfHH9r2v3",
    "outputId": "82075997-e21d-4f8c-e902-639b47d62837"
   },
   "outputs": [
    {
     "data": {
      "text/plain": [
       "['OBJECTIVE',\n",
       " 'METHODS',\n",
       " 'METHODS',\n",
       " 'METHODS',\n",
       " 'METHODS',\n",
       " 'METHODS',\n",
       " 'RESULTS',\n",
       " 'RESULTS']"
      ]
     },
     "execution_count": 196,
     "metadata": {},
     "output_type": "execute_result"
    }
   ],
   "source": [
    "# Turn prediction class integers into string class names\n",
    "test_abstract_pred_classes = [label_encoder.classes_[i] for i in test_abstract_preds]\n",
    "test_abstract_pred_classes"
   ]
  },
  {
   "cell_type": "code",
   "execution_count": 197,
   "metadata": {
    "colab": {
     "base_uri": "https://localhost:8080/"
    },
    "id": "DoJtRc6or6cf",
    "outputId": "c51e0426-3517-4a60-d52e-69c14c876b90"
   },
   "outputs": [
    {
     "name": "stdout",
     "output_type": "stream",
     "text": [
      "OBJECTIVE: This RCT examined the efficacy of a manualized social intervention for children with HFASDs.\n",
      "METHODS: Participants were randomly assigned to treatment or wait-list conditions.\n",
      "METHODS: Treatment included instruction and therapeutic activities targeting social skills, face-emotion recognition, interest expansion, and interpretation of non-literal language.\n",
      "METHODS: A response-cost program was applied to reduce problem behaviors and foster skills acquisition.\n",
      "METHODS: Significant treatment effects were found for five of seven primary outcome measures (parent ratings and direct child measures).\n",
      "METHODS: Secondary measures based on staff ratings (treatment group only) corroborated gains reported by parents.\n",
      "RESULTS: High levels of parent, child and staff satisfaction were reported, along with high levels of treatment fidelity.\n",
      "RESULTS: Standardized effect size estimates were primarily in the medium and large ranges and favored the treatment group.\n"
     ]
    }
   ],
   "source": [
    "# Visualize abstract lines and predicted sequence labels\n",
    "for i, line in enumerate(abstract_lines):\n",
    "  print(f\"{test_abstract_pred_classes[i]}: {line}\")"
   ]
  },
  {
   "cell_type": "code",
   "execution_count": null,
   "metadata": {
    "id": "R2htKEbWr9qQ"
   },
   "outputs": [],
   "source": []
  }
 ],
 "metadata": {
  "accelerator": "GPU",
  "colab": {
   "name": "SkimLit_Project.ipynb",
   "provenance": []
  },
  "kernelspec": {
   "display_name": "Python 3 (ipykernel)",
   "language": "python",
   "name": "python3"
  },
  "language_info": {
   "codemirror_mode": {
    "name": "ipython",
    "version": 3
   },
   "file_extension": ".py",
   "mimetype": "text/x-python",
   "name": "python",
   "nbconvert_exporter": "python",
   "pygments_lexer": "ipython3",
   "version": "3.8.8"
  }
 },
 "nbformat": 4,
 "nbformat_minor": 1
}
