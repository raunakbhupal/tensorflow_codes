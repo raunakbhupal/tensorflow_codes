{
 "cells": [
  {
   "cell_type": "code",
   "execution_count": 1,
   "metadata": {
    "colab": {
     "base_uri": "https://localhost:8080/"
    },
    "id": "n4DfUdEwUCzN",
    "outputId": "fa507dd5-8d84-4d20-bab8-36401364c36b"
   },
   "outputs": [
    {
     "name": "stdout",
     "output_type": "stream",
     "text": [
      "Tue Nov 23 09:56:30 2021       \n",
      "+-----------------------------------------------------------------------------+\n",
      "| NVIDIA-SMI 495.44       Driver Version: 460.32.03    CUDA Version: 11.2     |\n",
      "|-------------------------------+----------------------+----------------------+\n",
      "| GPU  Name        Persistence-M| Bus-Id        Disp.A | Volatile Uncorr. ECC |\n",
      "| Fan  Temp  Perf  Pwr:Usage/Cap|         Memory-Usage | GPU-Util  Compute M. |\n",
      "|                               |                      |               MIG M. |\n",
      "|===============================+======================+======================|\n",
      "|   0  Tesla K80           Off  | 00000000:00:04.0 Off |                    0 |\n",
      "| N/A   56C    P8    30W / 149W |      0MiB / 11441MiB |      0%      Default |\n",
      "|                               |                      |                  N/A |\n",
      "+-------------------------------+----------------------+----------------------+\n",
      "                                                                               \n",
      "+-----------------------------------------------------------------------------+\n",
      "| Processes:                                                                  |\n",
      "|  GPU   GI   CI        PID   Type   Process name                  GPU Memory |\n",
      "|        ID   ID                                                   Usage      |\n",
      "|=============================================================================|\n",
      "|  No running processes found                                                 |\n",
      "+-----------------------------------------------------------------------------+\n"
     ]
    }
   ],
   "source": [
    "!nvidia-smi"
   ]
  },
  {
   "cell_type": "code",
   "execution_count": 2,
   "metadata": {
    "colab": {
     "base_uri": "https://localhost:8080/"
    },
    "id": "-uzZFLjzt6BI",
    "outputId": "7600a4c0-a76d-4cbf-9a5c-cd8c2b225149"
   },
   "outputs": [
    {
     "name": "stdout",
     "output_type": "stream",
     "text": [
      "--2021-11-23 09:56:30--  https://storage.googleapis.com/ztm_tf_course/food_vision/10_food_classes_10_percent.zip\n",
      "Resolving storage.googleapis.com (storage.googleapis.com)... 108.177.111.128, 108.177.121.128, 142.250.103.128, ...\n",
      "Connecting to storage.googleapis.com (storage.googleapis.com)|108.177.111.128|:443... connected.\n",
      "HTTP request sent, awaiting response... 200 OK\n",
      "Length: 168546183 (161M) [application/zip]\n",
      "Saving to: ‘10_food_classes_10_percent.zip’\n",
      "\n",
      "10_food_classes_10_ 100%[===================>] 160.74M   133MB/s    in 1.2s    \n",
      "\n",
      "2021-11-23 09:56:32 (133 MB/s) - ‘10_food_classes_10_percent.zip’ saved [168546183/168546183]\n",
      "\n"
     ]
    }
   ],
   "source": [
    "import zipfile\n",
    "\n",
    "!wget https://storage.googleapis.com/ztm_tf_course/food_vision/10_food_classes_10_percent.zip\n",
    "\n",
    "zip_ref=zipfile.ZipFile('10_food_classes_10_percent.zip')\n",
    "zip_ref.extractall()\n",
    "zip_ref.close()"
   ]
  },
  {
   "cell_type": "code",
   "execution_count": 3,
   "metadata": {
    "colab": {
     "base_uri": "https://localhost:8080/"
    },
    "id": "zz48cgs2uZ4J",
    "outputId": "1e1b6937-d249-4f8a-f887-b3b9523b2d43"
   },
   "outputs": [
    {
     "name": "stdout",
     "output_type": "stream",
     "text": [
      "There are 2 directories and 0 images in '10_food_classes_10_percent'.\n",
      "There are 10 directories and 0 images in '10_food_classes_10_percent/test'.\n",
      "There are 0 directories and 250 images in '10_food_classes_10_percent/test/fried_rice'.\n",
      "There are 0 directories and 250 images in '10_food_classes_10_percent/test/sushi'.\n",
      "There are 0 directories and 250 images in '10_food_classes_10_percent/test/ramen'.\n",
      "There are 0 directories and 250 images in '10_food_classes_10_percent/test/pizza'.\n",
      "There are 0 directories and 250 images in '10_food_classes_10_percent/test/chicken_wings'.\n",
      "There are 0 directories and 250 images in '10_food_classes_10_percent/test/ice_cream'.\n",
      "There are 0 directories and 250 images in '10_food_classes_10_percent/test/grilled_salmon'.\n",
      "There are 0 directories and 250 images in '10_food_classes_10_percent/test/hamburger'.\n",
      "There are 0 directories and 250 images in '10_food_classes_10_percent/test/steak'.\n",
      "There are 0 directories and 250 images in '10_food_classes_10_percent/test/chicken_curry'.\n",
      "There are 10 directories and 0 images in '10_food_classes_10_percent/train'.\n",
      "There are 0 directories and 75 images in '10_food_classes_10_percent/train/fried_rice'.\n",
      "There are 0 directories and 75 images in '10_food_classes_10_percent/train/sushi'.\n",
      "There are 0 directories and 75 images in '10_food_classes_10_percent/train/ramen'.\n",
      "There are 0 directories and 75 images in '10_food_classes_10_percent/train/pizza'.\n",
      "There are 0 directories and 75 images in '10_food_classes_10_percent/train/chicken_wings'.\n",
      "There are 0 directories and 75 images in '10_food_classes_10_percent/train/ice_cream'.\n",
      "There are 0 directories and 75 images in '10_food_classes_10_percent/train/grilled_salmon'.\n",
      "There are 0 directories and 75 images in '10_food_classes_10_percent/train/hamburger'.\n",
      "There are 0 directories and 75 images in '10_food_classes_10_percent/train/steak'.\n",
      "There are 0 directories and 75 images in '10_food_classes_10_percent/train/chicken_curry'.\n"
     ]
    }
   ],
   "source": [
    "# How many images in each folder?\n",
    "import os\n",
    "\n",
    "# Walk through 10 percent data directory and list number of files\n",
    "for dirpath, dirnames, filenames in os.walk(\"10_food_classes_10_percent\"):\n",
    "  print(f\"There are {len(dirnames)} directories and {len(filenames)} images in '{dirpath}'.\")"
   ]
  },
  {
   "cell_type": "code",
   "execution_count": 4,
   "metadata": {
    "colab": {
     "base_uri": "https://localhost:8080/"
    },
    "id": "MOq_TbydvF1q",
    "outputId": "bc07ede1-7dbd-49c8-a3a7-aa1544b2080b"
   },
   "outputs": [
    {
     "name": "stdout",
     "output_type": "stream",
     "text": [
      "Found 750 images belonging to 10 classes.\n",
      "Found 2500 images belonging to 10 classes.\n"
     ]
    }
   ],
   "source": [
    "from tensorflow.keras.preprocessing.image import ImageDataGenerator\n",
    "\n",
    "IMAGE_SHAPE=(224,224)\n",
    "BATCH_SIZE=32\n",
    "\n",
    "train_dir='10_food_classes_10_percent/train/'\n",
    "test_dir='10_food_classes_10_percent/test/'\n",
    "\n",
    "train_datagen=ImageDataGenerator(rescale=1/255.)\n",
    "test_datagen=ImageDataGenerator(rescale=1/255.)\n",
    "\n",
    "train_data=train_datagen.flow_from_directory(train_dir,\n",
    "                                             target_size=IMAGE_SHAPE,\n",
    "                                             batch_size=BATCH_SIZE,\n",
    "                                             class_mode='categorical')\n",
    "\n",
    "test_data=test_datagen.flow_from_directory(test_dir,\n",
    "                                           target_size=IMAGE_SHAPE,\n",
    "                                           batch_size=BATCH_SIZE,\n",
    "                                           class_mode='categorical')"
   ]
  },
  {
   "cell_type": "code",
   "execution_count": 5,
   "metadata": {
    "id": "sH_zhAAGwmXB"
   },
   "outputs": [],
   "source": [
    "import datetime\n",
    "\n",
    "def create_tensorboard_callback(dir_name,experiment_name):\n",
    "  log_dir=dir_name+\"/\"+experiment_name+\"/\"+datetime.datetime.now().strftime(\"%Y%m%d-%H%M%S\")\n",
    "  tensorboard_callback=tf.keras.callbacks.TensorBoard(log_dir=log_dir)\n",
    "  print(f\"Saving TensorBoard log files to: {log_dir}\")\n",
    "  return tensorboard_callback"
   ]
  },
  {
   "cell_type": "code",
   "execution_count": 6,
   "metadata": {
    "id": "bdBn1mOu2IhG"
   },
   "outputs": [],
   "source": [
    "resnet_url=\"https://tfhub.dev/google/imagenet/resnet_v2_50/feature_vector/5\"\n",
    "\n",
    "efficientnet_url=\"https://tfhub.dev/tensorflow/efficientnet/b0/feature-vector/1\""
   ]
  },
  {
   "cell_type": "code",
   "execution_count": 7,
   "metadata": {
    "id": "Xlq4AFoh2T18"
   },
   "outputs": [],
   "source": [
    "import tensorflow as tf\n",
    "import tensorflow_hub as hub\n",
    "from tensorflow.keras import layers"
   ]
  },
  {
   "cell_type": "code",
   "execution_count": 8,
   "metadata": {
    "id": "L6ByP3ZP2qbA"
   },
   "outputs": [],
   "source": [
    "def create_model(model_url,num_classes=10):\n",
    "\n",
    "  feature_extractor_layer=hub.KerasLayer(model_url,\n",
    "                                         trainable=False,\n",
    "                                         name='feature_extraction_layer',\n",
    "                                         input_shape=IMAGE_SHAPE+(3,))\n",
    "  \n",
    "  model=tf.keras.Sequential([\n",
    "                           feature_extractor_layer,\n",
    "                           layers.Dense(num_classes,activation='softmax',name='output_layer')\n",
    "  ])\n",
    "\n",
    "  return model"
   ]
  },
  {
   "cell_type": "code",
   "execution_count": 9,
   "metadata": {
    "id": "JOuMfAec9IIv"
   },
   "outputs": [],
   "source": [
    "resnet_model=create_model(resnet_url)"
   ]
  },
  {
   "cell_type": "code",
   "execution_count": 11,
   "metadata": {
    "id": "xz9eoetsPMd5"
   },
   "outputs": [],
   "source": [
    "resnet_model.compile(loss='categorical_crossentropy',\n",
    "                     optimizer=tf.keras.optimizers.Adam(),\n",
    "                     metrics=['accuracy'])"
   ]
  },
  {
   "cell_type": "code",
   "execution_count": 10,
   "metadata": {
    "colab": {
     "base_uri": "https://localhost:8080/"
    },
    "id": "BXQOfb5nO8lv",
    "outputId": "32c112ff-3fba-4068-926a-583ef4d88d27"
   },
   "outputs": [
    {
     "name": "stdout",
     "output_type": "stream",
     "text": [
      "Model: \"sequential\"\n",
      "_________________________________________________________________\n",
      " Layer (type)                Output Shape              Param #   \n",
      "=================================================================\n",
      " feature_extraction_layer (K  (None, 2048)             23564800  \n",
      " erasLayer)                                                      \n",
      "                                                                 \n",
      " output_layer (Dense)        (None, 10)                20490     \n",
      "                                                                 \n",
      "=================================================================\n",
      "Total params: 23,585,290\n",
      "Trainable params: 20,490\n",
      "Non-trainable params: 23,564,800\n",
      "_________________________________________________________________\n"
     ]
    }
   ],
   "source": [
    "resnet_model.summary()"
   ]
  },
  {
   "cell_type": "code",
   "execution_count": 13,
   "metadata": {
    "colab": {
     "base_uri": "https://localhost:8080/"
    },
    "id": "N9T6tMFHPDXc",
    "outputId": "63c8d7d7-d962-4ea0-c1a4-5d4fcac8e233"
   },
   "outputs": [
    {
     "name": "stdout",
     "output_type": "stream",
     "text": [
      "Saving TensorBoard log files to: tensorflow_hub/resnet50V2/20211123-100458\n",
      "Epoch 1/5\n",
      "24/24 [==============================] - 40s 1s/step - loss: 1.9186 - accuracy: 0.3427 - val_loss: 1.1864 - val_accuracy: 0.6372\n",
      "Epoch 2/5\n",
      "24/24 [==============================] - 22s 953ms/step - loss: 0.8948 - accuracy: 0.7387 - val_loss: 0.8674 - val_accuracy: 0.7236\n",
      "Epoch 3/5\n",
      "24/24 [==============================] - 22s 952ms/step - loss: 0.6227 - accuracy: 0.8360 - val_loss: 0.7596 - val_accuracy: 0.7524\n",
      "Epoch 4/5\n",
      "24/24 [==============================] - 22s 949ms/step - loss: 0.4731 - accuracy: 0.8747 - val_loss: 0.7375 - val_accuracy: 0.7584\n",
      "Epoch 5/5\n",
      "24/24 [==============================] - 22s 944ms/step - loss: 0.3849 - accuracy: 0.9147 - val_loss: 0.6873 - val_accuracy: 0.7756\n"
     ]
    }
   ],
   "source": [
    "resnet_history=resnet_model.fit(train_data,\n",
    "                                epochs=5,\n",
    "                                steps_per_epoch=len(train_data),\n",
    "                                validation_data=test_data,\n",
    "                                validation_steps=len(test_data),\n",
    "                                callbacks=[create_tensorboard_callback(dir_name='tensorflow_hub',\n",
    "                                                                       experiment_name='resnet50V2')])"
   ]
  },
  {
   "cell_type": "code",
   "execution_count": 14,
   "metadata": {
    "id": "g-DPUAynQVD6"
   },
   "outputs": [],
   "source": [
    "import matplotlib.pyplot as plt\n",
    "\n",
    "def plot_loss_curves(history):\n",
    "\n",
    "  loss = history.history['loss']\n",
    "  val_loss = history.history['val_loss']\n",
    "\n",
    "  accuracy = history.history['accuracy']\n",
    "  val_accuracy = history.history['val_accuracy']\n",
    "\n",
    "  epochs = range(len(history.history['loss']))\n",
    "\n",
    "  # Plot loss\n",
    "  plt.plot(epochs, loss, label='training_loss')\n",
    "  plt.plot(epochs, val_loss, label='val_loss')\n",
    "  plt.title('Loss')\n",
    "  plt.xlabel('Epochs')\n",
    "  plt.legend()\n",
    "\n",
    "  # Plot accuracy\n",
    "  plt.figure()\n",
    "  plt.plot(epochs, accuracy, label='training_accuracy')\n",
    "  plt.plot(epochs, val_accuracy, label='val_accuracy')\n",
    "  plt.title('Accuracy')\n",
    "  plt.xlabel('Epochs')\n",
    "  plt.legend();"
   ]
  },
  {
   "cell_type": "code",
   "execution_count": 15,
   "metadata": {
    "colab": {
     "base_uri": "https://localhost:8080/",
     "height": 573
    },
    "id": "FWRjx-RzRsZ3",
    "outputId": "baa5145d-4540-48e9-912a-8bd160ee1371"
   },
   "outputs": [
    {
     "data": {
      "image/png": "[encoded data removed]",
      "text/plain": [
       "<Figure size 432x288 with 1 Axes>"
      ]
     },
     "metadata": {
      "needs_background": "light"
     },
     "output_type": "display_data"
    },
    {
     "data": {
      "image/png": "[encoded data removed]",
      "text/plain": [
       "<Figure size 432x288 with 1 Axes>"
      ]
     },
     "metadata": {
      "needs_background": "light"
     },
     "output_type": "display_data"
    }
   ],
   "source": [
    "plot_loss_curves(resnet_history)"
   ]
  },
  {
   "cell_type": "code",
   "execution_count": 17,
   "metadata": {
    "colab": {
     "base_uri": "https://localhost:8080/"
    },
    "id": "CdbI3KdbRu0d",
    "outputId": "ba07bb64-0110-459b-dfa8-4c43b958598a"
   },
   "outputs": [
    {
     "name": "stdout",
     "output_type": "stream",
     "text": [
      "Saving TensorBoard log files to: tensorflow_hub/efficientnetB0/20211123-101655\n",
      "Epoch 1/5\n",
      "24/24 [==============================] - 34s 939ms/step - loss: 1.7951 - accuracy: 0.4853 - val_loss: 1.2352 - val_accuracy: 0.7412\n",
      "Epoch 2/5\n",
      "24/24 [==============================] - 20s 846ms/step - loss: 1.0276 - accuracy: 0.7747 - val_loss: 0.8315 - val_accuracy: 0.8276\n",
      "Epoch 3/5\n",
      "24/24 [==============================] - 25s 1s/step - loss: 0.7376 - accuracy: 0.8493 - val_loss: 0.6777 - val_accuracy: 0.8496\n",
      "Epoch 4/5\n",
      "24/24 [==============================] - 20s 845ms/step - loss: 0.5934 - accuracy: 0.8693 - val_loss: 0.5952 - val_accuracy: 0.8568\n",
      "Epoch 5/5\n",
      "24/24 [==============================] - 20s 848ms/step - loss: 0.5019 - accuracy: 0.8867 - val_loss: 0.5441 - val_accuracy: 0.8664\n"
     ]
    }
   ],
   "source": [
    "efficientnet_model=create_model(efficientnet_url,train_data.num_classes)\n",
    "\n",
    "efficientnet_model.compile(loss='categorical_crossentropy',\n",
    "                           optimizer=tf.keras.optimizers.Adam(),\n",
    "                           metrics=['accuracy'])\n",
    "\n",
    "efficientnet_history=efficientnet_model.fit(train_data,\n",
    "                                            epochs=5,\n",
    "                                            steps_per_epoch=len(train_data),\n",
    "                                            validation_data=test_data,\n",
    "                                            validation_steps=len(test_data),\n",
    "                                            callbacks=[create_tensorboard_callback(dir_name='tensorflow_hub',\n",
    "                                                                                   experiment_name='efficientnetB0')])"
   ]
  },
  {
   "cell_type": "code",
   "execution_count": 18,
   "metadata": {
    "colab": {
     "base_uri": "https://localhost:8080/",
     "height": 573
    },
    "id": "zakF8QCBS9EK",
    "outputId": "6a832209-0d77-4f8c-bea4-d4bb452720b6"
   },
   "outputs": [
    {
     "data": {
      "image/png": "[encoded data removed]",
      "text/plain": [
       "<Figure size 432x288 with 1 Axes>"
      ]
     },
     "metadata": {
      "needs_background": "light"
     },
     "output_type": "display_data"
    },
    {
     "data": {
      "image/png": "[encoded data removed]",
      "text/plain": [
       "<Figure size 432x288 with 1 Axes>"
      ]
     },
     "metadata": {
      "needs_background": "light"
     },
     "output_type": "display_data"
    }
   ],
   "source": [
    "plot_loss_curves(efficientnet_history)"
   ]
  },
  {
   "cell_type": "code",
   "execution_count": 19,
   "metadata": {
    "colab": {
     "base_uri": "https://localhost:8080/"
    },
    "collapsed": true,
    "id": "wzVRtWf4Twpi",
    "outputId": "c9b9b7f8-aace-4d50-8592-8aecfd8457dd"
   },
   "outputs": [
    {
     "name": "stdout",
     "output_type": "stream",
     "text": [
      "\n",
      "***** TensorBoard Uploader *****\n",
      "\n",
      "This will upload your TensorBoard logs to https://tensorboard.dev/ from\n",
      "the following directory:\n",
      "\n",
      "./tensorflow_hub/\n",
      "\n",
      "This TensorBoard will be visible to everyone. Do not upload sensitive\n",
      "data.\n",
      "\n",
      "Your use of this service is subject to Google's Terms of Service\n",
      "<https://policies.google.com/terms> and Privacy Policy\n",
      "<https://policies.google.com/privacy>, and TensorBoard.dev's Terms of Service\n",
      "<https://tensorboard.dev/policy/terms/>.\n",
      "\n",
      "This notice will not be shown again while you are logged into the uploader.\n",
      "To log out, run `tensorboard dev auth revoke`.\n",
      "\n",
      "Continue? (yes/NO) yes\n",
      "\n",
      "Please visit this URL to authorize this application: https://accounts.google.com/o/oauth2/auth?response_type=code&client_id=373649185512-8v619h5kft38l4456nm2dj4ubeqsrvh6.apps.googleusercontent.com&redirect_uri=urn%3Aietf%3Awg%3Aoauth%3A2.0%3Aoob&scope=openid+https%3A%2F%2Fwww.googleapis.com%2Fauth%2Fuserinfo.email&state=dn29kNucqnufnKQAjmVwmbpIgaVh7Y&prompt=consent&access_type=offline\n",
      "Enter the authorization code: 4/1AX4XfWirB95AvyPrH2DFDjUDY7U3afKMsCFIKOzcl6oKdaA_SK4xi8wGaW4\n",
      "\n",
      "\n",
      "New experiment created. View your TensorBoard at: https://tensorboard.dev/experiment/QZ59uQEJRnCYKGTzpGLvKg/\n",
      "\n",
      "\u001b[1m[2021-11-23T10:28:16]\u001b[0m Started scanning logdir.\n",
      "\u001b[1m[2021-11-23T10:28:18]\u001b[0m Total uploaded: 60 scalars, 0 tensors, 2 binary objects (5.5 MB)\n",
      "\u001b[1m[2021-11-23T10:28:18]\u001b[0m Done scanning logdir.\n",
      "\n",
      "\n",
      "Done. View your TensorBoard at https://tensorboard.dev/experiment/QZ59uQEJRnCYKGTzpGLvKg/\n"
     ]
    }
   ],
   "source": [
    "# Upload TensorBoard dev records\n",
    "!tensorboard dev upload --logdir ./tensorflow_hub/ \\\n",
    "  --name \"EfficientNetB0 vs. ResNet50V2\" \\\n",
    "  --description \"Comparing two different TF Hub feature extraction models architectures using 10% of training images\" \\\n",
    "  --one_shot"
   ]
  },
  {
   "cell_type": "code",
   "execution_count": 20,
   "metadata": {
    "colab": {
     "base_uri": "https://localhost:8080/"
    },
    "id": "jz9PBT9NVfs3",
    "outputId": "df62bf4a-3ded-4cd4-c7aa-0e449ca9f947"
   },
   "outputs": [
    {
     "name": "stdout",
     "output_type": "stream",
     "text": [
      "https://tensorboard.dev/experiment/QZ59uQEJRnCYKGTzpGLvKg/\n",
      "\tName                 EfficientNetB0 vs. ResNet50V2\n",
      "\tDescription          Comparing two different TF Hub feature extraction models architectures using 10% of training images\n",
      "\tId                   QZ59uQEJRnCYKGTzpGLvKg\n",
      "\tCreated              2021-11-23 10:28:16 (3 minutes ago)\n",
      "\tUpdated              2021-11-23 10:28:18 (3 minutes ago)\n",
      "\tRuns                 4\n",
      "\tTags                 5\n",
      "\tScalars              60\n",
      "\tTensor bytes         0\n",
      "\tBinary object bytes  5795363\n",
      "Total: 1 experiment(s)\n"
     ]
    }
   ],
   "source": [
    "# Check out experiments\n",
    "!tensorboard dev list"
   ]
  },
  {
   "cell_type": "code",
   "execution_count": null,
   "metadata": {
    "id": "JCv_HuY2WbIN"
   },
   "outputs": [],
   "source": []
  }
 ],
 "metadata": {
  "accelerator": "GPU",
  "colab": {
   "name": "TransferLearning_With_Tensorflow_Feature_Extraction.ipynb",
   "provenance": []
  },
  "kernelspec": {
   "display_name": "Python 3 (ipykernel)",
   "language": "python",
   "name": "python3"
  },
  "language_info": {
   "codemirror_mode": {
    "name": "ipython",
    "version": 3
   },
   "file_extension": ".py",
   "mimetype": "text/x-python",
   "name": "python",
   "nbconvert_exporter": "python",
   "pygments_lexer": "ipython3",
   "version": "3.9.7"
  }
 },
 "nbformat": 4,
 "nbformat_minor": 1
}
